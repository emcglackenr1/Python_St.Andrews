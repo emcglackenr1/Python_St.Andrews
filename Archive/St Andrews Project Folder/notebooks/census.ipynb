{
 "cells": [
  {
   "cell_type": "markdown",
   "id": "super-suspension",
   "metadata": {},
   "source": [
    "# Python for data analysis and visualisation\n",
    "\n",
    "## Online short course at the University of St Andrews\n",
    "\n",
    "## Final assignment\n",
    "\n",
    "### Emma McGlacken Ryan"
   ]
  },
  {
   "cell_type": "code",
   "execution_count": 1,
   "id": "beautiful-hormone",
   "metadata": {},
   "outputs": [],
   "source": [
    "import pandas as pd"
   ]
  },
  {
   "cell_type": "markdown",
   "id": "nominated-keeping",
   "metadata": {},
   "source": [
    "We start with exploring the content of the dataset."
   ]
  },
  {
   "cell_type": "code",
   "execution_count": 2,
   "id": "extra-carry",
   "metadata": {},
   "outputs": [],
   "source": [
    "df = pd.read_csv(\"../data/test full data.csv\")"
   ]
  },
  {
   "cell_type": "code",
   "execution_count": 3,
   "id": "graduate-ethiopia",
   "metadata": {},
   "outputs": [
    {
     "data": {
      "text/html": [
       "<div>\n",
       "<style scoped>\n",
       "    .dataframe tbody tr th:only-of-type {\n",
       "        vertical-align: middle;\n",
       "    }\n",
       "\n",
       "    .dataframe tbody tr th {\n",
       "        vertical-align: top;\n",
       "    }\n",
       "\n",
       "    .dataframe thead th {\n",
       "        text-align: right;\n",
       "    }\n",
       "</style>\n",
       "<table border=\"1\" class=\"dataframe\">\n",
       "  <thead>\n",
       "    <tr style=\"text-align: right;\">\n",
       "      <th></th>\n",
       "      <th>Record_Number</th>\n",
       "      <th>Region</th>\n",
       "      <th>RESIDENCE_TYPE</th>\n",
       "      <th>Family_Composition</th>\n",
       "      <th>sex</th>\n",
       "      <th>age</th>\n",
       "      <th>Marital_Status</th>\n",
       "      <th>student</th>\n",
       "      <th>Country_Of_Birth</th>\n",
       "      <th>health</th>\n",
       "      <th>Ethnic_Group</th>\n",
       "      <th>religion</th>\n",
       "      <th>Economic_Activity</th>\n",
       "      <th>Occupation</th>\n",
       "      <th>industry</th>\n",
       "      <th>Hours_Worked_Per_Week</th>\n",
       "      <th>Approximate_Social_Grade</th>\n",
       "      <th>Unnamed: 17</th>\n",
       "      <th>Unnamed: 18</th>\n",
       "    </tr>\n",
       "  </thead>\n",
       "  <tbody>\n",
       "    <tr>\n",
       "      <th>0</th>\n",
       "      <td>1</td>\n",
       "      <td>2</td>\n",
       "      <td>3</td>\n",
       "      <td>4</td>\n",
       "      <td>5</td>\n",
       "      <td>6</td>\n",
       "      <td>7</td>\n",
       "      <td>8</td>\n",
       "      <td>9</td>\n",
       "      <td>10</td>\n",
       "      <td>11</td>\n",
       "      <td>12</td>\n",
       "      <td>13</td>\n",
       "      <td>14</td>\n",
       "      <td>15</td>\n",
       "      <td>16</td>\n",
       "      <td>17</td>\n",
       "      <td>18</td>\n",
       "      <td>19</td>\n",
       "    </tr>\n",
       "    <tr>\n",
       "      <th>1</th>\n",
       "      <td>2</td>\n",
       "      <td>2</td>\n",
       "      <td>3</td>\n",
       "      <td>4</td>\n",
       "      <td>5</td>\n",
       "      <td>6</td>\n",
       "      <td>7</td>\n",
       "      <td>8</td>\n",
       "      <td>9</td>\n",
       "      <td>10</td>\n",
       "      <td>11</td>\n",
       "      <td>12</td>\n",
       "      <td>13</td>\n",
       "      <td>14</td>\n",
       "      <td>15</td>\n",
       "      <td>16</td>\n",
       "      <td>17</td>\n",
       "      <td>18</td>\n",
       "      <td>19</td>\n",
       "    </tr>\n",
       "    <tr>\n",
       "      <th>2</th>\n",
       "      <td>3</td>\n",
       "      <td>8</td>\n",
       "      <td>9</td>\n",
       "      <td>10</td>\n",
       "      <td>11</td>\n",
       "      <td>12</td>\n",
       "      <td>13</td>\n",
       "      <td>14</td>\n",
       "      <td>15</td>\n",
       "      <td>16</td>\n",
       "      <td>17</td>\n",
       "      <td>18</td>\n",
       "      <td>19</td>\n",
       "      <td>20</td>\n",
       "      <td>21</td>\n",
       "      <td>22</td>\n",
       "      <td>23</td>\n",
       "      <td>24</td>\n",
       "      <td>25</td>\n",
       "    </tr>\n",
       "    <tr>\n",
       "      <th>3</th>\n",
       "      <td>4</td>\n",
       "      <td>11</td>\n",
       "      <td>12</td>\n",
       "      <td>13</td>\n",
       "      <td>14</td>\n",
       "      <td>15</td>\n",
       "      <td>16</td>\n",
       "      <td>17</td>\n",
       "      <td>18</td>\n",
       "      <td>19</td>\n",
       "      <td>20</td>\n",
       "      <td>21</td>\n",
       "      <td>22</td>\n",
       "      <td>23</td>\n",
       "      <td>24</td>\n",
       "      <td>25</td>\n",
       "      <td>25</td>\n",
       "      <td>25</td>\n",
       "      <td>25</td>\n",
       "    </tr>\n",
       "  </tbody>\n",
       "</table>\n",
       "</div>"
      ],
      "text/plain": [
       "   Record_Number  Region  RESIDENCE_TYPE  Family_Composition  sex  age  \\\n",
       "0              1       2               3                   4    5    6   \n",
       "1              2       2               3                   4    5    6   \n",
       "2              3       8               9                  10   11   12   \n",
       "3              4      11              12                  13   14   15   \n",
       "\n",
       "   Marital_Status  student  Country_Of_Birth  health  Ethnic_Group  religion  \\\n",
       "0               7        8                 9      10            11        12   \n",
       "1               7        8                 9      10            11        12   \n",
       "2              13       14                15      16            17        18   \n",
       "3              16       17                18      19            20        21   \n",
       "\n",
       "   Economic_Activity  Occupation  industry  Hours_Worked_Per_Week  \\\n",
       "0                 13          14        15                     16   \n",
       "1                 13          14        15                     16   \n",
       "2                 19          20        21                     22   \n",
       "3                 22          23        24                     25   \n",
       "\n",
       "   Approximate_Social_Grade  Unnamed: 17  Unnamed: 18  \n",
       "0                        17           18           19  \n",
       "1                        17           18           19  \n",
       "2                        23           24           25  \n",
       "3                        25           25           25  "
      ]
     },
     "execution_count": 3,
     "metadata": {},
     "output_type": "execute_result"
    }
   ],
   "source": [
    "df"
   ]
  },
  {
   "cell_type": "markdown",
   "id": "28939c8e-a022-497f-8e14-34f008fb837f",
   "metadata": {},
   "source": [
    "## Reading the data types of the columns"
   ]
  },
  {
   "cell_type": "markdown",
   "id": "dbb9b86c-0cda-4a74-8f19-c2ae4a63b601",
   "metadata": {},
   "source": [
    "pd.read_csv(\"../data/Scotland_teaching_file_1PCT.csv\").dtypes"
   ]
  },
  {
   "cell_type": "markdown",
   "id": "4bc68b73-a4e3-42bd-b59b-679f0648732a",
   "metadata": {},
   "source": [
    "## Determining Unique Values"
   ]
  },
  {
   "cell_type": "markdown",
   "id": "0989ccd2-f8cc-4a6e-b08d-ba3fd13f12cf",
   "metadata": {},
   "source": [
    "### Getting list of columns"
   ]
  },
  {
   "cell_type": "code",
   "execution_count": 4,
   "id": "92e20d89-6aa1-47f2-a230-11c81bc27b58",
   "metadata": {},
   "outputs": [
    {
     "name": "stdout",
     "output_type": "stream",
     "text": [
      "['Record_Number', 'Region', 'RESIDENCE_TYPE', 'Family_Composition', 'sex', 'age', 'Marital_Status', 'student', 'Country_Of_Birth', 'health', 'Ethnic_Group', 'religion', 'Economic_Activity', 'Occupation', 'industry', 'Hours_Worked_Per_Week', 'Approximate_Social_Grade', 'Unnamed: 17', 'Unnamed: 18']\n"
     ]
    }
   ],
   "source": [
    "get_col = list(pd.read_csv(\"../data/test full data.csv\",nrows=1).columns)\n",
    "print(get_col)"
   ]
  },
  {
   "attachments": {},
   "cell_type": "markdown",
   "id": "6bdeb6e2-a412-4275-93cb-f52fafb328ec",
   "metadata": {},
   "source": [
    "### Separate the column headings from the rest of the data, in order to help with duplicate identification\n",
    "Everything has a unique response code so, duplicates won't have a 'Unique reference ID', so duplicate responses will have different IDs, but have the same responese. I therefore removed Record_Number from the columns to be analysed."
   ]
  },
  {
   "cell_type": "code",
   "execution_count": 5,
   "id": "baba7776-a1e5-4c26-a563-7015896bf8a7",
   "metadata": {},
   "outputs": [],
   "source": [
    "responses = pd.read_csv(\"../data/test full data.csv\", skiprows=1)"
   ]
  },
  {
   "cell_type": "code",
   "execution_count": 6,
   "id": "ee42014b-4596-491e-8b5c-e0740ba1c662",
   "metadata": {},
   "outputs": [
    {
     "name": "stdout",
     "output_type": "stream",
     "text": [
      "   1   2   3   4   5   6   7   8   9  10  11  12  13  14  15  16  17  18  19\n",
      "0  2   2   3   4   5   6   7   8   9  10  11  12  13  14  15  16  17  18  19\n",
      "1  3   8   9  10  11  12  13  14  15  16  17  18  19  20  21  22  23  24  25\n",
      "2  4  11  12  13  14  15  16  17  18  19  20  21  22  23  24  25  25  25  25\n"
     ]
    }
   ],
   "source": [
    "print(responses)"
   ]
  },
  {
   "cell_type": "code",
   "execution_count": 7,
   "id": "21f93230-df02-4162-b54f-13f72d3ecc89",
   "metadata": {},
   "outputs": [],
   "source": [
    "duplicate = df.duplicated"
   ]
  },
  {
   "cell_type": "code",
   "execution_count": 8,
   "id": "da8f9338-c286-44f0-83ef-5a3884d3b5a4",
   "metadata": {},
   "outputs": [],
   "source": [
    "file_df = pd.read_csv(\"../data/test full data.csv\")"
   ]
  },
  {
   "cell_type": "markdown",
   "id": "79ba1ded-e21e-459c-924a-49bcb435b5b9",
   "metadata": {},
   "source": [
    "\n",
    "# Keep only FIRST record from set of duplicates\n",
    "file_df_first_record = file_df.drop_duplicates(subset=[\"Record_Number\",\"Region\", \"RESIDENCE_TYPE\", \"Family_Composition\", \"sex\", \"age\", \"Marital_Status\", \"student\", \"Country_Of_Birth\", \"health\", \"Ethnic_Group\", \"religion\", \"Economic_Activity\", \"Occupation\", \"industry\", \"Hours_Worked_Per_Week\", \"Approximate_Social_Grade\"], keep=\"first\")\n",
    "file_df_first_record.to_csv(\"../data/Scotland_teaching_file_1PCT.csv\", index=False)"
   ]
  },
  {
   "cell_type": "code",
   "execution_count": 9,
   "id": "f1adf9ab-9624-41df-89cf-46013d4b2cfb",
   "metadata": {},
   "outputs": [],
   "source": [
    "duplicate_row_index = file_df.duplicated(subset=[\"Region\", \"RESIDENCE_TYPE\", \"Family_Composition\", \"sex\", \"age\", \"Marital_Status\", \"student\", \"Country_Of_Birth\", \"health\", \"Ethnic_Group\", \"religion\", \"Economic_Activity\", \"Occupation\", \"industry\", \"Hours_Worked_Per_Week\", \"Approximate_Social_Grade\"], keep=\"first\")\n",
    "all_duplicate_rows = file_df[duplicate_row_index]\n",
    "duplicate_rows = all_duplicate_rows.drop_duplicates(subset=[\"Region\", \"RESIDENCE_TYPE\", \"Family_Composition\", \"sex\", \"age\", \"Marital_Status\", \"student\", \"Country_Of_Birth\", \"health\", \"Ethnic_Group\", \"religion\", \"Economic_Activity\", \"Occupation\", \"industry\", \"Hours_Worked_Per_Week\", \"Approximate_Social_Grade\"], keep=\"first\")\n",
    "duplicate_rows.to_csv(\"../data/Duplicates.csv\", index=False)"
   ]
  },
  {
   "cell_type": "code",
   "execution_count": 10,
   "id": "64c92615-9d99-4b3d-85ae-302e7b8456e4",
   "metadata": {},
   "outputs": [],
   "source": [
    "# Remove ALL records of a set of duplicates\n",
    "file_df_remove_all = file_df.drop_duplicates(subset=[\"Region\", \"RESIDENCE_TYPE\", \"Family_Composition\", \"sex\", \"age\", \"Marital_Status\", \"student\", \"Country_Of_Birth\", \"health\", \"Ethnic_Group\", \"religion\", \"Economic_Activity\", \"Occupation\", \"industry\", \"Hours_Worked_Per_Week\", \"Approximate_Social_Grade\"], keep=False)\n",
    "file_df_remove_all.to_csv(\"Duplicates_All_Removed.csv\", index=False)"
   ]
  },
  {
   "cell_type": "code",
   "execution_count": null,
   "id": "30e2ef42-c2e2-46a7-85d6-a153a929bdd9",
   "metadata": {},
   "outputs": [],
   "source": []
  }
 ],
 "metadata": {
  "kernelspec": {
   "display_name": "Python 3 (ipykernel)",
   "language": "python",
   "name": "python3"
  },
  "language_info": {
   "codemirror_mode": {
    "name": "ipython",
    "version": 3
   },
   "file_extension": ".py",
   "mimetype": "text/x-python",
   "name": "python",
   "nbconvert_exporter": "python",
   "pygments_lexer": "ipython3",
   "version": "3.12.3"
  }
 },
 "nbformat": 4,
 "nbformat_minor": 5
}
