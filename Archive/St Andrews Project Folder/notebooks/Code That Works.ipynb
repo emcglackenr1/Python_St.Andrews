{
 "cells": [
  {
   "cell_type": "code",
   "execution_count": 1,
   "id": "83d21634-50d3-40ec-af3d-32317a0f9868",
   "metadata": {},
   "outputs": [],
   "source": [
    "##Full compilation of code that works"
   ]
  },
  {
   "cell_type": "code",
   "execution_count": 2,
   "id": "55150a67-e6f3-4773-8718-bd747af4745a",
   "metadata": {},
   "outputs": [],
   "source": [
    "import pandas as pd\n",
    "df = pd.read_csv('Scotland_teaching_file_1PCT.csv')"
   ]
  },
  {
   "cell_type": "code",
   "execution_count": 3,
   "id": "5c8fd761-859a-460f-9c2d-25568dbfd787",
   "metadata": {},
   "outputs": [
    {
     "name": "stdout",
     "output_type": "stream",
     "text": [
      "['Record_Number', 'Region', 'RESIDENCE_TYPE', 'Family_Composition', 'sex', 'age', 'Marital_Status', 'student', 'Country_Of_Birth', 'health', 'Ethnic_Group', 'religion', 'Economic_Activity', 'Occupation', 'industry', 'Hours_Worked_Per_Week', 'Approximate_Social_Grade']\n"
     ]
    }
   ],
   "source": [
    "##Get list of column names\n",
    "get_col = list(pd.read_csv(\"../data/Scotland_teaching_file_1PCT.csv\",nrows=1).columns)\n",
    "print(get_col)"
   ]
  },
  {
   "cell_type": "code",
   "execution_count": 6,
   "id": "dbfdcc67-d715-466d-a9c5-51162084ccbf",
   "metadata": {},
   "outputs": [],
   "source": [
    "col1 = 'Record_Number' \n",
    "col2 = 'Region'\n",
    "col3 = 'RESIDENCE_TYPE'\n",
    "col4 = 'Family_Composition'\n",
    "col5 = 'sex'\n",
    "col6 = 'age'\n",
    "col7 = 'Marital_Status'\n",
    "col8 = 'student'\n",
    "col9 = 'Country_Of_Birth'\n",
    "col10 = 'health'\n",
    "col11 = 'Ethnic_Group'\n",
    "col12 = 'religion'\n",
    "col13 = 'Economic_Activity'\n",
    "col14 = 'Occupation'\n",
    "col15 = 'industry'\n",
    "col16 = 'Hours_Worked_Per_Week'\n",
    "col17 = 'Approximate_Social_Grade'"
   ]
  },
  {
   "cell_type": "code",
   "execution_count": 7,
   "id": "31f504d2-6a78-4dcd-9844-e1926be711a0",
   "metadata": {},
   "outputs": [
    {
     "name": "stdout",
     "output_type": "stream",
     "text": [
      "{'Record_Number': array([    1,     2,     3, ..., 63386, 63387, 63388], dtype=int64), 'Region': array(['S92000003'], dtype=object), 'RESIDENCE_TYPE': array(['P', 'C'], dtype=object), 'Family_Composition': array(['1', '0', '4', '2', '5', '3', 'X'], dtype=object), 'sex': array([1, 2], dtype=int64), 'age': array([4, 3, 6, 5, 1, 2, 7, 8], dtype=int64), 'Marital_Status': array([2, 1, 4, 3, 5], dtype=int64), 'student': array([2, 1], dtype=int64), 'Country_Of_Birth': array([2, 1], dtype=int64), 'health': array([2, 3, 1, 4, 5], dtype=int64), 'Ethnic_Group': array([1, 2, 4, 3, 6, 5], dtype=int64), 'religion': array([5, 1, 2, 9, 6, 8, 4, 7, 3], dtype=int64), 'Economic_Activity': array(['1', 'X', '5', '6', '9', '4', '2', '7', '3', '8'], dtype=object), 'Occupation': array(['5', '1', '4', '2', '3', '9', 'X', '8', '6', '7'], dtype=object), 'industry': array(['5', '8', '11', '9', 'X', '2', '4', '6', '7', '10', '3', '12',\n",
      "       '13', '1'], dtype=object), 'Hours_Worked_Per_Week': array(['4', '3', '2', 'X', '1'], dtype=object), 'Approximate_Social_Grade': array(['3', '2', '4', 'X', '1'], dtype=object)}\n"
     ]
    }
   ],
   "source": [
    "unique_values = {col: df[col].unique() for col in [col1 ,\tcol2 ,\tcol3 ,\tcol4 ,\tcol5,\tcol6,\tcol7,\tcol8,\tcol9,\tcol10,\tcol11,\tcol12,\tcol13,\tcol14,\tcol15,\tcol16,\tcol17,\n",
    "]}\n",
    "print(unique_values)"
   ]
  },
  {
   "cell_type": "markdown",
   "id": "eca79153-a9aa-4e17-831c-76e3fbbabdbd",
   "metadata": {},
   "source": [
    "## Output put onto separate lines to be more legible:\n",
    "### You can see the data type and that many are objects.\n",
    "\n",
    "'Record_Number': array([    1,     2,     3, ..., 63386, 63387, 63388], dtype=int64), \n",
    "'Region': array(['S92000003'], dtype=object),\n",
    "'RESIDENCE_TYPE': array(['P', 'C'], dtype=object), \n",
    "'Family_Composition': array(['1', '0', '4', '2', '5', '3', 'X'], dtype=object), \n",
    "'sex': array([1, 2], dtype=int64), \n",
    "'age': array([4, 3, 6, 5, 1, 2, 7, 8], dtype=int64), \n",
    "'Marital_Status': array([2, 1, 4, 3, 5], dtype=int64), \n",
    "'student': array([2, 1], dtype=int64), \n",
    "'Country_Of_Birth': array([2, 1], dtype=int64), \n",
    "'health': array([2, 3, 1, 4, 5], dtype=int64), \n",
    "'Ethnic_Group': array([1, 2, 4, 3, 6, 5], dtype=int64), \n",
    "'religion': array([5, 1, 2, 9, 6, 8, 4, 7, 3], dtype=int64), \n",
    "'Economic_Activity': array(['1', 'X', '5', '6', '9', '4', '2', '7', '3', '8'], dtype=object), 'Occupation': array(['5', '1', '4', '2', '3', '9', 'X', '8', '6', '7'], dtype=object), \n",
    "'industry': array(['5', '8', '11', '9', 'X', '2', '4', '6', '7', '10', '3', '12',\n",
    "       '13', '1'], dtype=object), \n",
    "'Hours_Worked_Per_Week': array(['4', '3', '2', 'X', '1'], dtype=object), \n",
    "'Approximate_Social_Grade': array(['3', '2', '4', 'X', '1'], dtype=object)}"
   ]
  },
  {
   "cell_type": "markdown",
   "id": "cfc9e384-3b8b-417b-88ea-f738e7768a09",
   "metadata": {},
   "source": [
    "#### For many reasons in data science it is better for objects to be strings. It would make more sense for data with a combination of numbers and the letter X to be a string. So I converted these variables to strings. \n",
    "\n",
    "Steps:\n",
    "Type of data in column before converting\n",
    "df['Column Name'].dtype\n",
    "\n",
    "Convert column 'Column Name' from object to string\n",
    "\n",
    "Check data type of 'Column Name' after converting to check it was successful"
   ]
  },
  {
   "cell_type": "code",
   "execution_count": 11,
   "id": "3b3965a8-3fd0-4550-bdc2-56d854c18fd2",
   "metadata": {},
   "outputs": [
    {
     "data": {
      "text/plain": [
       "dtype('O')"
      ]
     },
     "execution_count": 11,
     "metadata": {},
     "output_type": "execute_result"
    }
   ],
   "source": [
    "df['Region'].dtype"
   ]
  },
  {
   "cell_type": "code",
   "execution_count": null,
   "id": "74d62db0-f45d-40fe-b871-7b3cdd60e1ed",
   "metadata": {},
   "outputs": [],
   "source": []
  }
 ],
 "metadata": {
  "kernelspec": {
   "display_name": "Python 3 (ipykernel)",
   "language": "python",
   "name": "python3"
  },
  "language_info": {
   "codemirror_mode": {
    "name": "ipython",
    "version": 3
   },
   "file_extension": ".py",
   "mimetype": "text/x-python",
   "name": "python",
   "nbconvert_exporter": "python",
   "pygments_lexer": "ipython3",
   "version": "3.12.3"
  }
 },
 "nbformat": 4,
 "nbformat_minor": 5
}
