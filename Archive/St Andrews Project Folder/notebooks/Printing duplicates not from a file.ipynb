{
 "cells": [
  {
   "cell_type": "code",
   "execution_count": 1,
   "id": "1074083a-df20-43ea-96b5-835afeb4666b",
   "metadata": {},
   "outputs": [
    {
     "name": "stdout",
     "output_type": "stream",
     "text": [
      "Duplicate Rows :\n"
     ]
    },
    {
     "data": {
      "text/html": [
       "<div>\n",
       "<style scoped>\n",
       "    .dataframe tbody tr th:only-of-type {\n",
       "        vertical-align: middle;\n",
       "    }\n",
       "\n",
       "    .dataframe tbody tr th {\n",
       "        vertical-align: top;\n",
       "    }\n",
       "\n",
       "    .dataframe thead th {\n",
       "        text-align: right;\n",
       "    }\n",
       "</style>\n",
       "<table border=\"1\" class=\"dataframe\">\n",
       "  <thead>\n",
       "    <tr style=\"text-align: right;\">\n",
       "      <th></th>\n",
       "      <th>Name</th>\n",
       "      <th>Age</th>\n",
       "      <th>City</th>\n",
       "    </tr>\n",
       "  </thead>\n",
       "  <tbody>\n",
       "    <tr>\n",
       "      <th>1</th>\n",
       "      <td>Saumya</td>\n",
       "      <td>32</td>\n",
       "      <td>Delhi</td>\n",
       "    </tr>\n",
       "    <tr>\n",
       "      <th>3</th>\n",
       "      <td>Saumya</td>\n",
       "      <td>32</td>\n",
       "      <td>Delhi</td>\n",
       "    </tr>\n",
       "  </tbody>\n",
       "</table>\n",
       "</div>"
      ],
      "text/plain": [
       "     Name  Age   City\n",
       "1  Saumya   32  Delhi\n",
       "3  Saumya   32  Delhi"
      ]
     },
     "execution_count": 1,
     "metadata": {},
     "output_type": "execute_result"
    }
   ],
   "source": [
    "import pandas as pd\n",
    " \n",
    "# List of Tuples\n",
    "employees = [('Stuti', 28, 'Varanasi'),\n",
    "             ('Saumya', 32, 'Delhi'),\n",
    "             ('Aaditya', 25, 'Mumbai'),\n",
    "             ('Saumya', 32, 'Delhi'),\n",
    "             ('Saumya', 32, 'Delhi'),\n",
    "             ('Saumya', 32, 'Mumbai'),\n",
    "             ('Aaditya', 40, 'Dehradun'),\n",
    "             ('Seema', 32, 'Delhi')\n",
    "             ]\n",
    " \n",
    "# Creating a DataFrame object\n",
    "df = pd.DataFrame(employees,\n",
    "                  columns=['Name', 'Age', 'City'])\n",
    " \n",
    "# Selecting duplicate rows except last\n",
    "# occurrence based on all columns.\n",
    "duplicate = df[df.duplicated(keep='last')]\n",
    " \n",
    "print(\"Duplicate Rows :\")\n",
    " \n",
    "# Print the resultant Dataframe\n",
    "duplicate"
   ]
  },
  {
   "cell_type": "code",
   "execution_count": 2,
   "id": "761859e7-4ae5-490b-9f03-a00eceaf5f2d",
   "metadata": {},
   "outputs": [
    {
     "name": "stdout",
     "output_type": "stream",
     "text": [
      "Duplicate Rows :\n",
      "     Name  Age   City\n",
      "1  Saumya   32  Delhi\n",
      "3  Saumya   32  Delhi\n"
     ]
    }
   ],
   "source": [
    "# List to keep track of duplicates\n",
    "duplicate_indices = []\n",
    "\n",
    "# Iterate through DataFrame rows\n",
    "for i in range(len(df)):\n",
    "    for j in range(i + 1, len(df)):\n",
    "        if df.iloc[i].equals(df.iloc[j]):\n",
    "            duplicate_indices.append(i)\n",
    "            break\n",
    "\n",
    "# Remove the last occurrence from the duplicates list\n",
    "last_duplicate_indices = set()\n",
    "for idx in duplicate_indices:\n",
    "    # Check if it's the last occurrence\n",
    "    if not any((df.iloc[idx] == df.iloc[idx + 1:]).all(axis=1)):\n",
    "        last_duplicate_indices.add(idx)\n",
    "\n",
    "# Create a DataFrame for duplicates excluding the last occurrence\n",
    "duplicate = df.loc[duplicate_indices].drop(last_duplicate_indices)\n",
    "\n",
    "print(\"Duplicate Rows :\")\n",
    "print(duplicate)"
   ]
  },
  {
   "cell_type": "code",
   "execution_count": null,
   "id": "d3612e03-835a-4629-92b8-da699da3bafd",
   "metadata": {},
   "outputs": [],
   "source": []
  }
 ],
 "metadata": {
  "kernelspec": {
   "display_name": "Python 3 (ipykernel)",
   "language": "python",
   "name": "python3"
  },
  "language_info": {
   "codemirror_mode": {
    "name": "ipython",
    "version": 3
   },
   "file_extension": ".py",
   "mimetype": "text/x-python",
   "name": "python",
   "nbconvert_exporter": "python",
   "pygments_lexer": "ipython3",
   "version": "3.12.3"
  }
 },
 "nbformat": 4,
 "nbformat_minor": 5
}
