{
 "cells": [
  {
   "cell_type": "markdown",
   "id": "62af575d-c726-42d7-bb36-30fbd1a1b96f",
   "metadata": {},
   "source": [
    "# Testing Solutions"
   ]
  },
  {
   "cell_type": "markdown",
   "id": "adbad77a-79aa-43fe-9bb6-6e47e5749d6f",
   "metadata": {},
   "source": [
    "Testing actual solutions to this"
   ]
  },
  {
   "cell_type": "code",
   "execution_count": 1,
   "id": "7ba35a96-d692-4182-8f0b-705eb384f862",
   "metadata": {},
   "outputs": [],
   "source": [
    "import pandas as pd\n",
    "import numpy as n"
   ]
  },
  {
   "cell_type": "code",
   "execution_count": 2,
   "id": "2b76b94d-0d42-47e0-a4ac-b36c5580dcd0",
   "metadata": {},
   "outputs": [],
   "source": [
    "file_name = 'Test data to compare variables.csv'"
   ]
  },
  {
   "cell_type": "code",
   "execution_count": 3,
   "id": "080ffc38-c860-4c08-a7bd-137538c39135",
   "metadata": {},
   "outputs": [],
   "source": [
    "df = pd.read_csv('Test data to compare variables.csv')"
   ]
  },
  {
   "cell_type": "code",
   "execution_count": 4,
   "id": "3100e162-1907-4b2a-8d32-896f750c35e0",
   "metadata": {},
   "outputs": [],
   "source": [
    "file_name = 'Test data to compare variables.csv' \n",
    "df = pd.read_csv(file_name)"
   ]
  },
  {
   "cell_type": "code",
   "execution_count": 5,
   "id": "be532c96-2198-4051-84bb-b4f30801d6ba",
   "metadata": {},
   "outputs": [],
   "source": [
    "col1 = 'Colour'\n",
    "col2 = 'Animal'\n",
    "col3 = 'Food'\n",
    "col4 = 'Number'"
   ]
  },
  {
   "cell_type": "code",
   "execution_count": 6,
   "id": "6b374890-6e6f-4e50-9b16-05335c1a6afa",
   "metadata": {},
   "outputs": [
    {
     "name": "stdout",
     "output_type": "stream",
     "text": [
      "{'Colour': array(['Red', 'Black', 'Brown', 'White', 'Green', 'Other'], dtype=object), 'Animal': array(['Panda', 'Cow', 'Rabbit', 'Lizard', 'Starling', 'Other'],\n",
      "      dtype=object), 'Food': array(['Leaves', 'Bamboo', 'Grass', 'Insects', 'Other'], dtype=object), 'Number': array([3, 2, 4, 1, 5, 0], dtype=int64)}\n"
     ]
    }
   ],
   "source": [
    "unique_values = {col: df[col].unique() for col in [col1 ,\tcol2 ,\tcol3 ,\tcol4\n",
    "]}\n",
    "print(unique_values)"
   ]
  },
  {
   "cell_type": "code",
   "execution_count": 7,
   "id": "775df475-e464-4ce0-95c7-a29e1bde3f6a",
   "metadata": {},
   "outputs": [
    {
     "name": "stdout",
     "output_type": "stream",
     "text": [
      "{'Colour': array(['Red', 'Black', 'Brown', 'White', 'Green', 'Other'], dtype=object), 'Animal': array(['Panda', 'Cow', 'Rabbit', 'Lizard', 'Starling', 'Other'],\n",
      "      dtype=object), 'Food': array(['Leaves', 'Bamboo', 'Grass', 'Insects', 'Other'], dtype=object), 'Number': array([3, 2, 4, 1, 5, 0], dtype=int64)}\n"
     ]
    }
   ],
   "source": [
    "print(unique_values)"
   ]
  },
  {
   "cell_type": "code",
   "execution_count": 8,
   "id": "bc3ff291-43b6-4853-9033-ed12d1eb552d",
   "metadata": {},
   "outputs": [],
   "source": [
    "guidefile_name = 'Test Data Guidance.csv' \n",
    "df = pd.read_csv(guidefile_name)"
   ]
  },
  {
   "cell_type": "code",
   "execution_count": 9,
   "id": "f0217b9e-6707-4d9a-b882-b21f2b871b0b",
   "metadata": {},
   "outputs": [],
   "source": [
    "colA = 'Colour'\n",
    "colB = 'Animal'\n",
    "colC = 'Food'\n",
    "colD = 'Number'"
   ]
  },
  {
   "cell_type": "code",
   "execution_count": 10,
   "id": "521d811d-d26b-4af5-89a7-78462c4cabfb",
   "metadata": {},
   "outputs": [
    {
     "name": "stdout",
     "output_type": "stream",
     "text": [
      "{'Colour': array(['Red', 'Black', 'Green', 'Brown', 'White'], dtype=object), 'Animal': array(['Panda', 'Cow', 'Rabbit', 'Lizard', 'Starling'], dtype=object), 'Food': array(['Leaves', 'Bamboo', 'Grass', 'Insects', nan], dtype=object), 'Number': array([1, 2, 3, 4, 5], dtype=int64)}\n"
     ]
    }
   ],
   "source": [
    "unique_values = {col: df[col].unique() for col in [colA,\tcolB ,\tcolC ,\tcolD\n",
    "]}\n",
    "print(unique_values)"
   ]
  },
  {
   "cell_type": "code",
   "execution_count": 11,
   "id": "805c291c-adf5-4c71-b77c-069c952232a3",
   "metadata": {},
   "outputs": [
    {
     "name": "stdout",
     "output_type": "stream",
     "text": [
      "[]\n",
      "['Other']\n"
     ]
    }
   ],
   "source": [
    "import numpy as np\n",
    "\n",
    "colA = np.array(['Red', 'Black', 'Green', 'Brown', 'White'])\n",
    "col1 = np.array(['Red', 'Black', 'Brown', 'White', 'Green', 'Other'])\n",
    "\n",
    "print(np.setdiff1d(colA, col1))\n",
    "\n",
    "print(np.setdiff1d(col1, colA))"
   ]
  },
  {
   "cell_type": "code",
   "execution_count": 12,
   "id": "f5004029-7851-49c8-94a0-64db140c93d8",
   "metadata": {},
   "outputs": [
    {
     "name": "stdout",
     "output_type": "stream",
     "text": [
      "[]\n",
      "extra variable:\n",
      "['Other']\n"
     ]
    }
   ],
   "source": [
    "print(np.setdiff1d(colA, col1))\n",
    "\n",
    "print ('extra variable:')\n",
    "#the variable printed is from the first set mentioned\n",
    "print(np.setdiff1d(col1, colA))"
   ]
  },
  {
   "cell_type": "code",
   "execution_count": 13,
   "id": "2c83b42a-9734-41ed-a3af-1ef21a1c9036",
   "metadata": {},
   "outputs": [
    {
     "data": {
      "text/plain": [
       "numpy.ndarray"
      ]
     },
     "execution_count": 13,
     "metadata": {},
     "output_type": "execute_result"
    }
   ],
   "source": [
    "type(colA)\n"
   ]
  },
  {
   "cell_type": "code",
   "execution_count": 14,
   "id": "9cf9c5d4-1053-4745-80a1-fb50865c127a",
   "metadata": {},
   "outputs": [],
   "source": [
    "import pandas as pd"
   ]
  },
  {
   "cell_type": "code",
   "execution_count": 15,
   "id": "fe03d039-7047-43f2-bf25-ee2a2e9006f0",
   "metadata": {},
   "outputs": [
    {
     "name": "stdout",
     "output_type": "stream",
     "text": [
      "Colour\n",
      "Brown    2\n",
      "Red      1\n",
      "Black    1\n",
      "White    1\n",
      "Green    1\n",
      "Other    1\n",
      "Name: count, dtype: int64\n"
     ]
    }
   ],
   "source": [
    "# Read the CSV file\n",
    "df = pd.read_csv('Test data to compare variables.csv')\n",
    "\n",
    "# Count the occurrences of each value in the specified column\n",
    "value_counts = df['Colour'].value_counts()\n",
    "\n",
    "print(value_counts)"
   ]
  },
  {
   "cell_type": "markdown",
   "id": "534669ed-2d4c-4d62-a1a6-ba7ee831a501",
   "metadata": {},
   "source": [
    "s = pd.read_csv('Test data to compare variables.csv', header=0, index_col=False)[2]\n",
    "s.value_counts()"
   ]
  },
  {
   "cell_type": "markdown",
   "id": "f9653306-3f79-4f6b-ae4c-91b1e37b3009",
   "metadata": {},
   "source": [
    "## Data Visualisation"
   ]
  },
  {
   "cell_type": "code",
   "execution_count": 16,
   "id": "89a7bbf5-b79b-4495-9926-8f60e733da04",
   "metadata": {},
   "outputs": [],
   "source": [
    "import matplotlib.pyplot as plt "
   ]
  },
  {
   "cell_type": "code",
   "execution_count": 17,
   "id": "61496704-23fe-482a-b15a-51427859fb38",
   "metadata": {},
   "outputs": [
    {
     "data": {
      "image/png": "[encoded data removed]",
      "text/plain": [
       "<Figure size 1000x500 with 1 Axes>"
      ]
     },
     "metadata": {},
     "output_type": "display_data"
    }
   ],
   "source": [
    "# creating the dataset\n",
    "data = {'Brown':2,\n",
    "'Red':1,\n",
    "'Black':1,\n",
    "'White':1,\n",
    "'Green':1,\n",
    "'Other':1}\n",
    "colours = list(data.keys())\n",
    "values = list(data.values())\n",
    "  \n",
    "fig = plt.figure(figsize = (10, 5))\n",
    " \n",
    "# creating the bar plot\n",
    "plt.bar(colours, values, color ='blue', \n",
    "        width = 0.5)\n",
    " \n",
    "plt.xlabel(\"colours\")\n",
    "plt.ylabel(\"No. of animals this colour\")\n",
    "plt.title(\"Colour of animals in this survey\")\n",
    "plt.show()"
   ]
  },
  {
   "cell_type": "code",
   "execution_count": 23,
   "id": "4753c826-ce4e-460c-bc1c-26484873ca2e",
   "metadata": {},
   "outputs": [
    {
     "data": {
      "text/html": [
       "<div>\n",
       "<style scoped>\n",
       "    .dataframe tbody tr th:only-of-type {\n",
       "        vertical-align: middle;\n",
       "    }\n",
       "\n",
       "    .dataframe tbody tr th {\n",
       "        vertical-align: top;\n",
       "    }\n",
       "\n",
       "    .dataframe thead th {\n",
       "        text-align: right;\n",
       "    }\n",
       "</style>\n",
       "<table border=\"1\" class=\"dataframe\">\n",
       "  <thead>\n",
       "    <tr style=\"text-align: right;\">\n",
       "      <th></th>\n",
       "      <th>Colour</th>\n",
       "      <th>Animal</th>\n",
       "      <th>Food</th>\n",
       "      <th>Number</th>\n",
       "    </tr>\n",
       "  </thead>\n",
       "  <tbody>\n",
       "    <tr>\n",
       "      <th>0</th>\n",
       "      <td>Red</td>\n",
       "      <td>Panda</td>\n",
       "      <td>Leaves</td>\n",
       "      <td>3</td>\n",
       "    </tr>\n",
       "    <tr>\n",
       "      <th>1</th>\n",
       "      <td>Black</td>\n",
       "      <td>Panda</td>\n",
       "      <td>Bamboo</td>\n",
       "      <td>2</td>\n",
       "    </tr>\n",
       "    <tr>\n",
       "      <th>2</th>\n",
       "      <td>Grey</td>\n",
       "      <td>Cow</td>\n",
       "      <td>Grass</td>\n",
       "      <td>4</td>\n",
       "    </tr>\n",
       "    <tr>\n",
       "      <th>3</th>\n",
       "      <td>White</td>\n",
       "      <td>Rabbit</td>\n",
       "      <td>Grass</td>\n",
       "      <td>1</td>\n",
       "    </tr>\n",
       "    <tr>\n",
       "      <th>4</th>\n",
       "      <td>Green</td>\n",
       "      <td>Lizard</td>\n",
       "      <td>Insects</td>\n",
       "      <td>3</td>\n",
       "    </tr>\n",
       "    <tr>\n",
       "      <th>5</th>\n",
       "      <td>Grey</td>\n",
       "      <td>Starling</td>\n",
       "      <td>Insects</td>\n",
       "      <td>5</td>\n",
       "    </tr>\n",
       "    <tr>\n",
       "      <th>6</th>\n",
       "      <td>Other</td>\n",
       "      <td>Other</td>\n",
       "      <td>Other</td>\n",
       "      <td>0</td>\n",
       "    </tr>\n",
       "  </tbody>\n",
       "</table>\n",
       "</div>"
      ],
      "text/plain": [
       "  Colour    Animal     Food  Number\n",
       "0    Red     Panda   Leaves       3\n",
       "1  Black     Panda   Bamboo       2\n",
       "2   Grey       Cow    Grass       4\n",
       "3  White    Rabbit    Grass       1\n",
       "4  Green    Lizard  Insects       3\n",
       "5   Grey  Starling  Insects       5\n",
       "6  Other     Other    Other       0"
      ]
     },
     "execution_count": 23,
     "metadata": {},
     "output_type": "execute_result"
    }
   ],
   "source": [
    "df.replace(\"Brown\", \n",
    "           \"Grey\", \n",
    "           inplace=True)\n",
    "df"
   ]
  },
  {
   "cell_type": "code",
   "execution_count": 20,
   "id": "6a8e522c-86c5-494e-b517-cfe4c5ac7f54",
   "metadata": {},
   "outputs": [
    {
     "name": "stdout",
     "output_type": "stream",
     "text": [
      "Colour\n",
      "Brown    2\n",
      "Red      1\n",
      "Black    1\n",
      "White    1\n",
      "Green    1\n",
      "Other    1\n",
      "Name: count, dtype: int64\n"
     ]
    }
   ],
   "source": [
    "print(value_counts)"
   ]
  },
  {
   "cell_type": "code",
   "execution_count": 26,
   "id": "44f63d6b-e308-426e-88f3-b24fb0932116",
   "metadata": {},
   "outputs": [
    {
     "name": "stdout",
     "output_type": "stream",
     "text": [
      "   A     B       C\n",
      "0  0   foo   green\n",
      "1  1   bar     red\n",
      "2  2  bloo    blue\n",
      "3  3  blee  yellow\n",
      "4  4  bloo   green\n",
      "    A     B       C\n",
      "0  42   foo   green\n",
      "1   1   bar     red\n",
      "2   2  vloo    blue\n",
      "3  33  blee  yellow\n",
      "4   4  vloo   green\n"
     ]
    }
   ],
   "source": [
    "df = pd.DataFrame({'A': [0, 1, 2, 3, 4],\n",
    "                   'B': ['foo', 'bar', 'bloo', 'blee', 'bloo'],\n",
    "                   'C': ['green', 'red', 'blue', 'yellow', 'green']})\n",
    "\n",
    "print(df)\n",
    "\n",
    "df.replace(to_replace={\"A\": {0: 42, 3: 33}, 'B': {'bloo': 'vloo'}},\n",
    "           inplace=True)\n",
    "print(df)"
   ]
  },
  {
   "cell_type": "code",
   "execution_count": 27,
   "id": "d62cb663-347b-4a30-8086-f477b2bda523",
   "metadata": {},
   "outputs": [
    {
     "data": {
      "image/png": "[encoded data removed]",
      "text/plain": [
       "<Figure size 640x480 with 1 Axes>"
      ]
     },
     "metadata": {},
     "output_type": "display_data"
    }
   ],
   "source": [
    "first = [1, 2, 4, 5, 4]\n",
    "second = [3, 4, 2, 2, 3]\n",
    "plt.plot(first, 'g--', second, 'r--')\n",
    "plt.legend(['First List', 'Second List'], loc='upper left')\n",
    "plt.show()"
   ]
  },
  {
   "cell_type": "code",
   "execution_count": 28,
   "id": "3fbe229b-824a-4445-a3ee-b992bb86c947",
   "metadata": {},
   "outputs": [
    {
     "ename": "SyntaxError",
     "evalue": "invalid syntax. Perhaps you forgot a comma? (2348873080.py, line 3)",
     "output_type": "error",
     "traceback": [
      "\u001b[1;36m  Cell \u001b[1;32mIn[28], line 3\u001b[1;36m\u001b[0m\n\u001b[1;33m    Y=[5 18 56];\u001b[0m\n\u001b[1;37m       ^\u001b[0m\n\u001b[1;31mSyntaxError\u001b[0m\u001b[1;31m:\u001b[0m invalid syntax. Perhaps you forgot a comma?\n"
     ]
    }
   ],
   "source": []
  },
  {
   "cell_type": "code",
   "execution_count": null,
   "id": "e7b9b7d9-0d73-4eed-b1ee-4bce3477961e",
   "metadata": {},
   "outputs": [],
   "source": []
  }
 ],
 "metadata": {
  "kernelspec": {
   "display_name": "Python 3 (ipykernel)",
   "language": "python",
   "name": "python3"
  },
  "language_info": {
   "codemirror_mode": {
    "name": "ipython",
    "version": 3
   },
   "file_extension": ".py",
   "mimetype": "text/x-python",
   "name": "python",
   "nbconvert_exporter": "python",
   "pygments_lexer": "ipython3",
   "version": "3.12.3"
  }
 },
 "nbformat": 4,
 "nbformat_minor": 5
}
