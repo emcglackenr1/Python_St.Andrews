{
 "cells": [
  {
   "cell_type": "code",
   "execution_count": 1,
   "id": "ddfe781d-df69-4eab-8914-0a608b7978db",
   "metadata": {},
   "outputs": [
    {
     "data": {
      "text/plain": [
       "16"
      ]
     },
     "execution_count": 1,
     "metadata": {},
     "output_type": "execute_result"
    }
   ],
   "source": [
    "4*4"
   ]
  },
  {
   "cell_type": "markdown",
   "id": "a5ca013f-2582-40f5-b961-e1ebe373cca1",
   "metadata": {},
   "source": [
    "# heading\n",
    "These are the notes for the first lecture\n"
   ]
  },
  {
   "cell_type": "code",
   "execution_count": 2,
   "id": "ec76da05-3a3e-46f6-8fc1-82c7e5d88fb8",
   "metadata": {},
   "outputs": [
    {
     "name": "stdout",
     "output_type": "stream",
     "text": [
      "hello world\n"
     ]
    }
   ],
   "source": [
    "print(\"hello world\")\n"
   ]
  },
  {
   "cell_type": "markdown",
   "id": "121102f9-f4bc-4f8e-a8f3-680daa0b3aa0",
   "metadata": {},
   "source": [
    "test notes *italics*"
   ]
  },
  {
   "cell_type": "markdown",
   "id": "3db6d5fc-d9ee-45f0-b03e-8a2e7b8dd7f9",
   "metadata": {},
   "source": [
    "[google](www.google.com)"
   ]
  },
  {
   "cell_type": "code",
   "execution_count": null,
   "id": "2d6fffb5-e054-4d6f-9c6f-af9498756de7",
   "metadata": {},
   "outputs": [],
   "source": []
  }
 ],
 "metadata": {
  "kernelspec": {
   "display_name": "Python 3 (ipykernel)",
   "language": "python",
   "name": "python3"
  },
  "language_info": {
   "codemirror_mode": {
    "name": "ipython",
    "version": 3
   },
   "file_extension": ".py",
   "mimetype": "text/x-python",
   "name": "python",
   "nbconvert_exporter": "python",
   "pygments_lexer": "ipython3",
   "version": "3.12.3"
  }
 },
 "nbformat": 4,
 "nbformat_minor": 5
}
