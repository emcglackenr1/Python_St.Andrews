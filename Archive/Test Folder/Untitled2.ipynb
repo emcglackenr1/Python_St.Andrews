{
 "cells": [
  {
   "cell_type": "code",
   "execution_count": 1,
   "id": "868b15f6-88bc-40b4-8082-9e5a50aef445",
   "metadata": {},
   "outputs": [],
   "source": [
    "def fahr_to_cent(temp_f):\n",
    "    if type(temp_f) is not int:\n",
    "        return \"Not a number\"\n",
    "    elif temp_f < -459.67:\n",
    "        return \"Too cold!\"\n",
    "    else:\n",
    "        return ((temp_f - 32) * (5/9))"
   ]
  },
  {
   "cell_type": "code",
   "execution_count": 2,
   "id": "cf359667-e5e6-4383-adee-0055a7bb2e81",
   "metadata": {},
   "outputs": [],
   "source": [
    "## Functions lecture - describing function"
   ]
  },
  {
   "cell_type": "code",
   "execution_count": null,
   "id": "2c7103e7-9fa1-485e-9bb3-b89e46dc1265",
   "metadata": {},
   "outputs": [],
   "source": []
  }
 ],
 "metadata": {
  "kernelspec": {
   "display_name": "Python 3 (ipykernel)",
   "language": "python",
   "name": "python3"
  },
  "language_info": {
   "codemirror_mode": {
    "name": "ipython",
    "version": 3
   },
   "file_extension": ".py",
   "mimetype": "text/x-python",
   "name": "python",
   "nbconvert_exporter": "python",
   "pygments_lexer": "ipython3",
   "version": "3.12.3"
  }
 },
 "nbformat": 4,
 "nbformat_minor": 5
}
