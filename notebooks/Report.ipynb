{
 "cells": [
  {
   "cell_type": "markdown",
   "id": "06a23d50-d22b-44c4-9903-7fd93bd5a8c9",
   "metadata": {},
   "source": [
    "# **Assignment Report and Code**"
   ]
  },
  {
   "cell_type": "markdown",
   "id": "6b19be06-e550-4073-a9a4-73688482142f",
   "metadata": {},
   "source": [
    "### **Requirements met by this report**"
   ]
  },
  {
   "cell_type": "markdown",
   "id": "84376a37-a1a3-41ea-ac8b-3e9c0d20371a",
   "metadata": {},
   "source": [
    "This assignment met the minimal/basic requirements. It also included Version Control using GitHub / Git. \n",
    "The version control file is in the folder ' git '\n",
    "\n",
    "### **Part 1 Refine the dataset**\n",
    "The requirements were to 'Develop a procedure to check that the data match expected format, remove duplicates, and perform further refinement. This procedure should ensure that:\n",
    "\n",
    "**1.** the values of variables are of the expected format (numbers, strings, etc.);\n",
    "\n",
    "**2.** the values of variables are admissible (e.g. are within a given range or are from the list of admissible values); in case of any inconsistencies and/or duplicates found, produce new file with refined data to be used in the subsequent analysis;'\n",
    "##### **Outcome:** These parts of the assignment were completed below.\n",
    "\n",
    "**3.** This step must be automated to the point when it can be run with a single shell command to call an executable Python script specifying necessary argument(s);\n",
    "##### **Outcome:** These steps can be run with the command:  python .\\main.py  This references a python file '../code/main.py'. As per the assignment requirements, this code is separated into a different file. However, the notes about the note are still in this report. \n",
    "\n",
    "**4.** the refinement process should be documented (e.g. using comments in the code) in case one may need to modify and re-run it (although it’s not necessary to repeat it each time while re-running the analysis),\n",
    "##### **Outcome:** Comments are visible throughout the code in Jupyter. Some comments also print when the command: python .\\main.py is used. This helps to explain what the code is doing and why.\n",
    "\n",
    "### **Part 2 Perform the descriptive analysis of the dataset**\n",
    "**1.** determine the total number of records in the dataset;\n",
    "\n",
    "**2.** determine the type of each variable in the dataset;\n",
    "\n",
    "**3.** for each variable except “Record_Number” and “Region”, find all different values that it takes, and the number of occurrences for each value,\n",
    "\n",
    "**4.** build a bar chart for the number of records for each age group;\n",
    "\n",
    "**5.** build a bar chart for the number of records for each occupation\n",
    "\n",
    "##### **Outcome:** These parts of the assignment were completed below.\n",
    "\n",
    "**6.** provide the Jupyter notebook to re-run the analysis, starting from refined data.\n",
    "##### **Outcome:** This is the notebook to re-run the analysis\n",
    "\n",
    "**7.** Important! For both basic and additional requirements, you need to ensure that the output provides textual interpretations for values of the variables from Teaching_File_Variable_List.xlsx instead of their alphanumeric codes.\n",
    "##### **Outcome:** These parts of the assignment were completed below."
   ]
  },
  {
   "cell_type": "code",
   "execution_count": 1,
   "id": "cc362b0e-8ae4-444d-8b73-c591a950b52c",
   "metadata": {},
   "outputs": [],
   "source": [
    "##importing panda and reading the file \n",
    "import pandas as pd\n",
    "df = pd.read_csv('../data/Scotland_teaching_file_1PCT.csv')"
   ]
  },
  {
   "cell_type": "code",
   "execution_count": 2,
   "id": "35616918-deb2-4c89-b888-67a44a6d932f",
   "metadata": {},
   "outputs": [
    {
     "name": "stdout",
     "output_type": "stream",
     "text": [
      "{'Record_Number': array([    1,     2,     3, ..., 63386, 63387, 63388], dtype=int64), 'Region': array(['S92000003'], dtype=object), 'RESIDENCE_TYPE': array(['P', 'C'], dtype=object), 'Family_Composition': array(['1', '0', '4', '2', '5', '3', 'X'], dtype=object), 'sex': array([1, 2], dtype=int64), 'age': array([4, 3, 6, 5, 1, 2, 7, 8], dtype=int64), 'Marital_Status': array([2, 1, 4, 3, 5], dtype=int64), 'student': array([2, 1], dtype=int64), 'Country_Of_Birth': array([2, 1], dtype=int64), 'health': array([2, 3, 1, 4, 5], dtype=int64), 'Ethnic_Group': array([1, 2, 4, 3, 6, 5], dtype=int64), 'religion': array([5, 1, 2, 9, 6, 8, 4, 7, 3], dtype=int64), 'Economic_Activity': array(['1', 'X', '5', '6', '9', '4', '2', '7', '3', '8'], dtype=object), 'Occupation': array(['5', '1', '4', '2', '3', '9', 'X', '8', '6', '7'], dtype=object), 'industry': array(['5', '8', '11', '9', 'X', '2', '4', '6', '7', '10', '3', '12',\n",
      "       '13', '1'], dtype=object), 'Hours_Worked_Per_Week': array(['4', '3', '2', 'X', '1'], dtype=object), 'Approximate_Social_Grade': array(['3', '2', '4', 'X', '1'], dtype=object)}\n"
     ]
    }
   ],
   "source": [
    "##Get list of column names\n",
    "get_col = list(pd.read_csv(\"../data/Scotland_teaching_file_1PCT.csv\",nrows=1).columns)\n",
    "#print(get_col)\n",
    "unique_values = {col: df[col].unique() for col in get_col}\n",
    "print(unique_values)"
   ]
  },
  {
   "cell_type": "markdown",
   "id": "445c8c27-062a-450c-a6ff-b4aa6d330cc1",
   "metadata": {},
   "source": [
    "#### **Making output more legible**\n",
    "Based on this result, here is the output put onto separate lines.\n",
    "\n",
    "You can see the data type and that many are objects."
   ]
  },
  {
   "cell_type": "markdown",
   "id": "cb11ef91-676d-4a98-aadc-9fedd7bba28d",
   "metadata": {},
   "source": [
    "'Record_Number': array([ 1, 2, 3, ..., 63386, 63387, 63388], dtype=int64),\n",
    "\n",
    "'Region': array(['S92000003'], dtype=object),\n",
    "\n",
    "'RESIDENCE_TYPE': array(['P', 'C'], dtype=object),\n",
    "\n",
    "'Family_Composition': array(['1', '0', '4', '2', '5', '3', 'X'], dtype=object),\n",
    "\n",
    "'sex': array([1, 2], dtype=int64),\n",
    "\n",
    "'age': array([4, 3, 6, 5, 1, 2, 7, 8], dtype=int64),\n",
    "\n",
    "'Marital_Status': array([2, 1, 4, 3, 5], dtype=int64),\n",
    "\n",
    "'student': array([2, 1], dtype=int64),\n",
    "\n",
    "'Country_Of_Birth': array([2, 1], dtype=int64),\n",
    "\n",
    "'health': array([2, 3, 1, 4, 5], dtype=int64),\n",
    "\n",
    "'Ethnic_Group': array([1, 2, 4, 3, 6, 5], dtype=int64),\n",
    "\n",
    "'religion': array([5, 1, 2, 9, 6, 8, 4, 7, 3], dtype=int64),\n",
    "\n",
    "'Economic_Activity': array(['1', 'X', '5', '6', '9', '4', '2', '7', '3', '8'], dtype=object),\n",
    "\n",
    "'Occupation': array(['5', '1', '4', '2', '3', '9', 'X', '8', '6', '7'], dtype=object),\n",
    "\n",
    "'industry': array(['5', '8', '11', '9', 'X', '2', '4', '6', '7', '10', '3', '12', '13', '1'], dtype=object),\n",
    "\n",
    "'Hours_Worked_Per_Week': array(['4', '3', '2', 'X', '1'], dtype=object),\n",
    "\n",
    "'Approximate_Social_Grade': array(['3', '2', '4', 'X', '1'], dtype=object)}\n"
   ]
  },
  {
   "cell_type": "markdown",
   "id": "c3446566-f78a-44aa-a78f-5e81d22b78db",
   "metadata": {},
   "source": [
    "#### **Outcome:** Type of data and unique values in the dataset are now visible"
   ]
  },
  {
   "cell_type": "markdown",
   "id": "6088b548-1aa5-4071-b97e-73a15cc1cee5",
   "metadata": {},
   "source": [
    "## **Refining Data Continued**\n",
    "#### Goal is to check if the values of variables are admissible and expected format"
   ]
  },
  {
   "cell_type": "code",
   "execution_count": 3,
   "id": "e0eddf3d-a3ec-465f-afea-863a46096e95",
   "metadata": {},
   "outputs": [],
   "source": [
    "import pandas as pd \n",
    "#importing panda to use on dataset. \n",
    "\n",
    "#Panda is a software library written for the Python programming language for data manipulation and analysis. "
   ]
  },
  {
   "cell_type": "code",
   "execution_count": 4,
   "id": "b5dd4997-bece-4c25-80c9-bb6f9de346b6",
   "metadata": {},
   "outputs": [],
   "source": [
    "import numpy as np\n",
    "# imported numpy\n",
    "# Numpy is a Python library used for working with arrays. It also has functions for working in domain of linear algebra, fourier transform, and matrices."
   ]
  },
  {
   "cell_type": "markdown",
   "id": "3360add9-bf76-497d-9b37-0c48f60a6f9c",
   "metadata": {},
   "source": [
    "### **Converting data to an array so it can be analysed using numpy**"
   ]
  },
  {
   "cell_type": "markdown",
   "id": "d773691e-ef7c-4259-ba73-b71d7a46ce09",
   "metadata": {},
   "source": [
    "#### Expected format of data\n",
    "I added the information below manually based on reading the file 'Teaching_File_Variable_List'. \n",
    "File location is \"../data/Teaching_File_Variable_List.csv\". This is the expected data for each column / category based on the cenus guidance. "
   ]
  },
  {
   "cell_type": "code",
   "execution_count": 5,
   "id": "fd0e43af-cb01-4ffa-8f37-7888cf3acaba",
   "metadata": {},
   "outputs": [],
   "source": [
    "#Expected answers \n",
    "Record_Number_EF = np.array(list(range(1, 63389)))\n",
    "Region_EF = np.array(['S92000003'])\n",
    "RESIDENCE_TYPE_EF = np.array(['C', 'P'])\n",
    "Family_Composition_EF = np.array(['0', '1', '2', '3', '4', '5', 'X'])\n",
    "sex_EF = np.array([1, 2])\n",
    "age_EF = np.array([1, 2, 3, 4, 5, 6, 7, 8])\n",
    "Marital_Status_EF = np.array([1, 2, 3, 4, 5])\n",
    "student_EF = np.array([1, 2])\n",
    "Country_Of_Birth_EF = np.array([1, 2])\n",
    "health_EF = np.array([1, 2, 3, 4, 5])\n",
    "Ethnic_Group_EF = np.array([1, 2, 4, 3, 5, 6])\n",
    "religion_EF = np.array([1, 2, 3, 4, 5, 6, 7, 8, 9])\n",
    "Economic_Activity_EF = np.array(['1', '2', '3', '4', '5', '6', '7', '8', '9', 'X'])\n",
    "Occupation_EF = np.array(['1', '2', '3', '4', '5', '6', '7', '8', '9', 'X'])\n",
    "industry_EF = np.array(['1', '2', '3', '4', '5', '6', '7', '8', '9', '10', '11', '12', '13', 'X'])\n",
    "Hours_Worked_Per_Week_EF = np.array(['1', '2', '3', '4', 'X'])\n",
    "Approximate_Social_Grade_EF = np.array(['1', '2', '3', '4', 'X'])\n"
   ]
  },
  {
   "cell_type": "markdown",
   "id": "33fccf05-fe62-414e-943c-a9d70420bddd",
   "metadata": {},
   "source": [
    "#### Real data\n",
    "These are the actual responses recorded on the census. The real data in each column / category"
   ]
  },
  {
   "cell_type": "code",
   "execution_count": 6,
   "id": "b9e05a15-9593-494e-adb5-18c7dd9318bd",
   "metadata": {},
   "outputs": [],
   "source": [
    "Record_Number_RD = np.array(list(range(1, 63389)))\n",
    "Region_RD = np.array(['S92000003'])\n",
    "RESIDENCE_TYPE_RD = np.array(['P', 'C'])\n",
    "Family_Composition_RD = np.array(['1', '0', '4', '2', '5', '3', 'X'])\n",
    "sex_RD = np.array([1, 2])\n",
    "age_RD = np.array([4, 3, 6, 5, 1, 2, 7, 8])\n",
    "Marital_Status_RD = np.array([2, 1, 4, 3, 5])\n",
    "student_RD = np.array([2, 1])\n",
    "Country_Of_Birth_RD = np.array([2, 1])\n",
    "health_RD = np.array([2, 3, 1, 4, 5])\n",
    "Ethnic_Group_RD = np.array([1, 2, 4, 3, 6, 5])\n",
    "religion_RD = np.array([5, 1, 2, 9, 6, 8, 4, 7, 3])\n",
    "Economic_Activity_RD = np.array(['1', 'X', '5', '6', '9', '4', '2', '7', '3', '8'])\n",
    "Occupation_RD = np.array(['5', '1', '4', '2', '3', '9', 'X', '8', '6', '7'])\n",
    "industry_RD = np.array(['5', '8', '11', '9', 'X', '2', '4', '6', '7', '10', '3', '12', '13', '1'])\n",
    "Hours_Worked_Per_Week_RD = np.array(['4', '3', '2', 'X', '1'])\n",
    "Approximate_Social_Grade_RD = np.array(['3', '2', '4', 'X', '1'])"
   ]
  },
  {
   "cell_type": "markdown",
   "id": "6228cb30-ccdd-41ee-9e78-60d5f165a865",
   "metadata": {},
   "source": [
    "#### Comparing real and expected data values"
   ]
  },
  {
   "cell_type": "code",
   "execution_count": 7,
   "id": "ad647f79-623f-49c5-894e-4090046d65fe",
   "metadata": {},
   "outputs": [
    {
     "name": "stdout",
     "output_type": "stream",
     "text": [
      "Values from dataset that do not match the expected format based on the file Teaching_File_Variable_List. Empty square brackets mean the data is the correct format and values\n",
      "Record_Number:\n",
      "[]\n",
      "Region:\n",
      "[]\n",
      "RESIDENCE_TYPE:\n",
      "[]\n",
      "Family_Composition_TYPE:\n",
      "[]\n",
      "sex_TYPE:\n",
      "[]\n",
      "age_TYPE:\n",
      "[]\n",
      "Marital_Status_TYPE:\n",
      "[]\n",
      "student:\n",
      "[]\n",
      "Country_Of_Birth:\n",
      "[]\n",
      "health:\n",
      "[]\n",
      "Ethnic_Group:\n",
      "[]\n",
      "religion:\n",
      "[]\n",
      "Economic_Activity:\n",
      "[]\n",
      "Occupation:\n",
      "[]\n",
      "industry:\n",
      "[]\n",
      "Hours_Worked_Per_Week:\n",
      "[]\n",
      "Approximate_Social_Grade:\n",
      "[]\n"
     ]
    }
   ],
   "source": [
    "#This code compares the expected format of the data to the real data recieved\n",
    "#Any unexpected values will appear in [] when printed.\n",
    "#The format is: 'Data Name' ['unexpected values']\n",
    "\n",
    "print('Values from dataset that do not match the expected format based on the file Teaching_File_Variable_List. Empty square brackets mean the data is the correct format and values')\n",
    "print('Record_Number:')\n",
    "print(np.setdiff1d(Record_Number_EF, Record_Number_RD)) \n",
    "print('Region:')\n",
    "print(np.setdiff1d(Region_EF, Region_RD))\n",
    "print('RESIDENCE_TYPE:')\n",
    "print(np.setdiff1d(RESIDENCE_TYPE_EF, RESIDENCE_TYPE_RD))\n",
    "print('Family_Composition_TYPE:')\n",
    "print(np.setdiff1d(Family_Composition_EF, Family_Composition_RD))\n",
    "print('sex_TYPE:')\n",
    "print(np.setdiff1d(sex_EF, sex_RD))\n",
    "print('age_TYPE:')\n",
    "print(np.setdiff1d(age_EF, age_RD))\n",
    "print('Marital_Status_TYPE:')\n",
    "print(np.setdiff1d(Marital_Status_EF, Marital_Status_RD))\n",
    "print('student:')\n",
    "print(np.setdiff1d(student_EF, student_RD))\n",
    "print('Country_Of_Birth:')\n",
    "print(np.setdiff1d(Country_Of_Birth_EF, Country_Of_Birth_RD))\n",
    "print('health:')\n",
    "print(np.setdiff1d(health_EF, health_RD))\n",
    "print('Ethnic_Group:')\n",
    "print(np.setdiff1d(Ethnic_Group_EF, Ethnic_Group_RD))\n",
    "print('religion:')\n",
    "print(np.setdiff1d(religion_EF, religion_RD))\n",
    "print('Economic_Activity:')\n",
    "print(np.setdiff1d(Economic_Activity_EF, Economic_Activity_RD))\n",
    "print('Occupation:')\n",
    "print(np.setdiff1d(Occupation_EF, Occupation_RD))\n",
    "print('industry:')\n",
    "print(np.setdiff1d(industry_EF, industry_RD))\n",
    "print('Hours_Worked_Per_Week:')\n",
    "print(np.setdiff1d(Hours_Worked_Per_Week_EF, Hours_Worked_Per_Week_RD))\n",
    "print('Approximate_Social_Grade:')\n",
    "print(np.setdiff1d(Approximate_Social_Grade_EF, Approximate_Social_Grade_RD))"
   ]
  },
  {
   "cell_type": "markdown",
   "id": "78d9efbd-9508-4f79-87d4-608d54b5bdbc",
   "metadata": {},
   "source": [
    "#### **Outcome:** No unexpected values were found in the dataset"
   ]
  },
  {
   "cell_type": "markdown",
   "id": "41a5af08-da32-4bd2-ae1c-4371f5338cee",
   "metadata": {},
   "source": [
    "Note: for the sake of these comparisons, I didn't think it was necessary to replace the data codes with the actual data values. This is completed later in the analysis."
   ]
  },
  {
   "cell_type": "markdown",
   "id": "f4dfdacf-ea84-4df4-9046-78c5082dd85b",
   "metadata": {},
   "source": [
    "# **Remove Duplicates to New File**"
   ]
  },
  {
   "cell_type": "code",
   "execution_count": 8,
   "id": "786236fe-5bcd-4966-b3f1-8a9e068c6bc4",
   "metadata": {},
   "outputs": [],
   "source": [
    "df = pd.read_csv(\"../data/Scotland_teaching_file_1PCT.csv\")\n",
    "\n",
    "#Moving data without duplicates to a new file and naming i\n",
    "input_file = \"../data/Scotland_teaching_file_1PCT.csv\"\n",
    "df = pd.read_csv(input_file)\n",
    "output_file = \"../data/Scotland_teaching_file_1PCT_DUPLICATES_REMOVED.csv\" \n",
    "#From now on the new duplicates file will be used instead\n",
    "\n",
    "columns = [\"Record_Number\",\"Region\", \"RESIDENCE_TYPE\", \"Family_Composition\", \"sex\", \"age\", \\\n",
    "           \"Marital_Status\", \"student\", \"Country_Of_Birth\", \"health\", \"Ethnic_Group\", \\\n",
    "           \"religion\", \"Economic_Activity\", \"Occupation\", \"industry\", \\\n",
    "           \"Hours_Worked_Per_Week\", \"Approximate_Social_Grade\"]\n",
    "\n",
    "deduplicated_data = df.drop_duplicates(subset=columns, keep=\"first\")\n",
    "\n",
    "dd = pd.DataFrame(deduplicated_data)\n",
    "dd.to_csv(output_file, index=False)"
   ]
  },
  {
   "cell_type": "markdown",
   "id": "b5943d94-3dca-4d5e-a240-389e40749c48",
   "metadata": {},
   "source": [
    "#### **Reflection**\n",
    "Originally, I did not include Record_Number in analysis of duplicates. I thought because it is a unique number given to each record that it would not show duplicates. I tried a version of the code above excluding 'Record_Number' and the resulting record number was 37513. \n",
    "I created this file as well for reference in case Record_Number should have been removed. It is still visible in the folder at path: \n",
    "output_file = \"../data/Scotland_teaching_file_1PCT_DUPLICATES_REMOVED_NO_RECORD_NUMBER.csv\" \n",
    "\n",
    "Ultimately, I added 'Record_Number' again because there is no way to know if the fact all other data matched was just a coincidence, and not a duplicate. \n"
   ]
  },
  {
   "cell_type": "markdown",
   "id": "b397a02f-86d7-4484-930e-39149ec3d84a",
   "metadata": {},
   "source": [
    "## **Descriptive Analysis**"
   ]
  },
  {
   "cell_type": "markdown",
   "id": "d09ebb5a-3127-4579-8267-8ee3519f019c",
   "metadata": {},
   "source": [
    "Determine the total number of records in the dataset"
   ]
  },
  {
   "cell_type": "markdown",
   "id": "171735d3-491c-48d0-8b46-3747f891ed76",
   "metadata": {},
   "source": [
    "### Total number of records in the original dataset"
   ]
  },
  {
   "cell_type": "code",
   "execution_count": 9,
   "id": "86a4bf37-22a4-49ba-a468-646f31997fb4",
   "metadata": {},
   "outputs": [
    {
     "name": "stdout",
     "output_type": "stream",
     "text": [
      "Number of Rows:  63388\n"
     ]
    }
   ],
   "source": [
    "# Computing number of rows\n",
    "rows = len(df.axes[0])\n",
    " \n",
    "# Computing number of columns\n",
    "cols = len(df.axes[1])\n",
    " \n",
    "print(\"Number of Rows: \", rows)"
   ]
  },
  {
   "cell_type": "markdown",
   "id": "4b4193cf-c62f-49d1-b899-3ade1c316c52",
   "metadata": {},
   "source": [
    "### Total number of records in refined dataset"
   ]
  },
  {
   "cell_type": "code",
   "execution_count": 10,
   "id": "0b79e3d7-26f8-44d3-9aa0-b8c09d5a5aef",
   "metadata": {},
   "outputs": [],
   "source": [
    "# Reading the new file\n",
    "df = pd.read_csv('../data/Scotland_teaching_file_1PCT_DUPLICATES_REMOVED.csv')"
   ]
  },
  {
   "cell_type": "code",
   "execution_count": 11,
   "id": "b0217da2-b760-4e15-8c48-2de5c91547a9",
   "metadata": {},
   "outputs": [
    {
     "name": "stdout",
     "output_type": "stream",
     "text": [
      "Number of Rows:  63388\n"
     ]
    }
   ],
   "source": [
    "# Computing number of rows\n",
    "rows = len(df.axes[0])\n",
    " \n",
    "# Computing number of columns\n",
    "cols = len(df.axes[1])\n",
    " \n",
    "print(\"Number of Rows: \", rows)"
   ]
  },
  {
   "cell_type": "markdown",
   "id": "0d6321fd-bca2-4219-8b06-13dfd10a57c1",
   "metadata": {},
   "source": [
    "#### Find all different values that it takes, and the number of occurrences for each value"
   ]
  },
  {
   "cell_type": "markdown",
   "id": "63cb05ef-0001-411b-bf5b-0da598d82207",
   "metadata": {},
   "source": [
    "All different values already determined above "
   ]
  },
  {
   "cell_type": "markdown",
   "id": "b3d0c203-b030-44e4-af6f-b1c2466e7f5f",
   "metadata": {},
   "source": [
    "### For each variable except “Record_Number” and “Region”\n",
    "\n",
    "a) find all different values that it takes\n",
    "b) the number of occurrences for each value"
   ]
  },
  {
   "cell_type": "code",
   "execution_count": 12,
   "id": "940f1f8d-6118-413b-ba00-261b417e3891",
   "metadata": {},
   "outputs": [],
   "source": [
    "#Find all different values that it takes\n",
    "#Read in the new file with no duplicates\n",
    "df = pd.read_csv('../data/Scotland_teaching_file_1PCT_DUPLICATES_REMOVED.csv')\n"
   ]
  },
  {
   "cell_type": "code",
   "execution_count": 13,
   "id": "13362dfd-9b47-4d91-9de1-ef7960898db4",
   "metadata": {},
   "outputs": [],
   "source": [
    "##Get list of column names\n",
    "col3 = 'RESIDENCE_TYPE'\n",
    "col4 = 'Family_Composition'\n",
    "col5 = 'sex'\n",
    "col6 = 'age'\n",
    "col7 = 'Marital_Status'\n",
    "col8 = 'student'\n",
    "col9 = 'Country_Of_Birth'\n",
    "col10 = 'health'\n",
    "col11 = 'Ethnic_Group'\n",
    "col12 = 'religion'\n",
    "col13 = 'Economic_Activity'\n",
    "col14 = 'Occupation'\n",
    "col15 = 'industry'\n",
    "col16 = 'Hours_Worked_Per_Week'\n",
    "col17 = 'Approximate_Social_Grade'"
   ]
  },
  {
   "cell_type": "code",
   "execution_count": 14,
   "id": "67baeae0-1b8a-4b6d-a55d-da96d796d060",
   "metadata": {},
   "outputs": [
    {
     "name": "stdout",
     "output_type": "stream",
     "text": [
      "{'RESIDENCE_TYPE': array(['P', 'C'], dtype=object), 'Family_Composition': array(['1', '0', '4', '2', '5', '3', 'X'], dtype=object), 'sex': array([1, 2], dtype=int64), 'age': array([4, 3, 6, 5, 1, 2, 7, 8], dtype=int64), 'Marital_Status': array([2, 1, 4, 3, 5], dtype=int64), 'student': array([2, 1], dtype=int64), 'Country_Of_Birth': array([2, 1], dtype=int64), 'health': array([2, 3, 1, 4, 5], dtype=int64), 'Ethnic_Group': array([1, 2, 4, 3, 6, 5], dtype=int64), 'religion': array([5, 1, 2, 9, 6, 8, 4, 7, 3], dtype=int64), 'Economic_Activity': array(['1', 'X', '5', '6', '9', '4', '2', '7', '3', '8'], dtype=object), 'Occupation': array(['5', '1', '4', '2', '3', '9', 'X', '8', '6', '7'], dtype=object), 'industry': array(['5', '8', '11', '9', 'X', '2', '4', '6', '7', '10', '3', '12',\n",
      "       '13', '1'], dtype=object), 'Hours_Worked_Per_Week': array(['4', '3', '2', 'X', '1'], dtype=object), 'Approximate_Social_Grade': array(['3', '2', '4', 'X', '1'], dtype=object)}\n"
     ]
    }
   ],
   "source": [
    "#This code prints the unique values for each column, excluding the headings. It also prints the data type.\n",
    "unique_values = {col: df[col].unique() for col in [col3 ,\tcol4 ,\tcol5,\tcol6,\tcol7,\tcol8,\tcol9,\tcol10,\tcol11,\tcol12,\tcol13,\tcol14,\tcol15,\tcol16,\tcol17,\n",
    "]}\n",
    "print(unique_values)"
   ]
  },
  {
   "cell_type": "markdown",
   "id": "0d1f6f7f-bb4c-4775-921a-848ba2acd6e5",
   "metadata": {},
   "source": [
    "#### Converting data from codes to values\n"
   ]
  },
  {
   "cell_type": "code",
   "execution_count": 15,
   "id": "d8fc22a2-d22b-4fac-b2a8-3bc095b61910",
   "metadata": {},
   "outputs": [
    {
     "name": "stdout",
     "output_type": "stream",
     "text": [
      "       Record_Number     Region                            RESIDENCE_TYPE  \\\n",
      "0                  1  S92000003  Not resident in a Communal Establishment   \n",
      "1                  2  S92000003  Not resident in a Communal Establishment   \n",
      "2                  3  S92000003  Not resident in a Communal Establishment   \n",
      "3                  4  S92000003  Not resident in a Communal Establishment   \n",
      "4                  5  S92000003  Not resident in a Communal Establishment   \n",
      "...              ...        ...                                       ...   \n",
      "63383          63384  S92000003  Not resident in a Communal Establishment   \n",
      "63384          63385  S92000003  Not resident in a Communal Establishment   \n",
      "63385          63386  S92000003  Not resident in a Communal Establishment   \n",
      "63386          63387  S92000003  Not resident in a Communal Establishment   \n",
      "63387          63388  S92000003  Not resident in a Communal Establishment   \n",
      "\n",
      "                                     Family_Composition     sex       age  \\\n",
      "0      Married/same-sex civil partnership couple family    Male  35 to 44   \n",
      "1                                       Not in a family    Male  25 to 34   \n",
      "2      Married/same-sex civil partnership couple family  Female  35 to 44   \n",
      "3      Married/same-sex civil partnership couple family  Female  55 to 64   \n",
      "4                      Lone parent family (female lead)  Female  35 to 44   \n",
      "...                                                 ...     ...       ...   \n",
      "63383  Married/same-sex civil partnership couple family    Male  16 to 24   \n",
      "63384  Married/same-sex civil partnership couple family    Male  35 to 44   \n",
      "63385  Married/same-sex civil partnership couple family    Male  45 to 54   \n",
      "63386                  Lone parent family (female lead)  Female   0 to 15   \n",
      "63387  Married/same-sex civil partnership couple family    Male  45 to 54   \n",
      "\n",
      "                                          Marital_Status student  \\\n",
      "0             Married or in a same sex-civil partnership      No   \n",
      "1      Single (Never married or never registered a sa...      No   \n",
      "2             Married or in a same sex-civil partnership      No   \n",
      "3             Married or in a same sex-civil partnership      No   \n",
      "4      Divorced or formerly in a same-sex civil partn...      No   \n",
      "...                                                  ...     ...   \n",
      "63383  Single (Never married or never registered a sa...     Yes   \n",
      "63384         Married or in a same sex-civil partnership      No   \n",
      "63385         Married or in a same sex-civil partnership      No   \n",
      "63386  Single (Never married or never registered a sa...     Yes   \n",
      "63387         Married or in a same sex-civil partnership      No   \n",
      "\n",
      "      Country_Of_Birth            health Ethnic_Group     religion  \\\n",
      "0               Non UK       Good health        White       Jewish   \n",
      "1                   UK       Good health        White  No religion   \n",
      "2                   UK       Fair health        White  No religion   \n",
      "3                   UK  Very good health        White  No religion   \n",
      "4                   UK       Good health        White  No religion   \n",
      "...                ...               ...          ...          ...   \n",
      "63383               UK  Very good health        White    Christian   \n",
      "63384               UK  Very good health        White  No religion   \n",
      "63385               UK  Very good health        White   Not stated   \n",
      "63386               UK  Very good health        White   Not stated   \n",
      "63387               UK       Good health        White    Christian   \n",
      "\n",
      "                        Economic_Activity  \\\n",
      "0           Economically active: Employed   \n",
      "1           Economically active: Employed   \n",
      "2           Economically active: Employed   \n",
      "3           Economically active: Employed   \n",
      "4           Economically active: Employed   \n",
      "...                                   ...   \n",
      "63383      Economically inactive: Student   \n",
      "63384       Economically active: Employed   \n",
      "63385       Economically active: Employed   \n",
      "63386    No code required (Aged under 16)   \n",
      "63387  Economically active: Self-Employed   \n",
      "\n",
      "                                              Occupation  \\\n",
      "0                             Skilled Trades Occupations   \n",
      "1               Managers, Directors and Senior Officials   \n",
      "2             Administrative and Secretarial Occupations   \n",
      "3                               Professional Occupations   \n",
      "4       Associate Professional and Technical Occupations   \n",
      "...                                                  ...   \n",
      "63383  No code required (People aged under 16 and peo...   \n",
      "63384   Associate Professional and Technical Occupations   \n",
      "63385              Process, Plant and Machine Operatives   \n",
      "63386  No code required (People aged under 16 and peo...   \n",
      "63387              Process, Plant and Machine Operatives   \n",
      "\n",
      "                                                industry  \\\n",
      "0              Accommodation and food service activities   \n",
      "1      Real estate activities; Professional scientifi...   \n",
      "2      Real estate activities; Professional scientifi...   \n",
      "3      Real estate activities; Professional scientifi...   \n",
      "4                Human health and social work activities   \n",
      "...                                                  ...   \n",
      "63383  No code required (People aged under 16 and peo...   \n",
      "63384                  Public administration and defence   \n",
      "63385                                       Construction   \n",
      "63386  No code required (People aged under 16 and peo...   \n",
      "63387  Mining and quarrying; Manufacturing; Electrici...   \n",
      "\n",
      "                                   Hours_Worked_Per_Week  \\\n",
      "0                      Full-time 49 or more hours worked   \n",
      "1                       Full-time: 31 to 48 hours worked   \n",
      "2                       Part-time: 16 to 30 hours worked   \n",
      "3                      Full-time 49 or more hours worked   \n",
      "4                       Full-time: 31 to 48 hours worked   \n",
      "...                                                  ...   \n",
      "63383  No code required (People aged under 16 and peo...   \n",
      "63384                   Full-time: 31 to 48 hours worked   \n",
      "63385                  Full-time 49 or more hours worked   \n",
      "63386  No code required (People aged under 16 and peo...   \n",
      "63387                  Full-time 49 or more hours worked   \n",
      "\n",
      "                                Approximate_Social_Grade  \n",
      "0                                                     C2  \n",
      "1                                                     C1  \n",
      "2                                                     DE  \n",
      "3                                                     C1  \n",
      "4                                                     C1  \n",
      "...                                                  ...  \n",
      "63383                                                 C2  \n",
      "63384                                                 C1  \n",
      "63385                                                 DE  \n",
      "63386  No code required ( People aged under 16 and pe...  \n",
      "63387                                                 DE  \n",
      "\n",
      "[63388 rows x 17 columns]\n"
     ]
    }
   ],
   "source": [
    "#This code replaces the 'data codes' originally sources from the data file Scotland_teaching_file_1PCT into the data from Teaching_File_Variable_List. \n",
    "\n",
    "file_path = '../data/Scotland_teaching_file_1PCT_DUPLICATES_REMOVED.csv'\n",
    "df = pd.read_csv(file_path)\n",
    "\n",
    "df.replace({col3:{'C':'Resident in a Communal Establishment','P':'Not resident in a Communal Establishment'}},\n",
    "           inplace=True)\n",
    "\n",
    "df.replace({col4:{'0':'Not in a family',\n",
    "'1':'Married/same-sex civil partnership couple family',\n",
    "'2':'Cohabiting couple family',\n",
    "'3':'Lone parent family (male head)',\n",
    "'4':'Lone parent family (female lead)',\n",
    "'5':'Other related family',\n",
    "'X':'No code required (residents of a communal establishment)'\n",
    "}},inplace=True)\n",
    "           \n",
    "df.replace({col5:{1:'Male',2:'Female'}},\n",
    "           inplace=True)\n",
    "\n",
    "df.replace({col6:{1:'0 to 15',\n",
    "2:'16 to 24',\n",
    "3:'25 to 34',\n",
    "4:'35 to 44',\n",
    "5:'45 to 54',\n",
    "6:'55 to 64',\n",
    "7:'65 to 74',\n",
    "8:'75 and over'\n",
    "}},\n",
    "           inplace=True)\n",
    "\n",
    "df.replace({col7:{1:'Single (Never married or never registered a same-sex civil partnership',\n",
    "2:'Married or in a same sex-civil partnership',\n",
    "3:'Separated, but still legally married or still legally in a same-sex civil partnership',\n",
    "4:'Divorced or formerly in a same-sex civil partnership which is now legally dissolved',\n",
    "5:'Widowed or surviving partner from a same-sex civil partnership'\n",
    "}},\n",
    "           inplace=True)\n",
    "\n",
    "df.replace({col8:{1:'Yes',2:'No'}},\n",
    "           inplace=True)\n",
    "\n",
    "df.replace({col9:{1:'UK',\n",
    "2:'Non UK'\n",
    "}},\n",
    "           inplace=True)\n",
    "\n",
    "df.replace({col10:{1:'Very good health',\n",
    "2:'Good health',\n",
    "3:'Fair health',\n",
    "4:'Bad health',\n",
    "5:'Very bad health',\n",
    "}},\n",
    "           inplace=True)\n",
    "\n",
    "df.replace({col11:{1:'White',\n",
    "2:'Mixed or multiple ethnic group',\n",
    "3:'Asian',\n",
    "4:'African',\n",
    "5:'Caribbean or black',\n",
    "6:'Other ethnic group'\n",
    "}},\n",
    "           inplace=True)\n",
    "\n",
    "df.replace({col12:{1:'No religion',\n",
    "2:'Christian',\n",
    "3:'Buddhist',\n",
    "4:'Hindu',\n",
    "5:'Jewish',\n",
    "6:'Muslim',\n",
    "7:'Sikh',\n",
    "8:'Other religion',\n",
    "9:'Not stated'\n",
    "}},\n",
    "           inplace=True)\n",
    "\n",
    "df.replace({col13:{'1':'Economically active: Employed',\n",
    "'2':'Economically active: Self-Employed',\n",
    "'3':'Economically active: Unemployed',\n",
    "'4':'Economically active: Full-time student',\n",
    "'5':'Economically inactive: Retired',\n",
    "'6':'Economically inactive: Student',\n",
    "'7':'Economically inactive: Looking after home or family',\n",
    "'8':'Economically inactive: Long-term sick or disabled',\n",
    "'9':'Economically inactive: Other',\n",
    "'X':'No code required (Aged under 16)'\n",
    "}},\n",
    "           inplace=True)\n",
    "\n",
    "df.replace({col14:{'1':'Managers, Directors and Senior Officials',\n",
    "'2':'Professional Occupations',\n",
    "'3':'Associate Professional and Technical Occupations',\n",
    "'4':'Administrative and Secretarial Occupations',\n",
    "'5':'Skilled Trades Occupations',\n",
    "'6':'Caring, Leisure and Other Service Occupations',\n",
    "'7':'Sales and Customer Service Occupations',\n",
    "'8':'Process, Plant and Machine Operatives',\n",
    "'9':'Elementary Occupations',\n",
    "'X':'No code required (People aged under 16 and people who have never worked)'\n",
    "}},\n",
    "           inplace=True)\n",
    "\n",
    "df.replace({col15:{'1':'Agriculture, forestry and fishing',\n",
    "'2':'Mining and quarrying; Manufacturing; Electricity, gas, steam and air conditioning system; Water supply',\n",
    "'3':'Construction',\n",
    "'4':'Wholesale and retail trade; Repair of motor vehicles and motorcycles',\n",
    "'5':'Accommodation and food service activities',\n",
    "'6':'Transport and storage; Information and communication',\n",
    "'7':'Financial and insurance activities',\n",
    "'8':'Real estate activities; Professional scientific and technical activities; Administrative and support service activities',\n",
    "'9':'Public administration and defence',\n",
    "'10':'Education',\n",
    "'11':'Human health and social work activities',\n",
    "'12':'Arts; entertainment and recreation',\n",
    "'13':'Other',\n",
    "'X':'No code required (People aged under 16 and people who have never worked)'\n",
    "}},\n",
    "           inplace=True)\n",
    "\n",
    "df.replace({col16:{'1':'Part-time: 15 or less hours worked',\n",
    "'2':'Part-time: 16 to 30 hours worked',\n",
    "'3':'Full-time: 31 to 48 hours worked',\n",
    "'4':'Full-time 49 or more hours worked',\n",
    "'X':'No code required (People aged under 16 and people not working)'\n",
    "}},\n",
    "           inplace=True)\n",
    "\n",
    "df.replace({col17:{'1':'AB',\n",
    "'2':'C1',\n",
    "'3':'C2',\n",
    "'4':'DE',\n",
    "'X':'No code required ( People aged under 16 and people resident in communal establishments)'\n",
    "}},\n",
    "           inplace=True)\n",
    "\n",
    "           \n",
    "print(df) "
   ]
  },
  {
   "cell_type": "markdown",
   "id": "0887f402-12c8-4272-8f4a-d9dac080a8e3",
   "metadata": {},
   "source": [
    "### Count the number of occurrences for each value "
   ]
  },
  {
   "cell_type": "code",
   "execution_count": 16,
   "id": "6b8229e8-8502-4053-87d7-49147c51641f",
   "metadata": {},
   "outputs": [
    {
     "name": "stdout",
     "output_type": "stream",
     "text": [
      "RESIDENCE_TYPE\n",
      "Not resident in a Communal Establishment    62239\n",
      "Resident in a Communal Establishment         1149\n",
      "Name: count, dtype: int64 Family_Composition\n",
      "Married/same-sex civil partnership couple family            33337\n",
      "Not in a family                                             11716\n",
      "Lone parent family (female lead)                             7757\n",
      "Cohabiting couple family                                     7660\n",
      "No code required (residents of a communal establishment)     1149\n",
      "Lone parent family (male head)                               1019\n",
      "Other related family                                          750\n",
      "Name: count, dtype: int64 sex\n",
      "Female    32696\n",
      "Male      30692\n",
      "Name: count, dtype: int64 age\n",
      "0 to 15        10980\n",
      "45 to 54        9336\n",
      "35 to 44        8963\n",
      "25 to 34        8056\n",
      "55 to 64        7854\n",
      "16 to 24        7541\n",
      "65 to 74        5731\n",
      "75 and over     4927\n",
      "Name: count, dtype: int64 Marital_Status\n",
      "Single (Never married or never registered a same-sex civil partnership                   29611\n",
      "Married or in a same sex-civil partnership                                               23918\n",
      "Divorced or formerly in a same-sex civil partnership which is now legally dissolved       4159\n",
      "Widowed or surviving partner from a same-sex civil partnership                            4032\n",
      "Separated, but still legally married or still legally in a same-sex civil partnership     1668\n",
      "Name: count, dtype: int64 student\n",
      "No     51397\n",
      "Yes    11991\n",
      "Name: count, dtype: int64 Country_Of_Birth\n",
      "UK        59045\n",
      "Non UK     4343\n",
      "Name: count, dtype: int64 health\n",
      "Very good health    33436\n",
      "Good health         18825\n",
      "Fair health          7544\n",
      "Bad health           2759\n",
      "Very bad health       824\n",
      "Name: count, dtype: int64 Ethnic_Group\n",
      "White                             60901\n",
      "Asian                              1667\n",
      "African                             376\n",
      "Mixed or multiple ethnic group      199\n",
      "Other ethnic group                  165\n",
      "Caribbean or black                   80\n",
      "Name: count, dtype: int64 religion\n",
      "Christian         34199\n",
      "No religion       23309\n",
      "Not stated         4335\n",
      "Muslim              906\n",
      "Hindu               187\n",
      "Other religion      162\n",
      "Sikh                116\n",
      "Buddhist            113\n",
      "Jewish               61\n",
      "Name: count, dtype: int64 Economic_Activity\n",
      "Economically active: Employed                          25350\n",
      "Economically inactive: Retired                         11527\n",
      "No code required (Aged under 16)                       10980\n",
      "Economically active: Self-Employed                      3623\n",
      "Economically inactive: Student                          2691\n",
      "Economically inactive: Long-term sick or disabled       2543\n",
      "Economically active: Unemployed                         2183\n",
      "Economically active: Full-time student                  1743\n",
      "Economically inactive: Looking after home or family     1741\n",
      "Economically inactive: Other                            1007\n",
      "Name: count, dtype: int64 Occupation\n",
      "No code required (People aged under 16 and people who have never worked)    14435\n",
      "Elementary Occupations                                                       7256\n",
      "Professional Occupations                                                     7237\n",
      "Skilled Trades Occupations                                                   6140\n",
      "Administrative and Secretarial Occupations                                   6010\n",
      "Associate Professional and Technical Occupations                             5015\n",
      "Sales and Customer Service Occupations                                       4934\n",
      "Caring, Leisure and Other Service Occupations                                4484\n",
      "Process, Plant and Machine Operatives                                        4327\n",
      "Managers, Directors and Senior Officials                                     3550\n",
      "Name: count, dtype: int64 industry\n",
      "No code required (People aged under 16 and people who have never worked)                                                   14435\n",
      "Wholesale and retail trade; Repair of motor vehicles and motorcycles                                                        7557\n",
      "Human health and social work activities                                                                                     6817\n",
      "Mining and quarrying; Manufacturing; Electricity, gas, steam and air conditioning system; Water supply                      6318\n",
      "Real estate activities; Professional scientific and technical activities; Administrative and support service activities     4818\n",
      "Education                                                                                                                   4123\n",
      "Construction                                                                                                                3876\n",
      "Transport and storage; Information and communication                                                                        3754\n",
      "Accommodation and food service activities                                                                                   3309\n",
      "Public administration and defence                                                                                           3225\n",
      "Financial and insurance activities                                                                                          1979\n",
      "Other                                                                                                                       1172\n",
      "Arts; entertainment and recreation                                                                                          1107\n",
      "Agriculture, forestry and fishing                                                                                            898\n",
      "Name: count, dtype: int64 Hours_Worked_Per_Week\n",
      "No code required (People aged under 16 and people not working)    32851\n",
      "Full-time: 31 to 48 hours worked                                  18333\n",
      "Part-time: 16 to 30 hours worked                                   6518\n",
      "Full-time 49 or more hours worked                                  3543\n",
      "Part-time: 15 or less hours worked                                 2143\n",
      "Name: count, dtype: int64 Approximate_Social_Grade\n",
      "C1                                                                                         15607\n",
      "DE                                                                                         14709\n",
      "No code required ( People aged under 16 and people resident in communal establishments)    12090\n",
      "C2                                                                                         11602\n",
      "AB                                                                                          9380\n",
      "Name: count, dtype: int64\n"
     ]
    }
   ],
   "source": [
    "import pandas as pd\n",
    "# Using the new file without duplicates\n",
    "\n",
    "# Count the occurrences of each value in the specified column\n",
    "value_counts3 = df[col3].value_counts()\n",
    "value_counts4 = df[col4].value_counts()\n",
    "value_counts5 = df[col5].value_counts()\n",
    "value_counts6 = df[col6].value_counts()\n",
    "value_counts7 = df[col7].value_counts()\n",
    "value_counts8 = df[col8].value_counts()\n",
    "value_counts9 = df[col9].value_counts()\n",
    "value_counts10 = df[col10].value_counts()\n",
    "value_counts11 = df['Ethnic_Group'].value_counts()\n",
    "value_counts12 = df['religion'].value_counts()\n",
    "value_counts13 = df['Economic_Activity'].value_counts()\n",
    "value_counts14 = df['Occupation'].value_counts()\n",
    "value_counts15 = df['industry'].value_counts()\n",
    "value_counts16 = df['Hours_Worked_Per_Week'].value_counts()\n",
    "value_counts17 = df['Approximate_Social_Grade'].value_counts()\n",
    "\n",
    "print(value_counts3,value_counts4,value_counts5,value_counts6,value_counts7,value_counts8,value_counts9,value_counts10,value_counts11,value_counts12,value_counts13,value_counts14,value_counts15,value_counts16,value_counts17\n",
    ")"
   ]
  },
  {
   "cell_type": "code",
   "execution_count": null,
   "id": "0e800955-b037-4400-9080-9c0c4b9cf6bc",
   "metadata": {},
   "outputs": [],
   "source": []
  },
  {
   "cell_type": "markdown",
   "id": "fc7c262e-6663-42f4-8fc7-a1ade7da56ce",
   "metadata": {},
   "source": [
    "## Data Visualisation"
   ]
  },
  {
   "cell_type": "code",
   "execution_count": 17,
   "id": "bfe9c241-f5c0-4c47-8d4c-3eaaaf0b6cdf",
   "metadata": {},
   "outputs": [],
   "source": [
    "import matplotlib.pyplot as plt \n",
    "#importing matlab to use for visualisation"
   ]
  },
  {
   "cell_type": "markdown",
   "id": "92edd141-dd1b-4ad3-bf1d-ca10fb284bae",
   "metadata": {},
   "source": [
    "### Bar chart of age according to labels on data in Teaching_File_Variable_List"
   ]
  },
  {
   "cell_type": "code",
   "execution_count": 18,
   "id": "fde99517-2235-495a-8764-0a9e3e584263",
   "metadata": {},
   "outputs": [
    {
     "data": {
      "image/png": "[encoded data removed]",
      "text/plain": [
       "<Figure size 1000x500 with 1 Axes>"
      ]
     },
     "metadata": {},
     "output_type": "display_data"
    }
   ],
   "source": [
    "# creating the dataset\n",
    "data = {'0 to 15':558,\n",
    "'16 to 24':4927,\n",
    "'25 to 34':6298,\n",
    "'35 to 44':6719,\n",
    "'45 to 54':6724,\n",
    "'55 to 64':5895,\n",
    "'65 to 74':3550,\n",
    "'75 and over':2842}\n",
    "\n",
    "age_groups = list(data.keys())\n",
    "values = list(data.values())\n",
    "  \n",
    "fig = plt.figure(figsize = (10, 5))\n",
    " \n",
    "# creating the bar plot\n",
    "plt.bar(age_groups, values, color ='purple', \n",
    "        width = 0.5)\n",
    " \n",
    "plt.xlabel(\"Age in Years\")\n",
    "plt.ylabel(\"Number of Participants\")\n",
    "plt.title(\"Age Group Distribution of Census Participants\")\n",
    "plt.show()\n",
    "\n"
   ]
  },
  {
   "cell_type": "markdown",
   "id": "2ebd1cd4-2736-490b-b935-23f3c32d4c1a",
   "metadata": {},
   "source": [
    "## Bar chart for the number of records for each occupation"
   ]
  },
  {
   "cell_type": "markdown",
   "id": "71738e74-5d57-4cd2-93ee-d3f0c19488f2",
   "metadata": {},
   "source": [
    "#### Bar chart of occupation according to labels on data in Scotland_teaching_file_1PCT"
   ]
  },
  {
   "cell_type": "markdown",
   "id": "b7f22553-3f9f-4a80-af0f-e8b0e3aafba3",
   "metadata": {},
   "source": [
    "# creating the dataset\n",
    "data = {'Managers, Directors and Senior Officials':5662,\n",
    "'Professional Occupations':4602,\n",
    "'Associate Professional and Technical Occupations':4316,\n",
    "'Administrative and Secretarial Occupations':4097,\n",
    "'Skilled Trades Occupations':3818,\n",
    "'Caring, Leisure and Other Service Occupations':3363,\n",
    "'Sales and Customer Service Occupations':3351,\n",
    "'Process, Plant and Machine Operatives':3052,\n",
    "'Elementary Occupations':2858,\n",
    "'People aged under 16 and people who have never worked':2394,\n",
    "}"
   ]
  },
  {
   "cell_type": "code",
   "execution_count": 21,
   "id": "2e0441da-e45b-489c-8436-4411d90e8080",
   "metadata": {},
   "outputs": [
    {
     "data": {
      "image/png": "[encoded data removed]",
      "text/plain": [
       "<Figure size 1000x500 with 1 Axes>"
      ]
     },
     "metadata": {},
     "output_type": "display_data"
    },
    {
     "name": "stdout",
     "output_type": "stream",
     "text": [
      "Bar Chart Legend:\n",
      "\t\t8. Process, Plant and Machine Operatives\t\n",
      "\t\t1. Managers, Directors and Senior Officials\t\n",
      "\t\t9. Elementary Occupations\t\n",
      "\t\t2. Professional Occupations\t\n",
      "\t\t7. Sales and Customer Service Occupations\t\n",
      "\t\tX. People aged under 16 and people who have never worked\t\n",
      "\t\t6. Caring, Leisure and Other Service Occupations\t\n",
      "\t\t4. Administrative and Secretarial Occupations\t\n",
      "\t\t3. Associate Professional and Technical Occupations\t\n",
      "\t\t5. Skilled Trades Occupations\t\n"
     ]
    }
   ],
   "source": [
    "# creating the dataset\n",
    "data = {'1':5662,\n",
    "'2':4602,\n",
    "'3':4316,\n",
    "'4':4097,\n",
    "'5':3818,\n",
    "'6':3363,\n",
    "'7':3351,\n",
    "'8':3052,\n",
    "'9':2858,\n",
    "'X':2394,\n",
    "}\n",
    "\n",
    "datalabel = {'\t1. Managers, Directors and Senior Officials\t','\t2. Professional Occupations\t','\t3. Associate Professional and Technical Occupations\t','\t4. Administrative and Secretarial Occupations\t','\t5. Skilled Trades Occupations\t','\t6. Caring, Leisure and Other Service Occupations\t','\t7. Sales and Customer Service Occupations\t','\t8. Process, Plant and Machine Operatives\t','\t9. Elementary Occupations\t','\tX. People aged under 16 and people who have never worked\t'}\n",
    "\n",
    "age_groups = list(data.keys())\n",
    "values = list(data.values())\n",
    "  \n",
    "fig = plt.figure(figsize = (10, 5))\n",
    " \n",
    "# creating the bar plot\n",
    "plt.bar(age_groups, values, color ='purple', \n",
    "        width = 0.5)\n",
    " \n",
    "plt.xlabel(\"Occupation Groups\")\n",
    "plt.ylabel(\"Number of Participants\")\n",
    "plt.title(\"Occupation Groups Distribution of Census Participants\")\n",
    "plt.show()\n",
    "\n",
    "#The text was too long to be legible for the barchart using the method I used for the previous chart. So, I included a chart legend\n",
    "#I included x but changed the phrasing from the original file to remove 'No Code Required' so the bar chart was easier to read\n",
    "\n",
    "print('Bar Chart Legend:')\n",
    "for label in datalabel:\n",
    "    print(f'\\t{label}')\n",
    "  "
   ]
  },
  {
   "cell_type": "code",
   "execution_count": null,
   "id": "8822120f-dc0e-417e-9759-f3c44f66bb2f",
   "metadata": {},
   "outputs": [],
   "source": []
  }
 ],
 "metadata": {
  "kernelspec": {
   "display_name": "Python 3 (ipykernel)",
   "language": "python",
   "name": "python3"
  },
  "language_info": {
   "codemirror_mode": {
    "name": "ipython",
    "version": 3
   },
   "file_extension": ".py",
   "mimetype": "text/x-python",
   "name": "python",
   "nbconvert_exporter": "python",
   "pygments_lexer": "ipython3",
   "version": "3.12.3"
  }
 },
 "nbformat": 4,
 "nbformat_minor": 5
}
