{
 "cells": [
  {
   "cell_type": "markdown",
   "id": "06a23d50-d22b-44c4-9903-7fd93bd5a8c9",
   "metadata": {},
   "source": [
    "## Refining the dataset"
   ]
  },
  {
   "cell_type": "markdown",
   "id": "7b51c7e4-9602-4542-8ac2-6b8312406037",
   "metadata": {},
   "source": [
    "Version control can be viewed here on Github: https://github.com/emcglackenr1/Python_St.Andrews/tree/main"
   ]
  },
  {
   "cell_type": "code",
   "execution_count": 1,
   "id": "cc362b0e-8ae4-444d-8b73-c591a950b52c",
   "metadata": {},
   "outputs": [],
   "source": [
    "##importing panda and reading the file \n",
    "import pandas as pd\n",
    "df = pd.read_csv('../data/Scotland_teaching_file_1PCT(1).csv')"
   ]
  },
  {
   "cell_type": "code",
   "execution_count": 2,
   "id": "35616918-deb2-4c89-b888-67a44a6d932f",
   "metadata": {},
   "outputs": [
    {
     "name": "stdout",
     "output_type": "stream",
     "text": [
      "{'Record_Number': array([    1,     2,     3, ..., 63386, 63387, 63388], dtype=int64), 'Region': array(['S92000003'], dtype=object), 'RESIDENCE_TYPE': array(['P', 'C'], dtype=object), 'Family_Composition': array(['1', '0', '4', '2', '5', '3', 'X'], dtype=object), 'sex': array([1, 2], dtype=int64), 'age': array([4, 3, 6, 5, 1, 2, 7, 8], dtype=int64), 'Marital_Status': array([2, 1, 4, 3, 5], dtype=int64), 'student': array([2, 1], dtype=int64), 'Country_Of_Birth': array([2, 1], dtype=int64), 'health': array([2, 3, 1, 4, 5], dtype=int64), 'Ethnic_Group': array([1, 2, 4, 3, 6, 5], dtype=int64), 'religion': array([5, 1, 2, 9, 6, 8, 4, 7, 3], dtype=int64), 'Economic_Activity': array(['1', 'X', '5', '6', '9', '4', '2', '7', '3', '8'], dtype=object), 'Occupation': array(['5', '1', '4', '2', '3', '9', 'X', '8', '6', '7'], dtype=object), 'industry': array(['5', '8', '11', '9', 'X', '2', '4', '6', '7', '10', '3', '12',\n",
      "       '13', '1'], dtype=object), 'Hours_Worked_Per_Week': array(['4', '3', '2', 'X', '1'], dtype=object), 'Approximate_Social_Grade': array(['3', '2', '4', 'X', '1'], dtype=object)}\n"
     ]
    }
   ],
   "source": [
    "##Get list of column names\n",
    "get_col = list(pd.read_csv(\"../data/Scotland_teaching_file_1PCT(1).csv\",nrows=1).columns)\n",
    "#print(get_col)\n",
    "unique_values = {col: df[col].unique() for col in get_col}\n",
    "print(unique_values)"
   ]
  },
  {
   "cell_type": "markdown",
   "id": "445c8c27-062a-450c-a6ff-b4aa6d330cc1",
   "metadata": {},
   "source": [
    "### Based on this result, here is the output put onto separate lines to be more legible:\n",
    "You can see the data type and that many are objects."
   ]
  },
  {
   "cell_type": "markdown",
   "id": "cb11ef91-676d-4a98-aadc-9fedd7bba28d",
   "metadata": {},
   "source": [
    "'Record_Number': array([ 1, 2, 3, ..., 63386, 63387, 63388], dtype=int64),\n",
    "\n",
    "'Region': array(['S92000003'], dtype=object),\n",
    "\n",
    "'RESIDENCE_TYPE': array(['P', 'C'], dtype=object),\n",
    "\n",
    "'Family_Composition': array(['1', '0', '4', '2', '5', '3', 'X'], dtype=object),\n",
    "\n",
    "'sex': array([1, 2], dtype=int64),\n",
    "\n",
    "'age': array([4, 3, 6, 5, 1, 2, 7, 8], dtype=int64),\n",
    "\n",
    "'Marital_Status': array([2, 1, 4, 3, 5], dtype=int64),\n",
    "\n",
    "'student': array([2, 1], dtype=int64),\n",
    "\n",
    "'Country_Of_Birth': array([2, 1], dtype=int64),\n",
    "\n",
    "'health': array([2, 3, 1, 4, 5], dtype=int64),\n",
    "\n",
    "'Ethnic_Group': array([1, 2, 4, 3, 6, 5], dtype=int64),\n",
    "\n",
    "'religion': array([5, 1, 2, 9, 6, 8, 4, 7, 3], dtype=int64),\n",
    "\n",
    "'Economic_Activity': array(['1', 'X', '5', '6', '9', '4', '2', '7', '3', '8'], dtype=object),\n",
    "\n",
    "'Occupation': array(['5', '1', '4', '2', '3', '9', 'X', '8', '6', '7'], dtype=object),\n",
    "\n",
    "'industry': array(['5', '8', '11', '9', 'X', '2', '4', '6', '7', '10', '3', '12', '13', '1'], dtype=object),\n",
    "\n",
    "'Hours_Worked_Per_Week': array(['4', '3', '2', 'X', '1'], dtype=object),\n",
    "\n",
    "'Approximate_Social_Grade': array(['3', '2', '4', 'X', '1'], dtype=object)}\n"
   ]
  },
  {
   "cell_type": "markdown",
   "id": "c3446566-f78a-44aa-a78f-5e81d22b78db",
   "metadata": {},
   "source": [
    "#### Outcome: Type of data and unique values in the dataset are now visible\n",
    "The completes the requirement to:\n",
    "* Determine the type of each variable in the dataset"
   ]
  },
  {
   "cell_type": "markdown",
   "id": "6088b548-1aa5-4071-b97e-73a15cc1cee5",
   "metadata": {},
   "source": [
    "## Refining Data Continued \n",
    "### Checking if values of variables are admissible and expected format\n",
    "#### From this part of the assignment guidelines: \n",
    "\n",
    "    develop a procedure to check that the data match expected format, remove duplicates, and perform further refinement. This procedure should ensure that:\n",
    "\n",
    "        1. the values of variables are of the expected format (numbers, strings, etc.);\n",
    "\n",
    "        2. the values of variables are admissible (e.g. are within a given range or are from the list of admissible values);"
   ]
  },
  {
   "cell_type": "code",
   "execution_count": 3,
   "id": "e0eddf3d-a3ec-465f-afea-863a46096e95",
   "metadata": {},
   "outputs": [],
   "source": [
    "import pandas as pd \n",
    "#importing panda to use on dataset"
   ]
  },
  {
   "cell_type": "code",
   "execution_count": 4,
   "id": "b5dd4997-bece-4c25-80c9-bb6f9de346b6",
   "metadata": {},
   "outputs": [],
   "source": [
    "import numpy as np\n",
    "## imported numpy"
   ]
  },
  {
   "cell_type": "markdown",
   "id": "3360add9-bf76-497d-9b37-0c48f60a6f9c",
   "metadata": {},
   "source": [
    "### Converting data to an array so it can be analysed using numpy"
   ]
  },
  {
   "cell_type": "markdown",
   "id": "d773691e-ef7c-4259-ba73-b71d7a46ce09",
   "metadata": {},
   "source": [
    "#### Expected format of data\n",
    "Added manually based on the file 'Teaching_File_Variable_List(1)' "
   ]
  },
  {
   "cell_type": "code",
   "execution_count": 5,
   "id": "fd0e43af-cb01-4ffa-8f37-7888cf3acaba",
   "metadata": {},
   "outputs": [],
   "source": [
    "Record_Number_EF = np.array(list(range(1, 63389)))\n",
    "Region_EF = np.array(['S92000003'])\n",
    "RESIDENCE_TYPE_EF = np.array(['C', 'P'])\n",
    "Family_Composition_EF = np.array(['0', '1', '2', '3', '4', '5', 'X'])\n",
    "sex_EF = np.array([1, 2])\n",
    "age_EF = np.array([1, 2, 3, 4, 5, 6, 7, 8])\n",
    "Marital_Status_EF = np.array([1, 2, 3, 4, 5])\n",
    "student_EF = np.array([1, 2])\n",
    "Country_Of_Birth_EF = np.array([1, 2])\n",
    "health_EF = np.array([1, 2, 3, 4, 5])\n",
    "Ethnic_Group_EF = np.array([1, 2, 4, 3, 5, 6])\n",
    "religion_EF = np.array([1, 2, 3, 4, 5, 6, 7, 8, 9])\n",
    "Economic_Activity_EF = np.array(['1', '2', '3', '4', '5', '6', '7', '8', '9', 'X'])\n",
    "Occupation_EF = np.array(['1', '2', '3', '4', '5', '6', '7', '8', '9', 'X'])\n",
    "industry_EF = np.array(['1', '2', '3', '4', '5', '6', '7', '8', '9', '10', '11', '12', '13', 'X'])\n",
    "Hours_Worked_Per_Week_EF = np.array(['1', '2', '3', '4', 'X'])\n",
    "Approximate_Social_Grade_EF = np.array(['1', '2', '3', '4', 'X'])\n"
   ]
  },
  {
   "cell_type": "markdown",
   "id": "33fccf05-fe62-414e-943c-a9d70420bddd",
   "metadata": {},
   "source": [
    "#### Real data\n",
    "Taken from output of unique values "
   ]
  },
  {
   "cell_type": "code",
   "execution_count": 6,
   "id": "b9e05a15-9593-494e-adb5-18c7dd9318bd",
   "metadata": {},
   "outputs": [],
   "source": [
    "Record_Number_RD = np.array(list(range(1, 63389)))\n",
    "Region_RD = np.array(['S92000003'])\n",
    "RESIDENCE_TYPE_RD = np.array(['P', 'C'])\n",
    "Family_Composition_RD = np.array(['1', '0', '4', '2', '5', '3', 'X'])\n",
    "sex_RD = np.array([1, 2])\n",
    "age_RD = np.array([4, 3, 6, 5, 1, 2, 7, 8])\n",
    "Marital_Status_RD = np.array([2, 1, 4, 3, 5])\n",
    "student_RD = np.array([2, 1])\n",
    "Country_Of_Birth_RD = np.array([2, 1])\n",
    "health_RD = np.array([2, 3, 1, 4, 5])\n",
    "Ethnic_Group_RD = np.array([1, 2, 4, 3, 6, 5])\n",
    "religion_RD = np.array([5, 1, 2, 9, 6, 8, 4, 7, 3])\n",
    "Economic_Activity_RD = np.array(['1', 'X', '5', '6', '9', '4', '2', '7', '3', '8'])\n",
    "Occupation_RD = np.array(['5', '1', '4', '2', '3', '9', 'X', '8', '6', '7'])\n",
    "industry_RD = np.array(['5', '8', '11', '9', 'X', '2', '4', '6', '7', '10', '3', '12', '13', '1'])\n",
    "Hours_Worked_Per_Week_RD = np.array(['4', '3', '2', 'X', '1'])\n",
    "Approximate_Social_Grade_RD = np.array(['3', '2', '4', 'X', '1'])"
   ]
  },
  {
   "cell_type": "code",
   "execution_count": 7,
   "id": "ad647f79-623f-49c5-894e-4090046d65fe",
   "metadata": {},
   "outputs": [
    {
     "name": "stdout",
     "output_type": "stream",
     "text": [
      "Values from dataset that do not match the expected format based on the file Teaching_File_Variable_List(1). Empty square brackets mean the data is the correct format and values\n",
      "Record_Number:\n",
      "[]\n",
      "Region:\n",
      "[]\n",
      "RESIDENCE_TYPE:\n",
      "[]\n",
      "Family_Composition_TYPE:\n",
      "[]\n",
      "sex_TYPE:\n",
      "[]\n",
      "age_TYPE:\n",
      "[]\n",
      "Marital_Status_TYPE:\n",
      "[]\n",
      "student:\n",
      "[]\n",
      "Country_Of_Birth:\n",
      "[]\n",
      "health:\n",
      "[]\n",
      "Ethnic_Group:\n",
      "[]\n",
      "religion:\n",
      "[]\n",
      "Economic_Activity:\n",
      "[]\n",
      "Occupation:\n",
      "[]\n",
      "industry:\n",
      "[]\n",
      "Hours_Worked_Per_Week:\n",
      "[]\n",
      "Approximate_Social_Grade:\n",
      "[]\n"
     ]
    }
   ],
   "source": [
    "#This code compares the expected format of the data to the real data recieved\n",
    "\n",
    "print('Values from dataset that do not match the expected format based on the file Teaching_File_Variable_List(1). Empty square brackets mean the data is the correct format and values')\n",
    "print('Record_Number:')\n",
    "print(np.setdiff1d(Record_Number_EF, Record_Number_RD)) \n",
    "print('Region:')\n",
    "print(np.setdiff1d(Region_EF, Region_RD))\n",
    "print('RESIDENCE_TYPE:')\n",
    "print(np.setdiff1d(RESIDENCE_TYPE_EF, RESIDENCE_TYPE_RD))\n",
    "print('Family_Composition_TYPE:')\n",
    "print(np.setdiff1d(Family_Composition_EF, Family_Composition_RD))\n",
    "print('sex_TYPE:')\n",
    "print(np.setdiff1d(sex_EF, sex_RD))\n",
    "print('age_TYPE:')\n",
    "print(np.setdiff1d(age_EF, age_RD))\n",
    "print('Marital_Status_TYPE:')\n",
    "print(np.setdiff1d(Marital_Status_EF, Marital_Status_RD))\n",
    "print('student:')\n",
    "print(np.setdiff1d(student_EF, student_RD))\n",
    "print('Country_Of_Birth:')\n",
    "print(np.setdiff1d(Country_Of_Birth_EF, Country_Of_Birth_RD))\n",
    "print('health:')\n",
    "print(np.setdiff1d(health_EF, health_RD))\n",
    "print('Ethnic_Group:')\n",
    "print(np.setdiff1d(Ethnic_Group_EF, Ethnic_Group_RD))\n",
    "print('religion:')\n",
    "print(np.setdiff1d(religion_EF, religion_RD))\n",
    "print('Economic_Activity:')\n",
    "print(np.setdiff1d(Economic_Activity_EF, Economic_Activity_RD))\n",
    "print('Occupation:')\n",
    "print(np.setdiff1d(Occupation_EF, Occupation_RD))\n",
    "print('industry:')\n",
    "print(np.setdiff1d(industry_EF, industry_RD))\n",
    "print('Hours_Worked_Per_Week:')\n",
    "print(np.setdiff1d(Hours_Worked_Per_Week_EF, Hours_Worked_Per_Week_RD))\n",
    "print('Approximate_Social_Grade:')\n",
    "print(np.setdiff1d(Approximate_Social_Grade_EF, Approximate_Social_Grade_RD))"
   ]
  },
  {
   "cell_type": "markdown",
   "id": "78d9efbd-9508-4f79-87d4-608d54b5bdbc",
   "metadata": {},
   "source": [
    "#### Outcome: No unexpected values in the dataset"
   ]
  },
  {
   "cell_type": "markdown",
   "id": "f4dfdacf-ea84-4df4-9046-78c5082dd85b",
   "metadata": {},
   "source": [
    "## Remove Duplicates to New File"
   ]
  },
  {
   "cell_type": "markdown",
   "id": "b5943d94-3dca-4d5e-a240-389e40749c48",
   "metadata": {},
   "source": [
    "Column Record_Number not included in analysis, as it is a unique number given to each record, so it would not show duplicates"
   ]
  },
  {
   "cell_type": "code",
   "execution_count": 8,
   "id": "3b7b8c1a-c9d9-4ede-a2c2-548fb11c757b",
   "metadata": {},
   "outputs": [],
   "source": [
    "df = pd.read_csv(\"../data/Scotland_teaching_file_1PCT(1).csv\")\n",
    "\n",
    "input_file = \"../data/Scotland_teaching_file_1PCT(1).csv\"\n",
    "df = pd.read_csv(input_file)\n",
    "output_file = \"../data/Scotland_teaching_file_1PCT_DUPLICATES_REMOVED.csv\" \n",
    "\n",
    "columns = [\"Region\", \"RESIDENCE_TYPE\", \"Family_Composition\", \"sex\", \"age\", \\\n",
    "           \"Marital_Status\", \"student\", \"Country_Of_Birth\", \"health\", \"Ethnic_Group\", \\\n",
    "           \"religion\", \"Economic_Activity\", \"Occupation\", \"industry\", \\\n",
    "           \"Hours_Worked_Per_Week\", \"Approximate_Social_Grade\"]\n",
    "\n",
    "deduplicated_data = df.drop_duplicates(subset=columns, keep=\"first\")\n",
    "\n",
    "dd = pd.DataFrame(deduplicated_data)\n",
    "dd.to_csv(output_file, index=False)"
   ]
  },
  {
   "cell_type": "markdown",
   "id": "b397a02f-86d7-4484-930e-39149ec3d84a",
   "metadata": {},
   "source": [
    "## Descriptive Analysis"
   ]
  },
  {
   "cell_type": "markdown",
   "id": "d09ebb5a-3127-4579-8267-8ee3519f019c",
   "metadata": {},
   "source": [
    "Determine the total number of records in the dataset"
   ]
  },
  {
   "cell_type": "markdown",
   "id": "171735d3-491c-48d0-8b46-3747f891ed76",
   "metadata": {},
   "source": [
    "### Total number of records in the original dataset"
   ]
  },
  {
   "cell_type": "code",
   "execution_count": 9,
   "id": "86a4bf37-22a4-49ba-a468-646f31997fb4",
   "metadata": {},
   "outputs": [
    {
     "name": "stdout",
     "output_type": "stream",
     "text": [
      "Number of Rows:  63388\n"
     ]
    }
   ],
   "source": [
    "# Computing number of rows\n",
    "rows = len(df.axes[0])\n",
    " \n",
    "# Computing number of columns\n",
    "cols = len(df.axes[1])\n",
    " \n",
    "print(\"Number of Rows: \", rows)"
   ]
  },
  {
   "cell_type": "markdown",
   "id": "4b4193cf-c62f-49d1-b899-3ade1c316c52",
   "metadata": {},
   "source": [
    "### Total number of records in refined dataset"
   ]
  },
  {
   "cell_type": "code",
   "execution_count": 10,
   "id": "0b79e3d7-26f8-44d3-9aa0-b8c09d5a5aef",
   "metadata": {},
   "outputs": [],
   "source": [
    "# Reading the new file\n",
    "df = pd.read_csv('../data/Scotland_teaching_file_1PCT_DUPLICATES_REMOVED.csv')"
   ]
  },
  {
   "cell_type": "code",
   "execution_count": 11,
   "id": "b0217da2-b760-4e15-8c48-2de5c91547a9",
   "metadata": {},
   "outputs": [
    {
     "name": "stdout",
     "output_type": "stream",
     "text": [
      "Number of Rows:  37513\n"
     ]
    }
   ],
   "source": [
    "# Computing number of rows\n",
    "rows = len(df.axes[0])\n",
    " \n",
    "# Computing number of columns\n",
    "cols = len(df.axes[1])\n",
    " \n",
    "print(\"Number of Rows: \", rows)"
   ]
  },
  {
   "cell_type": "markdown",
   "id": "0d6321fd-bca2-4219-8b06-13dfd10a57c1",
   "metadata": {},
   "source": [
    "#### Find all different values that it takes, and the number of occurrences for each value"
   ]
  },
  {
   "cell_type": "markdown",
   "id": "63cb05ef-0001-411b-bf5b-0da598d82207",
   "metadata": {},
   "source": [
    "All different values already determined above "
   ]
  },
  {
   "cell_type": "markdown",
   "id": "b3d0c203-b030-44e4-af6f-b1c2466e7f5f",
   "metadata": {},
   "source": [
    "### For each variable except “Record_Number” and “Region”\n",
    "\n",
    "a) find all different values that it takes\n",
    "b) the number of occurrences for each value"
   ]
  },
  {
   "cell_type": "code",
   "execution_count": 12,
   "id": "940f1f8d-6118-413b-ba00-261b417e3891",
   "metadata": {},
   "outputs": [],
   "source": [
    "#find all different values that it takes\n",
    "df = pd.read_csv('../data/Scotland_teaching_file_1PCT_DUPLICATES_REMOVED.csv')\n",
    "\n",
    "##Get list of column names\n",
    "col3 = 'RESIDENCE_TYPE'\n",
    "col4 = 'Family_Composition'\n",
    "col5 = 'sex'\n",
    "col6 = 'age'\n",
    "col7 = 'Marital_Status'\n",
    "col8 = 'student'\n",
    "col9 = 'Country_Of_Birth'\n",
    "col10 = 'health'\n",
    "col11 = 'Ethnic_Group'\n",
    "col12 = 'religion'\n",
    "col13 = 'Economic_Activity'\n",
    "col14 = 'Occupation'\n",
    "col15 = 'industry'\n",
    "col16 = 'Hours_Worked_Per_Week'\n",
    "col17 = 'Approximate_Social_Grade'"
   ]
  },
  {
   "cell_type": "code",
   "execution_count": 13,
   "id": "67baeae0-1b8a-4b6d-a55d-da96d796d060",
   "metadata": {},
   "outputs": [
    {
     "name": "stdout",
     "output_type": "stream",
     "text": [
      "{'RESIDENCE_TYPE': array(['P', 'C'], dtype=object), 'Family_Composition': array(['1', '0', '4', '2', '5', '3', 'X'], dtype=object), 'sex': array([1, 2], dtype=int64), 'age': array([4, 3, 6, 5, 1, 2, 7, 8], dtype=int64), 'Marital_Status': array([2, 1, 4, 3, 5], dtype=int64), 'student': array([2, 1], dtype=int64), 'Country_Of_Birth': array([2, 1], dtype=int64), 'health': array([2, 3, 1, 4, 5], dtype=int64), 'Ethnic_Group': array([1, 2, 4, 3, 6, 5], dtype=int64), 'religion': array([5, 1, 2, 9, 6, 8, 4, 7, 3], dtype=int64), 'Economic_Activity': array(['1', 'X', '5', '6', '9', '4', '2', '7', '3', '8'], dtype=object), 'Occupation': array(['5', '1', '4', '2', '3', '9', 'X', '8', '6', '7'], dtype=object), 'industry': array(['5', '8', '11', '9', 'X', '2', '4', '6', '7', '10', '3', '12',\n",
      "       '13', '1'], dtype=object), 'Hours_Worked_Per_Week': array(['4', '3', '2', 'X', '1'], dtype=object), 'Approximate_Social_Grade': array(['3', '2', '4', 'X', '1'], dtype=object)}\n"
     ]
    }
   ],
   "source": [
    "unique_values = {col: df[col].unique() for col in [col3 ,\tcol4 ,\tcol5,\tcol6,\tcol7,\tcol8,\tcol9,\tcol10,\tcol11,\tcol12,\tcol13,\tcol14,\tcol15,\tcol16,\tcol17,\n",
    "]}\n",
    "print(unique_values)"
   ]
  },
  {
   "cell_type": "markdown",
   "id": "0d1f6f7f-bb4c-4775-921a-848ba2acd6e5",
   "metadata": {},
   "source": [
    "#### Count the number of occurrences for each value\n"
   ]
  },
  {
   "cell_type": "code",
   "execution_count": 14,
   "id": "6b8229e8-8502-4053-87d7-49147c51641f",
   "metadata": {},
   "outputs": [
    {
     "name": "stdout",
     "output_type": "stream",
     "text": [
      "Family_Composition\n",
      "1    17303\n",
      "0     8783\n",
      "2     5076\n",
      "4     3973\n",
      "X      891\n",
      "3      797\n",
      "5      690\n",
      "Name: count, dtype: int64 sex\n",
      "2    19595\n",
      "1    17918\n",
      "Name: count, dtype: int64 age\n",
      "5    6724\n",
      "4    6719\n",
      "3    6298\n",
      "6    5895\n",
      "2    4927\n",
      "7    3550\n",
      "8    2842\n",
      "1     558\n",
      "Name: count, dtype: int64 Marital_Status\n",
      "2    15114\n",
      "1    14606\n",
      "4     3731\n",
      "5     2470\n",
      "3     1592\n",
      "Name: count, dtype: int64 student\n",
      "2    34497\n",
      "1     3016\n",
      "Name: count, dtype: int64 Country_Of_Birth\n",
      "1    33730\n",
      "2     3783\n",
      "Name: count, dtype: int64 health\n",
      "1    16535\n",
      "2    12482\n",
      "3     5472\n",
      "4     2281\n",
      "5      743\n",
      "Name: count, dtype: int64 Ethnic_Group\n",
      "1    35503\n",
      "3     1328\n",
      "4      320\n",
      "6      145\n",
      "2      142\n",
      "5       75\n",
      "Name: count, dtype: int64 religion\n",
      "2    19433\n",
      "1    13521\n",
      "9     3269\n",
      "6      696\n",
      "8      158\n",
      "4      157\n",
      "3      112\n",
      "7      107\n",
      "5       60\n",
      "Name: count, dtype: int64 Economic_Activity\n",
      "1    17789\n",
      "5     6793\n",
      "2     3015\n",
      "8     2247\n",
      "3     1914\n",
      "7     1472\n",
      "6     1439\n",
      "4     1337\n",
      "9      949\n",
      "X      558\n",
      "Name: count, dtype: int64 Occupation\n",
      "9    5662\n",
      "2    4602\n",
      "4    4316\n",
      "5    4097\n",
      "3    3818\n",
      "7    3363\n",
      "6    3351\n",
      "8    3052\n",
      "1    2858\n",
      "X    2394\n",
      "Name: count, dtype: int64 industry\n",
      "4     5219\n",
      "11    4565\n",
      "2     4142\n",
      "8     3844\n",
      "6     2892\n",
      "10    2681\n",
      "5     2679\n",
      "3     2555\n",
      "X     2394\n",
      "9     2187\n",
      "7     1510\n",
      "13    1072\n",
      "12    1057\n",
      "1      716\n",
      "Name: count, dtype: int64 Hours_Worked_Per_Week\n",
      "X    15493\n",
      "3    12479\n",
      "2     4948\n",
      "4     2844\n",
      "1     1749\n",
      "Name: count, dtype: int64 Approximate_Social_Grade\n",
      "2    11270\n",
      "4    10658\n",
      "3     7770\n",
      "1     6384\n",
      "X     1431\n",
      "Name: count, dtype: int64\n"
     ]
    }
   ],
   "source": [
    "import pandas as pd\n",
    "# Using the new file without duplicates\n",
    "\n",
    "# Count the occurrences of each value in the specified column\n",
    "value_counts3 = df['RESIDENCE_TYPE'].value_counts()\n",
    "value_counts4 = df['Family_Composition'].value_counts()\n",
    "value_counts5 = df['sex'].value_counts()\n",
    "value_counts6 = df['age'].value_counts()\n",
    "value_counts7 = df['Marital_Status'].value_counts()\n",
    "value_counts8 = df['student'].value_counts()\n",
    "value_counts9 = df['Country_Of_Birth'].value_counts()\n",
    "value_counts10 = df['health'].value_counts()\n",
    "value_counts11 = df['Ethnic_Group'].value_counts()\n",
    "value_counts12 = df['religion'].value_counts()\n",
    "value_counts13 = df['Economic_Activity'].value_counts()\n",
    "value_counts14 = df['Occupation'].value_counts()\n",
    "value_counts15 = df['industry'].value_counts()\n",
    "value_counts16 = df['Hours_Worked_Per_Week'].value_counts()\n",
    "value_counts17 = df['Approximate_Social_Grade'].value_counts()\n",
    "\n",
    "print(value_counts4,value_counts5,value_counts6,value_counts7,value_counts8,value_counts9,value_counts10,value_counts11,value_counts12,value_counts13,value_counts14,value_counts15,value_counts16,value_counts17\n",
    ")"
   ]
  },
  {
   "cell_type": "markdown",
   "id": "fc7c262e-6663-42f4-8fc7-a1ade7da56ce",
   "metadata": {},
   "source": [
    "## Data Visualisation"
   ]
  },
  {
   "cell_type": "code",
   "execution_count": 18,
   "id": "bfe9c241-f5c0-4c47-8d4c-3eaaaf0b6cdf",
   "metadata": {},
   "outputs": [],
   "source": [
    "import matplotlib.pyplot as plt \n",
    "#importing matlab to use for visualisation"
   ]
  },
  {
   "cell_type": "markdown",
   "id": "86ed4838-6ae0-425a-87e1-f06ce2a696dc",
   "metadata": {},
   "source": [
    "### Bar chart of age according to labels on data in Scotland_teaching_file_1PCT(1)"
   ]
  },
  {
   "cell_type": "code",
   "execution_count": 26,
   "id": "c144605e-ddc4-4d04-8752-6db4b62288a7",
   "metadata": {},
   "outputs": [
    {
     "data": {
      "image/png": "[encoded data removed]",
      "text/plain": [
       "<Figure size 1000x500 with 1 Axes>"
      ]
     },
     "metadata": {},
     "output_type": "display_data"
    }
   ],
   "source": [
    "# creating the dataset\n",
    "data = {'1':558,\n",
    "'2':4927,\n",
    "'3':6298,\n",
    "'4':6719,\n",
    "'5':6724,\n",
    "'6':5895,\n",
    "'7':3550,\n",
    "'8':2842}\n",
    "\n",
    "age_groups = list(data.keys())\n",
    "values = list(data.values())\n",
    "  \n",
    "fig = plt.figure(figsize = (10, 5))\n",
    " \n",
    "# creating the bar plot\n",
    "plt.bar(age_groups, values, color ='blue', \n",
    "        width = 0.5)\n",
    " \n",
    "plt.xlabel(\"Age Groups\")\n",
    "plt.ylabel(\"Number of Participants\")\n",
    "plt.title(\"Age Group Distribution of Census Participants\")\n",
    "plt.show()"
   ]
  },
  {
   "cell_type": "markdown",
   "id": "92edd141-dd1b-4ad3-bf1d-ca10fb284bae",
   "metadata": {},
   "source": [
    "### Bar chart of age according to labels on data in Teaching_File_Variable_List(1)"
   ]
  },
  {
   "cell_type": "markdown",
   "id": "123b03ba-e3ca-4f22-9be3-300c6f8e2d63",
   "metadata": {},
   "source": [
    "#### Meaning of numbers from the guidance file for age\n",
    "I went to the file 'Teaching_File_Variable_List(1).xlsx' and copied the list of what the age values meant.\n",
    "1. 0 to 15\n",
    "2. 16 to 24\n",
    "3. 25 to 34\n",
    "4. 35 to 44\n",
    "5. 45 to 54\n",
    "6. 55 to 64\n",
    "7. 65 to 74\n",
    "8. 75 and over"
   ]
  },
  {
   "cell_type": "code",
   "execution_count": 23,
   "id": "fde99517-2235-495a-8764-0a9e3e584263",
   "metadata": {},
   "outputs": [
    {
     "data": {
      "image/png": "[encoded data removed]",
      "text/plain": [
       "<Figure size 1000x500 with 1 Axes>"
      ]
     },
     "metadata": {},
     "output_type": "display_data"
    }
   ],
   "source": [
    "# creating the dataset\n",
    "data = {'0 to 15':558,\n",
    "'16 to 24':4927,\n",
    "'25 to 34':6298,\n",
    "'35 to 44':6719,\n",
    "'45 to 54':6724,\n",
    "'55 to 64':5895,\n",
    "'65 to 74':3550,\n",
    "'75 and over':2842}\n",
    "\n",
    "age_groups = list(data.keys())\n",
    "values = list(data.values())\n",
    "  \n",
    "fig = plt.figure(figsize = (10, 5))\n",
    " \n",
    "# creating the bar plot\n",
    "plt.bar(age_groups, values, color ='purple', \n",
    "        width = 0.5)\n",
    " \n",
    "plt.xlabel(\"Age in Years\")\n",
    "plt.ylabel(\"Number of Participants\")\n",
    "plt.title(\"Age Group Distribution of Census Participants\")\n",
    "plt.show()"
   ]
  },
  {
   "cell_type": "markdown",
   "id": "2ebd1cd4-2736-490b-b935-23f3c32d4c1a",
   "metadata": {},
   "source": [
    "## Bar chart for the number of records for each occupation"
   ]
  },
  {
   "cell_type": "markdown",
   "id": "71738e74-5d57-4cd2-93ee-d3f0c19488f2",
   "metadata": {},
   "source": [
    "#### Bar chart of occupation according to labels on data in Scotland_teaching_file_1PCT(1)"
   ]
  },
  {
   "cell_type": "code",
   "execution_count": 48,
   "id": "2e0441da-e45b-489c-8436-4411d90e8080",
   "metadata": {},
   "outputs": [
    {
     "data": {
      "image/png": "[encoded data removed]",
      "text/plain": [
       "<Figure size 1000x500 with 1 Axes>"
      ]
     },
     "metadata": {},
     "output_type": "display_data"
    },
    {
     "name": "stdout",
     "output_type": "stream",
     "text": [
      "Bar Chart Key:\n",
      "\t1. Managers, Directors and Senior Officials\t\n",
      "\t2. Professional Occupations\t\n",
      "\t3. Associate Professional and Technical Occupations\t\n",
      "\t4. Administrative and Secretarial Occupations\t\n",
      "\t5. Skilled Trades Occupations\t\n",
      "\t6. Caring, Leisure and Other Service Occupations\t\n",
      "\t7. Sales and Customer Service Occupations\t\n",
      "\t8. Process, Plant and Machine Operatives\t\n",
      "\t9. Elementary Occupations\t\n",
      "\tX. People aged under 16 and people who have never worked\t\n"
     ]
    }
   ],
   "source": [
    "# creating the dataset\n",
    "data = {'1':5662,\n",
    "'2':4602,\n",
    "'3':4316,\n",
    "'4':4097,\n",
    "'5':3818,\n",
    "'6':3363,\n",
    "'7':3351,\n",
    "'8':3052,\n",
    "'9':2858,\n",
    "'X':2394,\n",
    "}\n",
    "\n",
    "occupation_groups = list(data.keys())\n",
    "values = list(data.values())\n",
    "  \n",
    "fig = plt.figure(figsize = (10, 5))\n",
    " \n",
    "# creating the bar plot\n",
    "plt.bar(occupation_groups, values, color ='blue', \n",
    "        width = 0.5)\n",
    " \n",
    "plt.xlabel(\"Occupation Groups\")\n",
    "plt.ylabel(\"Number of Participants\")\n",
    "plt.title(\"Occupation Groups Distribution of Census Participants\")\n",
    "plt.show()\n",
    "\n",
    "#The text was too long to be legible for the barchart using this code. So I printed a key to explain it\n",
    "#I included x but changed the phrasing to remove 'No Code Required' so the bar chart was easier to read\n",
    "print('Bar Chart Key:')\n",
    "print('\t1. Managers, Directors and Senior Officials\t')\n",
    "print('\t2. Professional Occupations\t')\n",
    "print('\t3. Associate Professional and Technical Occupations\t')\n",
    "print('\t4. Administrative and Secretarial Occupations\t')\n",
    "print('\t5. Skilled Trades Occupations\t')\n",
    "print('\t6. Caring, Leisure and Other Service Occupations\t')\n",
    "print('\t7. Sales and Customer Service Occupations\t')\n",
    "print('\t8. Process, Plant and Machine Operatives\t')\n",
    "print('\t9. Elementary Occupations\t')\n",
    "print('\tX. People aged under 16 and people who have never worked\t')\n"
   ]
  }
 ],
 "metadata": {
  "kernelspec": {
   "display_name": "Python 3 (ipykernel)",
   "language": "python",
   "name": "python3"
  },
  "language_info": {
   "codemirror_mode": {
    "name": "ipython",
    "version": 3
   },
   "file_extension": ".py",
   "mimetype": "text/x-python",
   "name": "python",
   "nbconvert_exporter": "python",
   "pygments_lexer": "ipython3",
   "version": "3.12.3"
  }
 },
 "nbformat": 4,
 "nbformat_minor": 5
}
