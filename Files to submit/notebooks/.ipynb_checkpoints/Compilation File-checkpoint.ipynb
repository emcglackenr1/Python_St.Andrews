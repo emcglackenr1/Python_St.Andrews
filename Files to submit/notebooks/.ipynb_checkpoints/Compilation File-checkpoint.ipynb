{
 "cells": [
  {
   "cell_type": "markdown",
   "id": "06a23d50-d22b-44c4-9903-7fd93bd5a8c9",
   "metadata": {},
   "source": [
    "## Refining the dataset"
   ]
  },
  {
   "cell_type": "markdown",
   "id": "7b51c7e4-9602-4542-8ac2-6b8312406037",
   "metadata": {},
   "source": [
    "Version control can be viewed here on Github: https://github.com/emcglackenr1/Python_St.Andrews/tree/main"
   ]
  },
  {
   "cell_type": "code",
   "execution_count": 1,
   "id": "cc362b0e-8ae4-444d-8b73-c591a950b52c",
   "metadata": {},
   "outputs": [],
   "source": [
    "##importing panda and reading the file \n",
    "import pandas as pd\n",
    "df = pd.read_csv('../data/Scotland_teaching_file_1PCT(1).csv')"
   ]
  },
  {
   "cell_type": "code",
   "execution_count": 2,
   "id": "35616918-deb2-4c89-b888-67a44a6d932f",
   "metadata": {},
   "outputs": [
    {
     "name": "stdout",
     "output_type": "stream",
     "text": [
      "{'Record_Number': array([    1,     2,     3, ..., 63386, 63387, 63388], dtype=int64), 'Region': array(['S92000003'], dtype=object), 'RESIDENCE_TYPE': array(['P', 'C'], dtype=object), 'Family_Composition': array(['1', '0', '4', '2', '5', '3', 'X'], dtype=object), 'sex': array([1, 2], dtype=int64), 'age': array([4, 3, 6, 5, 1, 2, 7, 8], dtype=int64), 'Marital_Status': array([2, 1, 4, 3, 5], dtype=int64), 'student': array([2, 1], dtype=int64), 'Country_Of_Birth': array([2, 1], dtype=int64), 'health': array([2, 3, 1, 4, 5], dtype=int64), 'Ethnic_Group': array([1, 2, 4, 3, 6, 5], dtype=int64), 'religion': array([5, 1, 2, 9, 6, 8, 4, 7, 3], dtype=int64), 'Economic_Activity': array(['1', 'X', '5', '6', '9', '4', '2', '7', '3', '8'], dtype=object), 'Occupation': array(['5', '1', '4', '2', '3', '9', 'X', '8', '6', '7'], dtype=object), 'industry': array(['5', '8', '11', '9', 'X', '2', '4', '6', '7', '10', '3', '12',\n",
      "       '13', '1'], dtype=object), 'Hours_Worked_Per_Week': array(['4', '3', '2', 'X', '1'], dtype=object), 'Approximate_Social_Grade': array(['3', '2', '4', 'X', '1'], dtype=object)}\n"
     ]
    }
   ],
   "source": [
    "##Get list of column names\n",
    "get_col = list(pd.read_csv(\"../data/Scotland_teaching_file_1PCT(1).csv\",nrows=1).columns)\n",
    "#print(get_col)\n",
    "unique_values = {col: df[col].unique() for col in get_col}\n",
    "print(unique_values)"
   ]
  },
  {
   "cell_type": "markdown",
   "id": "445c8c27-062a-450c-a6ff-b4aa6d330cc1",
   "metadata": {},
   "source": [
    "### Based on this result, here is the output put onto separate lines to be more legible:\n",
    "You can see the data type and that many are objects."
   ]
  },
  {
   "cell_type": "markdown",
   "id": "cb11ef91-676d-4a98-aadc-9fedd7bba28d",
   "metadata": {},
   "source": [
    "'Record_Number': array([ 1, 2, 3, ..., 63386, 63387, 63388], dtype=int64),\n",
    "\n",
    "'Region': array(['S92000003'], dtype=object),\n",
    "\n",
    "'RESIDENCE_TYPE': array(['P', 'C'], dtype=object),\n",
    "\n",
    "'Family_Composition': array(['1', '0', '4', '2', '5', '3', 'X'], dtype=object),\n",
    "\n",
    "'sex': array([1, 2], dtype=int64),\n",
    "\n",
    "'age': array([4, 3, 6, 5, 1, 2, 7, 8], dtype=int64),\n",
    "\n",
    "'Marital_Status': array([2, 1, 4, 3, 5], dtype=int64),\n",
    "\n",
    "'student': array([2, 1], dtype=int64),\n",
    "\n",
    "'Country_Of_Birth': array([2, 1], dtype=int64),\n",
    "\n",
    "'health': array([2, 3, 1, 4, 5], dtype=int64),\n",
    "\n",
    "'Ethnic_Group': array([1, 2, 4, 3, 6, 5], dtype=int64),\n",
    "\n",
    "'religion': array([5, 1, 2, 9, 6, 8, 4, 7, 3], dtype=int64),\n",
    "\n",
    "'Economic_Activity': array(['1', 'X', '5', '6', '9', '4', '2', '7', '3', '8'], dtype=object),\n",
    "\n",
    "'Occupation': array(['5', '1', '4', '2', '3', '9', 'X', '8', '6', '7'], dtype=object),\n",
    "\n",
    "'industry': array(['5', '8', '11', '9', 'X', '2', '4', '6', '7', '10', '3', '12', '13', '1'], dtype=object),\n",
    "\n",
    "'Hours_Worked_Per_Week': array(['4', '3', '2', 'X', '1'], dtype=object),\n",
    "\n",
    "'Approximate_Social_Grade': array(['3', '2', '4', 'X', '1'], dtype=object)}\n"
   ]
  },
  {
   "cell_type": "markdown",
   "id": "c3446566-f78a-44aa-a78f-5e81d22b78db",
   "metadata": {},
   "source": [
    "#### Outcome: Type of data and unique values in the dataset are now visible"
   ]
  },
  {
   "cell_type": "markdown",
   "id": "6088b548-1aa5-4071-b97e-73a15cc1cee5",
   "metadata": {},
   "source": [
    "## Refining Data Continued \n",
    "### Checking if values of variables are admissible and expected format\n",
    "#### From this part of the assignment guidelines: \n",
    "\n",
    "    develop a procedure to check that the data match expected format, remove duplicates, and perform further refinement. This procedure should ensure that:\n",
    "\n",
    "        1. the values of variables are of the expected format (numbers, strings, etc.);\n",
    "\n",
    "        2. the values of variables are admissible (e.g. are within a given range or are from the list of admissible values);"
   ]
  },
  {
   "cell_type": "code",
   "execution_count": 5,
   "id": "e0eddf3d-a3ec-465f-afea-863a46096e95",
   "metadata": {},
   "outputs": [],
   "source": [
    "import pandas as pd \n",
    "#importing panda to use on dataset"
   ]
  },
  {
   "cell_type": "code",
   "execution_count": 7,
   "id": "b5dd4997-bece-4c25-80c9-bb6f9de346b6",
   "metadata": {},
   "outputs": [],
   "source": [
    "import numpy as np\n",
    "## imported numpy"
   ]
  },
  {
   "cell_type": "markdown",
   "id": "3360add9-bf76-497d-9b37-0c48f60a6f9c",
   "metadata": {},
   "source": [
    "### Converting data to an array so it can be analysed using numpy"
   ]
  },
  {
   "cell_type": "markdown",
   "id": "d773691e-ef7c-4259-ba73-b71d7a46ce09",
   "metadata": {},
   "source": [
    "#### Expected format of data\n",
    "Added manually based on the file 'Teaching_File_Variable_List(1)' "
   ]
  },
  {
   "cell_type": "code",
   "execution_count": 9,
   "id": "fd0e43af-cb01-4ffa-8f37-7888cf3acaba",
   "metadata": {},
   "outputs": [],
   "source": [
    "Record_Number_EF = np.array(list(range(1, 63389)))\n",
    "Region_EF = np.array(['S92000003'])\n",
    "RESIDENCE_TYPE_EF = np.array(['C', 'P'])\n",
    "Family_Composition_EF = np.array(['0', '1', '2', '3', '4', '5', 'X'])\n",
    "sex_EF = np.array([1, 2])\n",
    "age_EF = np.array([1, 2, 3, 4, 5, 6, 7, 8])\n",
    "Marital_Status_EF = np.array([1, 2, 3, 4, 5])\n",
    "student_EF = np.array([1, 2])\n",
    "Country_Of_Birth_EF = np.array([1, 2])\n",
    "health_EF = np.array([1, 2, 3, 4, 5])\n",
    "Ethnic_Group_EF = np.array([1, 2, 4, 3, 5, 6])\n",
    "religion_EF = np.array([1, 2, 3, 4, 5, 6, 7, 8, 9])\n",
    "Economic_Activity_EF = np.array(['1', '2', '3', '4', '5', '6', '7', '8', '9', 'X'])\n",
    "Occupation_EF = np.array(['1', '2', '3', '4', '5', '6', '7', '8', '9', 'X'])\n",
    "industry_EF = np.array(['1', '2', '3', '4', '5', '6', '7', '8', '9', '10', '11', '12', '13', 'X'])\n",
    "Hours_Worked_Per_Week_EF = np.array(['1', '2', '3', '4', 'X'])\n",
    "Approximate_Social_Grade_EF = np.array(['1', '2', '3', '4', 'X'])\n"
   ]
  },
  {
   "cell_type": "markdown",
   "id": "33fccf05-fe62-414e-943c-a9d70420bddd",
   "metadata": {},
   "source": [
    "#### Real data\n",
    "Taken from output of unique values "
   ]
  },
  {
   "cell_type": "code",
   "execution_count": 11,
   "id": "b9e05a15-9593-494e-adb5-18c7dd9318bd",
   "metadata": {},
   "outputs": [],
   "source": [
    "Record_Number_RD = np.array(list(range(1, 63389)))\n",
    "Region_RD = np.array(['S92000003'])\n",
    "RESIDENCE_TYPE_RD = np.array(['P', 'C'])\n",
    "Family_Composition_RD = np.array(['1', '0', '4', '2', '5', '3', 'X'])\n",
    "sex_RD = np.array([1, 2])\n",
    "age_RD = np.array([4, 3, 6, 5, 1, 2, 7, 8])\n",
    "Marital_Status_RD = np.array([2, 1, 4, 3, 5])\n",
    "student_RD = np.array([2, 1])\n",
    "Country_Of_Birth_RD = np.array([2, 1])\n",
    "health_RD = np.array([2, 3, 1, 4, 5])\n",
    "Ethnic_Group_RD = np.array([1, 2, 4, 3, 6, 5])\n",
    "religion_RD = np.array([5, 1, 2, 9, 6, 8, 4, 7, 3])\n",
    "Economic_Activity_RD = np.array(['1', 'X', '5', '6', '9', '4', '2', '7', '3', '8'])\n",
    "Occupation_RD = np.array(['5', '1', '4', '2', '3', '9', 'X', '8', '6', '7'])\n",
    "industry_RD = np.array(['5', '8', '11', '9', 'X', '2', '4', '6', '7', '10', '3', '12', '13', '1'])\n",
    "Hours_Worked_Per_Week_RD = np.array(['4', '3', '2', 'X', '1'])\n",
    "Approximate_Social_Grade_RD = np.array(['3', '2', '4', 'X', '1'])"
   ]
  },
  {
   "cell_type": "code",
   "execution_count": 12,
   "id": "ad647f79-623f-49c5-894e-4090046d65fe",
   "metadata": {},
   "outputs": [
    {
     "name": "stdout",
     "output_type": "stream",
     "text": [
      "Values from dataset that do not match the expected format based on the file Teaching_File_Variable_List(1). Empty square brackets mean the data is the correct format and values\n",
      "Record_Number:\n",
      "[]\n",
      "Region:\n",
      "[]\n",
      "RESIDENCE_TYPE:\n",
      "[]\n",
      "Family_Composition_TYPE:\n",
      "[]\n",
      "sex_TYPE:\n",
      "[]\n",
      "age_TYPE:\n",
      "[]\n",
      "Marital_Status_TYPE:\n",
      "[]\n",
      "student:\n",
      "[]\n",
      "Country_Of_Birth:\n",
      "[]\n",
      "health:\n",
      "[]\n",
      "Ethnic_Group:\n",
      "[]\n",
      "religion:\n",
      "[]\n",
      "Economic_Activity:\n",
      "[]\n",
      "Occupation:\n",
      "[]\n",
      "industry:\n",
      "[]\n",
      "Hours_Worked_Per_Week:\n",
      "[]\n",
      "Approximate_Social_Grade:\n",
      "[]\n"
     ]
    }
   ],
   "source": [
    "#This code compares the expected format of the data to the real data recieved\n",
    "\n",
    "print('Values from dataset that do not match the expected format based on the file Teaching_File_Variable_List(1). Empty square brackets mean the data is the correct format and values')\n",
    "print('Record_Number:')\n",
    "print(np.setdiff1d(Record_Number_EF, Record_Number_RD)) \n",
    "print('Region:')\n",
    "print(np.setdiff1d(Region_EF, Region_RD))\n",
    "print('RESIDENCE_TYPE:')\n",
    "print(np.setdiff1d(RESIDENCE_TYPE_EF, RESIDENCE_TYPE_RD))\n",
    "print('Family_Composition_TYPE:')\n",
    "print(np.setdiff1d(Family_Composition_EF, Family_Composition_RD))\n",
    "print('sex_TYPE:')\n",
    "print(np.setdiff1d(sex_EF, sex_RD))\n",
    "print('age_TYPE:')\n",
    "print(np.setdiff1d(age_EF, age_RD))\n",
    "print('Marital_Status_TYPE:')\n",
    "print(np.setdiff1d(Marital_Status_EF, Marital_Status_RD))\n",
    "print('student:')\n",
    "print(np.setdiff1d(student_EF, student_RD))\n",
    "print('Country_Of_Birth:')\n",
    "print(np.setdiff1d(Country_Of_Birth_EF, Country_Of_Birth_RD))\n",
    "print('health:')\n",
    "print(np.setdiff1d(health_EF, health_RD))\n",
    "print('Ethnic_Group:')\n",
    "print(np.setdiff1d(Ethnic_Group_EF, Ethnic_Group_RD))\n",
    "print('religion:')\n",
    "print(np.setdiff1d(religion_EF, religion_RD))\n",
    "print('Economic_Activity:')\n",
    "print(np.setdiff1d(Economic_Activity_EF, Economic_Activity_RD))\n",
    "print('Occupation:')\n",
    "print(np.setdiff1d(Occupation_EF, Occupation_RD))\n",
    "print('industry:')\n",
    "print(np.setdiff1d(industry_EF, industry_RD))\n",
    "print('Hours_Worked_Per_Week:')\n",
    "print(np.setdiff1d(Hours_Worked_Per_Week_EF, Hours_Worked_Per_Week_RD))\n",
    "print('Approximate_Social_Grade:')\n",
    "print(np.setdiff1d(Approximate_Social_Grade_EF, Approximate_Social_Grade_RD))"
   ]
  },
  {
   "cell_type": "markdown",
   "id": "78d9efbd-9508-4f79-87d4-608d54b5bdbc",
   "metadata": {},
   "source": [
    "#### Outcome: No unexpected values in the dataset"
   ]
  },
  {
   "cell_type": "markdown",
   "id": "f4dfdacf-ea84-4df4-9046-78c5082dd85b",
   "metadata": {},
   "source": [
    "## Remove Duplicates to New File"
   ]
  },
  {
   "cell_type": "markdown",
   "id": "b5943d94-3dca-4d5e-a240-389e40749c48",
   "metadata": {},
   "source": [
    "Column Record_Number not included in analysis, as it is a unique number given to each record, so it would not show duplicates"
   ]
  },
  {
   "cell_type": "code",
   "execution_count": 14,
   "id": "3b7b8c1a-c9d9-4ede-a2c2-548fb11c757b",
   "metadata": {},
   "outputs": [],
   "source": [
    "df = pd.read_csv(\"../data/Scotland_teaching_file_1PCT(1).csv\")\n",
    "\n",
    "input_file = \"../data/Scotland_teaching_file_1PCT(1).csv\"\n",
    "df = pd.read_csv(input_file)\n",
    "output_file = \"../data/Scotland_teaching_file_1PCT_DUPLICATES_REMOVED.csv\" \n",
    "\n",
    "columns = [\"Region\", \"RESIDENCE_TYPE\", \"Family_Composition\", \"sex\", \"age\", \\\n",
    "           \"Marital_Status\", \"student\", \"Country_Of_Birth\", \"health\", \"Ethnic_Group\", \\\n",
    "           \"religion\", \"Economic_Activity\", \"Occupation\", \"industry\", \\\n",
    "           \"Hours_Worked_Per_Week\", \"Approximate_Social_Grade\"]\n",
    "\n",
    "deduplicated_data = df.drop_duplicates(subset=columns, keep=\"first\")\n",
    "\n",
    "dd = pd.DataFrame(deduplicated_data)\n",
    "dd.to_csv(output_file, index=False)"
   ]
  },
  {
   "cell_type": "markdown",
   "id": "b397a02f-86d7-4484-930e-39149ec3d84a",
   "metadata": {},
   "source": [
    "## Descriptive Analysis"
   ]
  },
  {
   "cell_type": "markdown",
   "id": "d09ebb5a-3127-4579-8267-8ee3519f019c",
   "metadata": {},
   "source": [
    "#### Upcoming Tasks\n",
    "perform the descriptive analysis of the dataset:\n",
    "\n",
    "1. Determine the total number of records in the dataset;\n",
    "\n",
    "3. For each variable except “Record_Number” and “Region”, find all different values that it takes, and the number of occurrences for each value\n",
    "\n",
    "Part 2 was already completed above.\n",
    "Part 2 was:\n",
    "  \n",
    "* determine the type of each variable in the dataset - this part was completed above\n"
   ]
  },
  {
   "cell_type": "code",
   "execution_count": null,
   "id": "917e70d8-6768-4fe3-9957-6fe332decd40",
   "metadata": {},
   "outputs": [],
   "source": []
  }
 ],
 "metadata": {
  "kernelspec": {
   "display_name": "Python 3 (ipykernel)",
   "language": "python",
   "name": "python3"
  },
  "language_info": {
   "codemirror_mode": {
    "name": "ipython",
    "version": 3
   },
   "file_extension": ".py",
   "mimetype": "text/x-python",
   "name": "python",
   "nbconvert_exporter": "python",
   "pygments_lexer": "ipython3",
   "version": "3.12.3"
  }
 },
 "nbformat": 4,
 "nbformat_minor": 5
}
