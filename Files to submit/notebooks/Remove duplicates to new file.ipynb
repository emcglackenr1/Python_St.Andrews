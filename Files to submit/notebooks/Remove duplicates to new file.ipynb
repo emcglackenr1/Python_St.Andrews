{
 "cells": [
  {
   "cell_type": "markdown",
   "id": "95419519-2bb8-4f10-a39a-d0e1cf748be5",
   "metadata": {},
   "source": [
    "## Remove duplicates and create a new file without duplicates\n",
    "Column Record_Number not included in analysis, as it is a unique number given to each record, so it would not show duplicates\n"
   ]
  },
  {
   "cell_type": "code",
   "execution_count": 17,
   "id": "9060dbe3-8ee1-4261-b64a-11e3b8792449",
   "metadata": {},
   "outputs": [],
   "source": [
    "df = pd.read_csv(\"../data/Scotland_teaching_file_1PCT(1).csv\")\n",
    "\n",
    "input_file = \"../data/Scotland_teaching_file_1PCT(1).csv\"\n",
    "df = pd.read_csv(input_file)\n",
    "output_file = \"../data/Scotland_teaching_file_1PCT_DUPLICATES_REMOVED.csv\" \n",
    "\n",
    "columns = [\"Region\", \"RESIDENCE_TYPE\", \"Family_Composition\", \"sex\", \"age\", \\\n",
    "           \"Marital_Status\", \"student\", \"Country_Of_Birth\", \"health\", \"Ethnic_Group\", \\\n",
    "           \"religion\", \"Economic_Activity\", \"Occupation\", \"industry\", \\\n",
    "           \"Hours_Worked_Per_Week\", \"Approximate_Social_Grade\"]\n",
    "\n",
    "deduplicated_data = df.drop_duplicates(subset=columns, keep=\"first\")\n",
    "\n",
    "dd = pd.DataFrame(deduplicated_data)\n",
    "dd.to_csv(output_file, index=False)"
   ]
  },
  {
   "cell_type": "code",
   "execution_count": null,
   "id": "a0d40a01-3c01-4d0f-9c6b-ed963fc06c8a",
   "metadata": {},
   "outputs": [],
   "source": []
  },
  {
   "cell_type": "code",
   "execution_count": null,
   "id": "733654ee-a24b-49d9-99b8-29d4e2a8b126",
   "metadata": {},
   "outputs": [],
   "source": []
  }
 ],
 "metadata": {
  "kernelspec": {
   "display_name": "Python 3 (ipykernel)",
   "language": "python",
   "name": "python3"
  },
  "language_info": {
   "codemirror_mode": {
    "name": "ipython",
    "version": 3
   },
   "file_extension": ".py",
   "mimetype": "text/x-python",
   "name": "python",
   "nbconvert_exporter": "python",
   "pygments_lexer": "ipython3",
   "version": "3.12.3"
  }
 },
 "nbformat": 4,
 "nbformat_minor": 5
}
