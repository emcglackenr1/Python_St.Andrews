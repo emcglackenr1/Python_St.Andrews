{
 "cells": [
  {
   "cell_type": "code",
   "execution_count": null,
   "id": "6193c55d-c063-4d7c-ac28-b582783dbb31",
   "metadata": {},
   "outputs": [],
   "source": [
    "Basic Requirements\n",
    "\n",
    "In this assignment, you are asked to do the following:\n",
    "\n",
    "    1. Check the consistency of the initial (raw) data.\n",
    "\n",
    "    2. In case of any inconsistencies, output refined data for further analysis.\n",
    "\n",
    "    3. Provide an executable Python script to automate the two steps above.\n",
    "\n",
    "    4. Carry out certain data analysis and visualisation tasks.\n",
    "\n",
    "    5. Provide a reproducible Jupyter notebook combining your report and data analysis.\n",
    "\n",
    "    6. Organise code with minimal duplication for its reuse in Jupyter notebook(s) and Python scripts.\n",
    "\n",
    "Your project should demonstrate the following characteristics, described in [2]:\n",
    "\n",
    "    1. correctness: your calculations and visualisations should be free from errors and describe the data in an accurate way;\n",
    "\n",
    "    2. repeatability: you should be able to rerun easily the whole procedure from checking the consistency of the raw data to getting the final outcomes on the computer you use to work on the project;\n",
    "\n",
    "    3. replicability: any other researcher, for example, the lecturer evaluating your submission should be able to follow your instructions and replicate it on their machine;\n",
    "\n",
    "    4. reproducibility: it should be easily possible to apply it to another data set with a similar structure (for example, results of the next census) and analyse the same set of metrics;\n",
    "\n",
    "    5. reusability: it should be possible to reuse parts of your code in other settings.\n"
   ]
  }
 ],
 "metadata": {
  "kernelspec": {
   "display_name": "Python 3 (ipykernel)",
   "language": "python",
   "name": "python3"
  },
  "language_info": {
   "codemirror_mode": {
    "name": "ipython",
    "version": 3
   },
   "file_extension": ".py",
   "mimetype": "text/x-python",
   "name": "python",
   "nbconvert_exporter": "python",
   "pygments_lexer": "ipython3",
   "version": "3.12.3"
  }
 },
 "nbformat": 4,
 "nbformat_minor": 5
}
