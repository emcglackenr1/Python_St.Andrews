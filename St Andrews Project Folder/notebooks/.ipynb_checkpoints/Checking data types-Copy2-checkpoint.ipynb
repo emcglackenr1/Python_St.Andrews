{
 "cells": [
  {
   "cell_type": "code",
   "execution_count": 3,
   "id": "e959996d-df35-4da3-90f0-dc971a4e4ee6",
   "metadata": {
    "scrolled": true
   },
   "outputs": [],
   "source": [
    "import pandas as pd\n",
    "df = pd.read_csv('Scotland_teaching_file_1PCT.csv')"
   ]
  },
  {
   "cell_type": "markdown",
   "id": "8d30ecff-a9d3-4592-88a0-c1f84f5ced23",
   "metadata": {},
   "source": [
    "real_data = {\n",
    "    'Record_Number': list(range(1, 63389)),\n",
    "    'Region': ['S92000003'],\n",
    "    'RESIDENCE_TYPE': ['P', 'C'],\n",
    "    'Family_Composition': ['1', '0', '4', '2', '5', '3', 'X'],\n",
    "    'sex': [1, 2],\n",
    "    'age': [4, 3, 6, 5, 1, 2, 7, 8],\n",
    "    'Marital_Status': [2, 1, 4, 3, 5],\n",
    "    'student': [2, 1],\n",
    "    'Country_Of_Birth': [2, 1],\n",
    "    'health': [2, 3, 1, 4, 5],\n",
    "    'Ethnic_Group': [1, 2, 4, 3, 6, 5],\n",
    "    'religion': [5, 1, 2, 9, 6, 8, 4, 7, 3],\n",
    "    'Economic_Activity': ['1', 'X', '5', '6', '9', '4', '2', '7', '3', '8'],\n",
    "    'Occupation': ['5', '1', '4', '2', '3', '9', 'X', '8', '6', '7'],\n",
    "    'industry': ['5', '8', '11', '9', 'X', '2', '4', '6', '7', '10', '3', '12', '13', '1'],\n",
    "    'Hours_Worked_Per_Week': ['4', '3', '2', 'X', '1'],\n",
    "    'Approximate_Social_Grade': ['3', '2', '4', 'X', '1']\n",
    "}"
   ]
  },
  {
   "cell_type": "code",
   "execution_count": 10,
   "id": "87b95af6-7fc1-42b4-ab59-f02034ee6eac",
   "metadata": {},
   "outputs": [],
   "source": [
    "expected_formats = {\n",
    "'Record_Number': list(range(1, 63389)),\n",
    "    'Region': ['S92000003'],\n",
    "    'RESIDENCE_TYPE': ['C', 'P'],\n",
    "    'Family_Composition': ['0', '1', '2', '3', '4', '5', 'X'],\n",
    "    'sex': [1, 2],\n",
    "    'age': [1, 2, 3, 4, 5, 6, 7, 8],\n",
    "    'Marital_Status': [1, 2, 3, 4, 5],\n",
    "    'student': [1, 2],\n",
    "    'Country_Of_Birth': [1, 2],\n",
    "    'health': [1, 2, 3, 4, 5],\n",
    "    'Ethnic_Group': [1, 2, 4, 3, 5, 6],\n",
    "    'religion': [1, 2, 3, 4, 5, 6, 7, 8, 9],\n",
    "    'Economic_Activity': ['1', '2', '3', '4', '5', '6', '7' '8', '9', 'X'],\n",
    "    'Occupation': ['1', '2', '3', '4', '5', '6', '7' '8', '9', 'X'],\n",
    "    'industry': ['1', '2', '3', '4', '5', '6', '7' '8', '9', '10', '11', '12', '13', 'X'],\n",
    "    'Hours_Worked_Per_Week': ['1', '2', '3', '4', 'X'],\n",
    "    'Approximate_Social_Grade': ['1', '2', '3', '4', 'X']\n",
    "}"
   ]
  },
  {
   "cell_type": "code",
   "execution_count": null,
   "id": "98fa2ddb-db4a-4447-9f5e-deac00aacf23",
   "metadata": {},
   "outputs": [],
   "source": [
    "Column 1 of expected_formats = 'Record_Number': referred to as col1_EF\n",
    "Column 1 of real_data = 'Record_Number': referred to as col1_RD"
   ]
  },
  {
   "cell_type": "markdown",
   "id": "e151e55b-4f1d-4ba3-9c52-ef62a9f025ec",
   "metadata": {},
   "source": [
    "col1_EF = np.array({\n",
    "'Record_Number': list(range(1, 63389)),\n",
    "})\n",
    "col1_RD = np.array({\n",
    "    'Record_Number': list(range(1, 63389)),\n",
    "})"
   ]
  },
  {
   "cell_type": "code",
   "execution_count": 18,
   "id": "13357162-aa2b-4940-be5d-f6d75827ea57",
   "metadata": {},
   "outputs": [
    {
     "ename": "SyntaxError",
     "evalue": "invalid syntax. Perhaps you forgot a comma? (54843909.py, line 3)",
     "output_type": "error",
     "traceback": [
      "\u001b[1;36m  Cell \u001b[1;32mIn[18], line 3\u001b[1;36m\u001b[0m\n\u001b[1;33m    col1_EF = np.array({expected_formats{\u001b[0m\n\u001b[1;37m                        ^\u001b[0m\n\u001b[1;31mSyntaxError\u001b[0m\u001b[1;31m:\u001b[0m invalid syntax. Perhaps you forgot a comma?\n"
     ]
    }
   ],
   "source": [
    "import numpy as np\n",
    "\n",
    "col1_EF = np.array({expected_formats{\n",
    "'Record_Number': list(range(1, 63389)),\n",
    "}})\n",
    "col1_RD = np.array(real_data{{\n",
    "    'Record_Number': list(range(1, 63389)),\n",
    "}})\n",
    "\n",
    "print(np.setdiff1d(col1_EF, col1_RD))\n",
    "\n",
    "print(np.setdiff1d(col1_RD, col1_EF))"
   ]
  },
  {
   "cell_type": "code",
   "execution_count": null,
   "id": "122753d5-62b9-4df2-a8d6-d073b7291e3b",
   "metadata": {},
   "outputs": [],
   "source": []
  }
 ],
 "metadata": {
  "kernelspec": {
   "display_name": "Python 3 (ipykernel)",
   "language": "python",
   "name": "python3"
  },
  "language_info": {
   "codemirror_mode": {
    "name": "ipython",
    "version": 3
   },
   "file_extension": ".py",
   "mimetype": "text/x-python",
   "name": "python",
   "nbconvert_exporter": "python",
   "pygments_lexer": "ipython3",
   "version": "3.12.3"
  }
 },
 "nbformat": 4,
 "nbformat_minor": 5
}
