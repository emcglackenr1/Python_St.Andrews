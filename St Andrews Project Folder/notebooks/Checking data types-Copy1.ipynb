{
 "cells": [
  {
   "cell_type": "code",
   "execution_count": 3,
   "id": "e959996d-df35-4da3-90f0-dc971a4e4ee6",
   "metadata": {
    "scrolled": true
   },
   "outputs": [],
   "source": [
    "import pandas as pd\n",
    "df = pd.read_csv('Scotland_teaching_file_1PCT.csv')"
   ]
  },
  {
   "cell_type": "markdown",
   "id": "db23e5df-0b18-4867-8928-0a694d496b68",
   "metadata": {},
   "source": [
    "# Define the expected formats for each column\n",
    "expected_formats = {\n",
    "    'column1': {'A', 'B', 'C'},\n",
    "    'column2': {'big', 'small', 'medium'},\n",
    "    'column3': {1, 2, 3}\n",
    "}\n",
    "\n",
    "# print all data:\n",
    "print(df) \n",
    "\n",
    "To do:\n",
    "Bring in second file, read second file. "
   ]
  },
  {
   "cell_type": "markdown",
   "id": "8d30ecff-a9d3-4592-88a0-c1f84f5ced23",
   "metadata": {},
   "source": [
    "data = {\n",
    "    'Record_Number': list(range(1, 63389)),\n",
    "    'Region': ['S92000003'],\n",
    "    'RESIDENCE_TYPE': ['P', 'C'],\n",
    "    'Family_Composition': ['1', '0', '4', '2', '5', '3', 'X'],\n",
    "    'sex': [1, 2],\n",
    "    'age': [4, 3, 6, 5, 1, 2, 7, 8],\n",
    "    'Marital_Status': [2, 1, 4, 3, 5],\n",
    "    'student': [2, 1],\n",
    "    'Country_Of_Birth': [2, 1],\n",
    "    'health': [2, 3, 1, 4, 5],\n",
    "    'Ethnic_Group': [1, 2, 4, 3, 6, 5],\n",
    "    'religion': [5, 1, 2, 9, 6, 8, 4, 7, 3],\n",
    "    'Economic_Activity': ['1', 'X', '5', '6', '9', '4', '2', '7', '3', '8'],\n",
    "    'Occupation': ['5', '1', '4', '2', '3', '9', 'X', '8', '6', '7'],\n",
    "    'industry': ['5', '8', '11', '9', 'X', '2', '4', '6', '7', '10', '3', '12', '13', '1'],\n",
    "    'Hours_Worked_Per_Week': ['4', '3', '2', 'X', '1'],\n",
    "    'Approximate_Social_Grade': ['3', '2', '4', 'X', '1']\n",
    "}"
   ]
  },
  {
   "cell_type": "code",
   "execution_count": 6,
   "id": "87b95af6-7fc1-42b4-ab59-f02034ee6eac",
   "metadata": {},
   "outputs": [],
   "source": [
    "expected_formats = {\n",
    "'Record_Number': list(range(1, 63389)),\n",
    "    'Region': ['S92000003'],\n",
    "    'RESIDENCE_TYPE': ['P', 'C'],\n",
    "    'Family_Composition': ['1', '0', '4', '2', '5', '3', 'X'],\n",
    "    'sex': [1, 2],\n",
    "    'age': [4, 3, 6, 5, 1, 2, 7, 8],\n",
    "    'Marital_Status': [2, 1, 4, 3, 5],\n",
    "    'student': [2, 1],\n",
    "    'Country_Of_Birth': [2, 1],\n",
    "    'health': [2, 3, 1, 4, 5],\n",
    "    'Ethnic_Group': [1, 2, 4, 3, 6, 5],\n",
    "    'religion': [5, 1, 2, 9, 6, 8, 4, 7, 3],\n",
    "    'Economic_Activity': ['1', 'X', '5', '6', '9', '4', '2', '7', '3', '8'],\n",
    "    'Occupation': ['5', '1', '4', '2', '3', '9', 'X', '8', '6', '7'],\n",
    "    'industry': ['5', '8', '11', '9', 'X', '2', '4', '6', '7', '10', '3', '12', '13', '1'],\n",
    "    'Hours_Worked_Per_Week': ['4', '3', '2', 'X', '1'],\n",
    "    'Approximate_Social_Grade': ['3', '2', '4', 'X', '1']\n",
    "}"
   ]
  },
  {
   "cell_type": "code",
   "execution_count": null,
   "id": "13357162-aa2b-4940-be5d-f6d75827ea57",
   "metadata": {},
   "outputs": [],
   "source": []
  }
 ],
 "metadata": {
  "kernelspec": {
   "display_name": "Python 3 (ipykernel)",
   "language": "python",
   "name": "python3"
  },
  "language_info": {
   "codemirror_mode": {
    "name": "ipython",
    "version": 3
   },
   "file_extension": ".py",
   "mimetype": "text/x-python",
   "name": "python",
   "nbconvert_exporter": "python",
   "pygments_lexer": "ipython3",
   "version": "3.12.3"
  }
 },
 "nbformat": 4,
 "nbformat_minor": 5
}
