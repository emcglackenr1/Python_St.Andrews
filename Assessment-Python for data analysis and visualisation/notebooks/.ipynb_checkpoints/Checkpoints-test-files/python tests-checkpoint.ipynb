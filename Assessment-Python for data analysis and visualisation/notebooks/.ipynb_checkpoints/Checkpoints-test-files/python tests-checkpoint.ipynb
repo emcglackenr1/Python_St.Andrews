{
 "cells": [
  {
   "cell_type": "markdown",
   "id": "62af575d-c726-42d7-bb36-30fbd1a1b96f",
   "metadata": {},
   "source": [
    "# Testing Solutions"
   ]
  },
  {
   "cell_type": "markdown",
   "id": "adbad77a-79aa-43fe-9bb6-6e47e5749d6f",
   "metadata": {},
   "source": [
    "Testing actual solutions to this"
   ]
  },
  {
   "cell_type": "code",
   "execution_count": 13,
   "id": "7ba35a96-d692-4182-8f0b-705eb384f862",
   "metadata": {},
   "outputs": [],
   "source": [
    "import pandas as pd"
   ]
  },
  {
   "cell_type": "code",
   "execution_count": 39,
   "id": "2b76b94d-0d42-47e0-a4ac-b36c5580dcd0",
   "metadata": {},
   "outputs": [],
   "source": [
    "file_name = 'project_data.csv'"
   ]
  },
  {
   "cell_type": "markdown",
   "id": "d05ca199-3374-4039-80dd-7c77d90bc275",
   "metadata": {},
   "source": [
    "data = {'Record_Number': [],\n",
    "'Region': [],\n",
    "'RESIDENCE_TYPE': [],\n",
    "'Family_Composition': [],\n",
    "'sex': [],\n",
    "'age': [],\n",
    "'Marital_Status': [],\n",
    "'student': [],\n",
    "'Country_Of_Birth': [],\n",
    "'health': [],\n",
    "'Ethnic_Group': [],\n",
    "'religion': [],\n",
    "'Economic_Activity': [],\n",
    "'Occupation': [],\n",
    "'industry': [],\n",
    "'Hours_Worked_Per_Week': [],\n",
    "'Approximate_Social_Grade': []\n",
    "       }"
   ]
  },
  {
   "cell_type": "code",
   "execution_count": 108,
   "id": "acc7d2e2-422c-442c-bfe7-26820bb0f9eb",
   "metadata": {},
   "outputs": [],
   "source": [
    "data = {\n",
    "    'Record_Number': list(range(1, 63389)),\n",
    "    'Region': ['S92000003'],\n",
    "    'RESIDENCE_TYPE': ['P', 'C'],\n",
    "    'Family_Composition': ['1', '0', '4', '2', '5', '3', 'X'],\n",
    "    'sex': [1, 2],\n",
    "    'age': [4, 3, 6, 5, 1, 2, 7, 8],\n",
    "    'Marital_Status': [2, 1, 4, 3, 5],\n",
    "    'student': [2, 1],\n",
    "    'Country_Of_Birth': [2, 1],\n",
    "    'health': [2, 3, 1, 4, 5],\n",
    "    'Ethnic_Group': [1, 2, 4, 3, 6, 5],\n",
    "    'religion': [5, 1, 2, 9, 6, 8, 4, 7, 3],\n",
    "    'Economic_Activity': ['1', 'X', '5', '6', '9', '4', '2', '7', '3', '8'],\n",
    "    'Occupation': ['5', '1', '4', '2', '3', '9', 'X', '8', '6', '7'],\n",
    "    'industry': ['5', '8', '11', '9', 'X', '2', '4', '6', '7', '10', '3', '12', '13', '1'],\n",
    "    'Hours_Worked_Per_Week': ['4', '3', '2', 'X', '1'],\n",
    "    'Approximate_Social_Grade': ['3', '2', '4', 'X', '1']\n",
    "}"
   ]
  },
  {
   "cell_type": "code",
   "execution_count": 40,
   "id": "3100e162-1907-4b2a-8d32-896f750c35e0",
   "metadata": {},
   "outputs": [],
   "source": [
    "file_name = 'project_data.csv' \n",
    "df = pd.read_csv(file_name)"
   ]
  },
  {
   "cell_type": "markdown",
   "id": "8343d75d-436a-4f99-9091-ac5b716bf0c6",
   "metadata": {},
   "source": [
    "## Finding unique values\n",
    "I used the code below to figure out the unique values for each column. I copy pasted the name of the column into the code on line 42, one at a time. I took them from the list above called Line 45. I then updated it to create Line 46. I ignored Column 1 Record_Number. When I originally printed Record_Number, this was the output [    1     2     3 ... 63386 63387 63388]\n",
    "\n",
    "This covers part of the assessment: \n",
    "'for each variable except “Record_Number” and “Region”, find all different values that it takes, and the number of occurrences for each value'"
   ]
  },
  {
   "cell_type": "code",
   "execution_count": 124,
   "id": "3f09e796-d3fc-4c3b-a8f6-57c12e3e3554",
   "metadata": {},
   "outputs": [],
   "source": [
    "column_name = 'Family_Composition'"
   ]
  },
  {
   "cell_type": "code",
   "execution_count": 125,
   "id": "78a1ac72-3de5-4bdc-a255-eb5450b3ce24",
   "metadata": {},
   "outputs": [],
   "source": [
    "unique_values = df[column_name].unique()"
   ]
  },
  {
   "cell_type": "code",
   "execution_count": 126,
   "id": "c279f89e-eaa3-4afd-b3a7-53a758e3970c",
   "metadata": {},
   "outputs": [
    {
     "name": "stdout",
     "output_type": "stream",
     "text": [
      "['1' '0' '4' '2' '5' '3' 'X']\n"
     ]
    }
   ],
   "source": [
    "print(unique_values)"
   ]
  },
  {
   "cell_type": "markdown",
   "id": "ab2c0f9d-fea5-4fd2-a343-71c7b2e03f7c",
   "metadata": {},
   "source": [
    "## Finding duplicates\n",
    "Then I used this code to find duplicates"
   ]
  },
  {
   "cell_type": "code",
   "execution_count": 127,
   "id": "b09ca827-f4da-4214-9662-cbbf30d3a233",
   "metadata": {},
   "outputs": [],
   "source": [
    "duplicate_values = df[column_name].duplicated()"
   ]
  },
  {
   "cell_type": "code",
   "execution_count": 128,
   "id": "b68b3a62-f9a7-44ab-8fa5-c51158138639",
   "metadata": {},
   "outputs": [
    {
     "name": "stdout",
     "output_type": "stream",
     "text": [
      "0        False\n",
      "1        False\n",
      "2         True\n",
      "3         True\n",
      "4        False\n",
      "         ...  \n",
      "63383     True\n",
      "63384     True\n",
      "63385     True\n",
      "63386     True\n",
      "63387     True\n",
      "Name: Family_Composition, Length: 63388, dtype: bool\n"
     ]
    }
   ],
   "source": [
    "print(duplicate_values)\n"
   ]
  },
  {
   "cell_type": "code",
   "execution_count": null,
   "id": "d1e64272-cfd0-441a-af8c-b362e77b1f6c",
   "metadata": {},
   "outputs": [],
   "source": []
  }
 ],
 "metadata": {
  "kernelspec": {
   "display_name": "Python 3 (ipykernel)",
   "language": "python",
   "name": "python3"
  },
  "language_info": {
   "codemirror_mode": {
    "name": "ipython",
    "version": 3
   },
   "file_extension": ".py",
   "mimetype": "text/x-python",
   "name": "python",
   "nbconvert_exporter": "python",
   "pygments_lexer": "ipython3",
   "version": "3.12.3"
  }
 },
 "nbformat": 4,
 "nbformat_minor": 5
}
