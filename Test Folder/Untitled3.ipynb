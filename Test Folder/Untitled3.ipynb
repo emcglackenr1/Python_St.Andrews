{
 "cells": [
  {
   "cell_type": "code",
   "execution_count": null,
   "id": "981fa308-42ed-44f1-a904-c42c3ae44d22",
   "metadata": {},
   "outputs": [],
   "source": []
  },
  {
   "cell_type": "code",
   "execution_count": 1,
   "id": "b9746355-5da0-4406-a51f-a3f961f7aa39",
   "metadata": {},
   "outputs": [
    {
     "data": {
      "text/plain": [
       "{'First_Name': ' John Doe',\n",
       " 'Last_Name': ' John Doe',\n",
       " 'Gender': 'Male',\n",
       " 'Phone': '01 9672 0321',\n",
       " 'Occupation': 'Engineer'}"
      ]
     },
     "execution_count": 1,
     "metadata": {},
     "output_type": "execute_result"
    }
   ],
   "source": [
    ">>> d1 = { \"Name\": \" John Doe\", \"Gender\": \"Male\", \"Phone\": \"01 9672 0321\", \"Occupation\": \"Engineer\",\n",
    "}\n",
    ">>> d2 = { \"First_Name\": \"Name\", \"Last_Name\": \"Name\", \"Gender\": \"Gender\", \"Phone\": \"Phone\", \"Occupation\": \"Occupation\", }\n",
    ">>> {k: d1[v] for k, v in d2.items()}\n",
    "{'First_Name': ' John Doe', 'Last_Name': ' John Doe', 'Gender': 'Male', 'Phone': '01 9672 0321', 'Occupation': 'Engineer'}"
   ]
  },
  {
   "cell_type": "code",
   "execution_count": null,
   "id": "9e10f882-8ee7-4692-abb5-34d152a74681",
   "metadata": {},
   "outputs": [],
   "source": [
    ">>> d1 = { \"Name\": \" John Doe\", \"Gender\": \"Male\", \"Phone\": \"01 9672 0321\", \"Occupation\": \"Engineer\",\n",
    "}\n",
    ">>> d2 = { \"First_Name\": \"Name\", \"Last_Name\": \"Name\", \"Gender\": \"Gender\", \"Phone\": \"Phone\", \"Occupation\": \"Occupation\", }\n",
    ">>> {k: d1[v] for k, v in d2.items()}\n",
    "{'First_Name': ' John Doe', 'Last_Name': ' John Doe', 'Gender': 'Male', 'Phone': '01 9672 0321', 'Occupation': 'Engineer'}"
   ]
  }
 ],
 "metadata": {
  "kernelspec": {
   "display_name": "Python 3 (ipykernel)",
   "language": "python",
   "name": "python3"
  },
  "language_info": {
   "codemirror_mode": {
    "name": "ipython",
    "version": 3
   },
   "file_extension": ".py",
   "mimetype": "text/x-python",
   "name": "python",
   "nbconvert_exporter": "python",
   "pygments_lexer": "ipython3",
   "version": "3.12.3"
  }
 },
 "nbformat": 4,
 "nbformat_minor": 5
}
