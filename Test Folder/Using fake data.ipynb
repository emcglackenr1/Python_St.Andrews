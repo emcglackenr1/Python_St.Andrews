{
 "cells": [
  {
   "cell_type": "markdown",
   "id": "62af575d-c726-42d7-bb36-30fbd1a1b96f",
   "metadata": {},
   "source": [
    "# Testing Solutions"
   ]
  },
  {
   "cell_type": "markdown",
   "id": "adbad77a-79aa-43fe-9bb6-6e47e5749d6f",
   "metadata": {},
   "source": [
    "Testing actual solutions to this"
   ]
  },
  {
   "cell_type": "code",
   "execution_count": 1,
   "id": "7ba35a96-d692-4182-8f0b-705eb384f862",
   "metadata": {},
   "outputs": [],
   "source": [
    "import pandas as pd\n",
    "import numpy as n"
   ]
  },
  {
   "cell_type": "code",
   "execution_count": 2,
   "id": "2b76b94d-0d42-47e0-a4ac-b36c5580dcd0",
   "metadata": {},
   "outputs": [],
   "source": [
    "file_name = 'Test data to compare variables.csv'"
   ]
  },
  {
   "cell_type": "code",
   "execution_count": 3,
   "id": "080ffc38-c860-4c08-a7bd-137538c39135",
   "metadata": {},
   "outputs": [],
   "source": [
    "df = pd.read_csv('Test data to compare variables.csv')"
   ]
  },
  {
   "cell_type": "code",
   "execution_count": 4,
   "id": "3100e162-1907-4b2a-8d32-896f750c35e0",
   "metadata": {},
   "outputs": [],
   "source": [
    "file_name = 'Test data to compare variables.csv' \n",
    "df = pd.read_csv(file_name)"
   ]
  },
  {
   "cell_type": "code",
   "execution_count": 5,
   "id": "be532c96-2198-4051-84bb-b4f30801d6ba",
   "metadata": {},
   "outputs": [],
   "source": [
    "col1 = 'Colour'\n",
    "col2 = 'Animal'\n",
    "col3 = 'Food'\n",
    "col4 = 'Number'"
   ]
  },
  {
   "cell_type": "code",
   "execution_count": 6,
   "id": "6b374890-6e6f-4e50-9b16-05335c1a6afa",
   "metadata": {},
   "outputs": [
    {
     "name": "stdout",
     "output_type": "stream",
     "text": [
      "{'Colour': array(['Red', 'Black', 'Brown', 'White', 'Green', 'Other'], dtype=object), 'Animal': array(['Panda', 'Cow', 'Rabbit', 'Lizard', 'Starling', 'Other'],\n",
      "      dtype=object), 'Food': array(['Leaves', 'Bamboo', 'Grass', 'Insects', 'Other'], dtype=object), 'Number': array([3, 2, 4, 1, 5, 0], dtype=int64)}\n"
     ]
    }
   ],
   "source": [
    "unique_values = {col: df[col].unique() for col in [col1 ,\tcol2 ,\tcol3 ,\tcol4\n",
    "]}\n",
    "print(unique_values)"
   ]
  },
  {
   "cell_type": "code",
   "execution_count": 7,
   "id": "775df475-e464-4ce0-95c7-a29e1bde3f6a",
   "metadata": {},
   "outputs": [
    {
     "name": "stdout",
     "output_type": "stream",
     "text": [
      "{'Colour': array(['Red', 'Black', 'Brown', 'White', 'Green', 'Other'], dtype=object), 'Animal': array(['Panda', 'Cow', 'Rabbit', 'Lizard', 'Starling', 'Other'],\n",
      "      dtype=object), 'Food': array(['Leaves', 'Bamboo', 'Grass', 'Insects', 'Other'], dtype=object), 'Number': array([3, 2, 4, 1, 5, 0], dtype=int64)}\n"
     ]
    }
   ],
   "source": [
    "print(unique_values)"
   ]
  },
  {
   "cell_type": "code",
   "execution_count": 8,
   "id": "bc3ff291-43b6-4853-9033-ed12d1eb552d",
   "metadata": {},
   "outputs": [],
   "source": [
    "guidefile_name = 'Test Data Guidance.csv' \n",
    "df = pd.read_csv(guidefile_name)"
   ]
  },
  {
   "cell_type": "code",
   "execution_count": 9,
   "id": "f0217b9e-6707-4d9a-b882-b21f2b871b0b",
   "metadata": {},
   "outputs": [],
   "source": [
    "colA = 'Colour'\n",
    "colB = 'Animal'\n",
    "colC = 'Food'\n",
    "colD = 'Number'"
   ]
  },
  {
   "cell_type": "code",
   "execution_count": 10,
   "id": "521d811d-d26b-4af5-89a7-78462c4cabfb",
   "metadata": {},
   "outputs": [
    {
     "name": "stdout",
     "output_type": "stream",
     "text": [
      "{'Colour': array(['Red', 'Black', 'Green', 'Brown', 'White'], dtype=object), 'Animal': array(['Panda', 'Cow', 'Rabbit', 'Lizard', 'Starling'], dtype=object), 'Food': array(['Leaves', 'Bamboo', 'Grass', 'Insects', nan], dtype=object), 'Number': array([1, 2, 3, 4, 5], dtype=int64)}\n"
     ]
    }
   ],
   "source": [
    "unique_values = {col: df[col].unique() for col in [colA,\tcolB ,\tcolC ,\tcolD\n",
    "]}\n",
    "print(unique_values)"
   ]
  },
  {
   "cell_type": "code",
   "execution_count": 12,
   "id": "805c291c-adf5-4c71-b77c-069c952232a3",
   "metadata": {},
   "outputs": [
    {
     "name": "stdout",
     "output_type": "stream",
     "text": [
      "[]\n",
      "['Other']\n"
     ]
    }
   ],
   "source": [
    "import numpy as np\n",
    "\n",
    "colA = np.array(['Red', 'Black', 'Green', 'Brown', 'White'])\n",
    "col1 = np.array(['Red', 'Black', 'Brown', 'White', 'Green', 'Other'])\n",
    "\n",
    "print(np.setdiff1d(colA, col1))\n",
    "\n",
    "print(np.setdiff1d(col1, colA))"
   ]
  },
  {
   "cell_type": "code",
   "execution_count": 22,
   "id": "f5004029-7851-49c8-94a0-64db140c93d8",
   "metadata": {},
   "outputs": [
    {
     "name": "stdout",
     "output_type": "stream",
     "text": [
      "[]\n",
      "extra variable:\n",
      "['Other']\n"
     ]
    }
   ],
   "source": [
    "print(np.setdiff1d(colA, col1))\n",
    "\n",
    "print ('extra variable:')\n",
    "#the variable printed is from the first set mentioned\n",
    "print(np.setdiff1d(col1, colA))"
   ]
  },
  {
   "cell_type": "code",
   "execution_count": 23,
   "id": "2c83b42a-9734-41ed-a3af-1ef21a1c9036",
   "metadata": {},
   "outputs": [
    {
     "data": {
      "text/plain": [
       "numpy.ndarray"
      ]
     },
     "execution_count": 23,
     "metadata": {},
     "output_type": "execute_result"
    }
   ],
   "source": [
    "type(colA)\n"
   ]
  },
  {
   "cell_type": "code",
   "execution_count": null,
   "id": "d5c20d80-d48a-4b38-affb-785bc1e81f90",
   "metadata": {},
   "outputs": [],
   "source": []
  }
 ],
 "metadata": {
  "kernelspec": {
   "display_name": "Python 3 (ipykernel)",
   "language": "python",
   "name": "python3"
  },
  "language_info": {
   "codemirror_mode": {
    "name": "ipython",
    "version": 3
   },
   "file_extension": ".py",
   "mimetype": "text/x-python",
   "name": "python",
   "nbconvert_exporter": "python",
   "pygments_lexer": "ipython3",
   "version": "3.12.3"
  }
 },
 "nbformat": 4,
 "nbformat_minor": 5
}
