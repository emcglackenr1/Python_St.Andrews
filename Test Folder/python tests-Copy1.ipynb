{
 "cells": [
  {
   "cell_type": "markdown",
   "id": "62af575d-c726-42d7-bb36-30fbd1a1b96f",
   "metadata": {},
   "source": [
    "# Testing Solutions"
   ]
  },
  {
   "cell_type": "markdown",
   "id": "adbad77a-79aa-43fe-9bb6-6e47e5749d6f",
   "metadata": {},
   "source": [
    "Testing actual solutions to this"
   ]
  },
  {
   "cell_type": "code",
   "execution_count": 1,
   "id": "7ba35a96-d692-4182-8f0b-705eb384f862",
   "metadata": {},
   "outputs": [],
   "source": [
    "import pandas as pd"
   ]
  },
  {
   "cell_type": "code",
   "execution_count": 2,
   "id": "2b76b94d-0d42-47e0-a4ac-b36c5580dcd0",
   "metadata": {},
   "outputs": [],
   "source": [
    "file_name = 'project_data.csv'"
   ]
  },
  {
   "cell_type": "code",
   "execution_count": 3,
   "id": "080ffc38-c860-4c08-a7bd-137538c39135",
   "metadata": {},
   "outputs": [],
   "source": [
    "df = pd.read_csv('project_data.csv')"
   ]
  },
  {
   "cell_type": "markdown",
   "id": "d05ca199-3374-4039-80dd-7c77d90bc275",
   "metadata": {},
   "source": [
    "data = {'Record_Number': [],\n",
    "'Region': [],\n",
    "'RESIDENCE_TYPE': [],\n",
    "'Family_Composition': [],\n",
    "'sex': [],\n",
    "'age': [],\n",
    "'Marital_Status': [],\n",
    "'student': [],\n",
    "'Country_Of_Birth': [],\n",
    "'health': [],\n",
    "'Ethnic_Group': [],\n",
    "'religion': [],\n",
    "'Economic_Activity': [],\n",
    "'Occupation': [],\n",
    "'industry': [],\n",
    "'Hours_Worked_Per_Week': [],\n",
    "'Approximate_Social_Grade': []\n",
    "       }"
   ]
  },
  {
   "cell_type": "markdown",
   "id": "aa28cbcc-a92a-4cd9-b127-f642671fdee9",
   "metadata": {},
   "source": [
    "data = {\n",
    "    'Record_Number': list(range(1, 63389)),\n",
    "    'Region': ['S92000003'],\n",
    "    'RESIDENCE_TYPE': ['P', 'C'],\n",
    "    'Family_Composition': ['1', '0', '4', '2', '5', '3', 'X'],\n",
    "    'sex': [1, 2],\n",
    "    'age': [4, 3, 6, 5, 1, 2, 7, 8],\n",
    "    'Marital_Status': [2, 1, 4, 3, 5],\n",
    "    'student': [2, 1],\n",
    "    'Country_Of_Birth': [2, 1],\n",
    "    'health': [2, 3, 1, 4, 5],\n",
    "    'Ethnic_Group': [1, 2, 4, 3, 6, 5],\n",
    "    'religion': [5, 1, 2, 9, 6, 8, 4, 7, 3],\n",
    "    'Economic_Activity': ['1', 'X', '5', '6', '9', '4', '2', '7', '3', '8'],\n",
    "    'Occupation': ['5', '1', '4', '2', '3', '9', 'X', '8', '6', '7'],\n",
    "    'industry': ['5', '8', '11', '9', 'X', '2', '4', '6', '7', '10', '3', '12', '13', '1'],\n",
    "    'Hours_Worked_Per_Week': ['4', '3', '2', 'X', '1'],\n",
    "    'Approximate_Social_Grade': ['3', '2', '4', 'X', '1']\n",
    "}"
   ]
  },
  {
   "cell_type": "code",
   "execution_count": 4,
   "id": "3100e162-1907-4b2a-8d32-896f750c35e0",
   "metadata": {},
   "outputs": [],
   "source": [
    "file_name = 'project_data.csv' \n",
    "df = pd.read_csv(file_name)"
   ]
  },
  {
   "cell_type": "markdown",
   "id": "d4c288c7-ef9e-4696-86e1-e1686fc8ec81",
   "metadata": {},
   "source": [
    "column_1 = 'Record_Number'\n",
    "column_2 = \n",
    "\n",
    "{'Record_Number': [], 'Region': [], 'RESIDENCE_TYPE': [], 'Family_Composition': [], 'sex': [], 'age': [], 'Marital_Status': [], 'student': [], 'Country_Of_Birth': [], 'health': [], 'Ethnic_Group': [], 'religion': [], 'Economic_Activity': [], 'Occupation': [], 'industry': [], 'Hours_Worked_Per_Week': [], 'Approximate_Social_Grade': [] }"
   ]
  },
  {
   "cell_type": "markdown",
   "id": "eee3ecde-98af-48af-b0f6-7369a74703e7",
   "metadata": {},
   "source": [
    "unique_values = df[column_name].unique()"
   ]
  },
  {
   "cell_type": "markdown",
   "id": "9266dcb5-96b9-4764-a338-3caf30d531fa",
   "metadata": {},
   "source": [
    "print(unique_values)"
   ]
  },
  {
   "cell_type": "code",
   "execution_count": 23,
   "id": "c7e2ca20-a198-4f99-b2cd-817063b14409",
   "metadata": {},
   "outputs": [
    {
     "name": "stdout",
     "output_type": "stream",
     "text": [
      "{'Record_Number': array([    1,     2,     3, ..., 63386, 63387, 63388], dtype=int64), 'Region': array(['S92000003'], dtype=object), 'RESIDENCE_TYPE': array(['P', 'C'], dtype=object), 'Family_Composition': array(['1', '0', '4', '2', '5', '3', 'X'], dtype=object), 'sex': array([1, 2], dtype=int64), 'age': array([4, 3, 6, 5, 1, 2, 7, 8], dtype=int64), 'Marital_Status': array([2, 1, 4, 3, 5], dtype=int64), 'student': array([2, 1], dtype=int64), 'Country_Of_Birth': array([2, 1], dtype=int64), 'health': array([2, 3, 1, 4, 5], dtype=int64), 'Ethnic_Group': array([1, 2, 4, 3, 6, 5], dtype=int64), 'religion': array([5, 1, 2, 9, 6, 8, 4, 7, 3], dtype=int64), 'Economic_Activity': array(['1', 'X', '5', '6', '9', '4', '2', '7', '3', '8'], dtype=object), 'Occupation': array(['5', '1', '4', '2', '3', '9', 'X', '8', '6', '7'], dtype=object), 'industry': array(['5', '8', '11', '9', 'X', '2', '4', '6', '7', '10', '3', '12',\n",
      "       '13', '1'], dtype=object), 'Hours_Worked_Per_Week': array(['4', '3', '2', 'X', '1'], dtype=object), 'Approximate_Social_Grade': array(['3', '2', '4', 'X', '1'], dtype=object)}\n"
     ]
    }
   ],
   "source": [
    "col1 = 'Record_Number' \n",
    "col2 = 'Region'\n",
    "col3 = 'RESIDENCE_TYPE'\n",
    "col4 = 'Family_Composition'\n",
    "col5 = 'sex'\n",
    "col6 = 'age'\n",
    "col7 = 'Marital_Status'\n",
    "col8 = 'student'\n",
    "col9 = 'Country_Of_Birth'\n",
    "col10 = 'health'\n",
    "col11 = 'Ethnic_Group'\n",
    "col12 = 'religion'\n",
    "col13 = 'Economic_Activity'\n",
    "col14 = 'Occupation'\n",
    "col15 = 'industry'\n",
    "col16 = 'Hours_Worked_Per_Week'\n",
    "col17 = 'Approximate_Social_Grade'\n",
    "\n",
    "unique_values = {col: df[col].unique() for col in [col1 ,\tcol2 ,\tcol3 ,\tcol4 ,\tcol5,\tcol6,\tcol7,\tcol8,\tcol9,\tcol10,\tcol11,\tcol12,\tcol13,\tcol14,\tcol15,\tcol16,\tcol17,\n",
    "]}\n",
    "print(unique_values)\n"
   ]
  },
  {
   "cell_type": "code",
   "execution_count": 24,
   "id": "567b000c-3fb8-4b24-83a2-831b0d24f00d",
   "metadata": {},
   "outputs": [],
   "source": [
    "file2_name = 'Teaching_File_Variable_List(1).csv' "
   ]
  },
  {
   "cell_type": "code",
   "execution_count": 27,
   "id": "ed583c26-d9ab-4d09-92ca-7461681cedcf",
   "metadata": {},
   "outputs": [],
   "source": [
    "df = pd.read_csv(file2_name)"
   ]
  },
  {
   "cell_type": "code",
   "execution_count": 33,
   "id": "7005ca22-b2b6-4e90-a043-5cc1dd17ac5a",
   "metadata": {},
   "outputs": [],
   "source": [
    "a, b = 'project_data.csv', 'Teaching_File_Variable_List(1).csv'"
   ]
  },
  {
   "cell_type": "code",
   "execution_count": 40,
   "id": "dcb9baec-6021-4a54-8dd6-d4c7553dcd0b",
   "metadata": {},
   "outputs": [
    {
     "ename": "KeyError",
     "evalue": "'Record_Number'",
     "output_type": "error",
     "traceback": [
      "\u001b[1;31m---------------------------------------------------------------------------\u001b[0m",
      "\u001b[1;31mKeyError\u001b[0m                                  Traceback (most recent call last)",
      "File \u001b[1;32m~\\AppData\\Roaming\\Python\\Python312\\site-packages\\pandas\\core\\indexes\\base.py:3805\u001b[0m, in \u001b[0;36mIndex.get_loc\u001b[1;34m(self, key)\u001b[0m\n\u001b[0;32m   3804\u001b[0m \u001b[38;5;28;01mtry\u001b[39;00m:\n\u001b[1;32m-> 3805\u001b[0m     \u001b[38;5;28;01mreturn\u001b[39;00m \u001b[38;5;28;43mself\u001b[39;49m\u001b[38;5;241;43m.\u001b[39;49m\u001b[43m_engine\u001b[49m\u001b[38;5;241;43m.\u001b[39;49m\u001b[43mget_loc\u001b[49m\u001b[43m(\u001b[49m\u001b[43mcasted_key\u001b[49m\u001b[43m)\u001b[49m\n\u001b[0;32m   3806\u001b[0m \u001b[38;5;28;01mexcept\u001b[39;00m \u001b[38;5;167;01mKeyError\u001b[39;00m \u001b[38;5;28;01mas\u001b[39;00m err:\n",
      "File \u001b[1;32mindex.pyx:167\u001b[0m, in \u001b[0;36mpandas._libs.index.IndexEngine.get_loc\u001b[1;34m()\u001b[0m\n",
      "File \u001b[1;32mindex.pyx:196\u001b[0m, in \u001b[0;36mpandas._libs.index.IndexEngine.get_loc\u001b[1;34m()\u001b[0m\n",
      "File \u001b[1;32mpandas\\\\_libs\\\\hashtable_class_helper.pxi:7081\u001b[0m, in \u001b[0;36mpandas._libs.hashtable.PyObjectHashTable.get_item\u001b[1;34m()\u001b[0m\n",
      "File \u001b[1;32mpandas\\\\_libs\\\\hashtable_class_helper.pxi:7089\u001b[0m, in \u001b[0;36mpandas._libs.hashtable.PyObjectHashTable.get_item\u001b[1;34m()\u001b[0m\n",
      "\u001b[1;31mKeyError\u001b[0m: 'Record_Number'",
      "\nThe above exception was the direct cause of the following exception:\n",
      "\u001b[1;31mKeyError\u001b[0m                                  Traceback (most recent call last)",
      "Cell \u001b[1;32mIn[40], line 1\u001b[0m\n\u001b[1;32m----> 1\u001b[0m unique_values \u001b[38;5;241m=\u001b[39m {col: \u001b[43mdf\u001b[49m\u001b[43m[\u001b[49m\u001b[43mcol\u001b[49m\u001b[43m]\u001b[49m\u001b[38;5;241m.\u001b[39munique() \u001b[38;5;28;01mfor\u001b[39;00m col \u001b[38;5;129;01min\u001b[39;00m [col1 ,\tcol2 ,\tcol3 ,\tcol4 ,\tcol5,\tcol6,\tcol7,\tcol8,\tcol9,\tcol10,\tcol11,\tcol12,\tcol13,\tcol14,\tcol15,\tcol16,\tcol17,\n\u001b[0;32m      2\u001b[0m ]}\n\u001b[0;32m      3\u001b[0m \u001b[38;5;28mprint\u001b[39m(unique_values)\n",
      "File \u001b[1;32m~\\AppData\\Roaming\\Python\\Python312\\site-packages\\pandas\\core\\frame.py:4102\u001b[0m, in \u001b[0;36mDataFrame.__getitem__\u001b[1;34m(self, key)\u001b[0m\n\u001b[0;32m   4100\u001b[0m \u001b[38;5;28;01mif\u001b[39;00m \u001b[38;5;28mself\u001b[39m\u001b[38;5;241m.\u001b[39mcolumns\u001b[38;5;241m.\u001b[39mnlevels \u001b[38;5;241m>\u001b[39m \u001b[38;5;241m1\u001b[39m:\n\u001b[0;32m   4101\u001b[0m     \u001b[38;5;28;01mreturn\u001b[39;00m \u001b[38;5;28mself\u001b[39m\u001b[38;5;241m.\u001b[39m_getitem_multilevel(key)\n\u001b[1;32m-> 4102\u001b[0m indexer \u001b[38;5;241m=\u001b[39m \u001b[38;5;28;43mself\u001b[39;49m\u001b[38;5;241;43m.\u001b[39;49m\u001b[43mcolumns\u001b[49m\u001b[38;5;241;43m.\u001b[39;49m\u001b[43mget_loc\u001b[49m\u001b[43m(\u001b[49m\u001b[43mkey\u001b[49m\u001b[43m)\u001b[49m\n\u001b[0;32m   4103\u001b[0m \u001b[38;5;28;01mif\u001b[39;00m is_integer(indexer):\n\u001b[0;32m   4104\u001b[0m     indexer \u001b[38;5;241m=\u001b[39m [indexer]\n",
      "File \u001b[1;32m~\\AppData\\Roaming\\Python\\Python312\\site-packages\\pandas\\core\\indexes\\base.py:3812\u001b[0m, in \u001b[0;36mIndex.get_loc\u001b[1;34m(self, key)\u001b[0m\n\u001b[0;32m   3807\u001b[0m     \u001b[38;5;28;01mif\u001b[39;00m \u001b[38;5;28misinstance\u001b[39m(casted_key, \u001b[38;5;28mslice\u001b[39m) \u001b[38;5;129;01mor\u001b[39;00m (\n\u001b[0;32m   3808\u001b[0m         \u001b[38;5;28misinstance\u001b[39m(casted_key, abc\u001b[38;5;241m.\u001b[39mIterable)\n\u001b[0;32m   3809\u001b[0m         \u001b[38;5;129;01mand\u001b[39;00m \u001b[38;5;28many\u001b[39m(\u001b[38;5;28misinstance\u001b[39m(x, \u001b[38;5;28mslice\u001b[39m) \u001b[38;5;28;01mfor\u001b[39;00m x \u001b[38;5;129;01min\u001b[39;00m casted_key)\n\u001b[0;32m   3810\u001b[0m     ):\n\u001b[0;32m   3811\u001b[0m         \u001b[38;5;28;01mraise\u001b[39;00m InvalidIndexError(key)\n\u001b[1;32m-> 3812\u001b[0m     \u001b[38;5;28;01mraise\u001b[39;00m \u001b[38;5;167;01mKeyError\u001b[39;00m(key) \u001b[38;5;28;01mfrom\u001b[39;00m \u001b[38;5;21;01merr\u001b[39;00m\n\u001b[0;32m   3813\u001b[0m \u001b[38;5;28;01mexcept\u001b[39;00m \u001b[38;5;167;01mTypeError\u001b[39;00m:\n\u001b[0;32m   3814\u001b[0m     \u001b[38;5;66;03m# If we have a listlike key, _check_indexing_error will raise\u001b[39;00m\n\u001b[0;32m   3815\u001b[0m     \u001b[38;5;66;03m#  InvalidIndexError. Otherwise we fall through and re-raise\u001b[39;00m\n\u001b[0;32m   3816\u001b[0m     \u001b[38;5;66;03m#  the TypeError.\u001b[39;00m\n\u001b[0;32m   3817\u001b[0m     \u001b[38;5;28mself\u001b[39m\u001b[38;5;241m.\u001b[39m_check_indexing_error(key)\n",
      "\u001b[1;31mKeyError\u001b[0m: 'Record_Number'"
     ]
    }
   ],
   "source": [
    "unique_values = {col: df[col].unique() for col in [col1 ,\tcol2 ,\tcol3 ,\tcol4 ,\tcol5,\tcol6,\tcol7,\tcol8,\tcol9,\tcol10,\tcol11,\tcol12,\tcol13,\tcol14,\tcol15,\tcol16,\tcol17,\n",
    "]}\n",
    "print(unique_values)\n"
   ]
  },
  {
   "cell_type": "markdown",
   "id": "db2ad415-dc99-4070-becd-2e3d2bd8a1af",
   "metadata": {},
   "source": [
    "with open(\"project_data.csv\") as f: # open the file as f\n",
    "    text = f.read().split('\\n')[1] # get the contents of the file then cut just the second line from it\n",
    "    a = text.split(',')[5] # spliting the string by ',' to an array then getting the 6th element"
   ]
  },
  {
   "cell_type": "markdown",
   "id": "2a41160d-35fc-45c2-92bc-dc49e87a3123",
   "metadata": {},
   "source": [
    "with open(\"Teaching_File_Variable_List(1).csv\") as f:\n",
    "    text = f.read().split('\\n')[1]\n",
    "    b = text.split(',')[1]"
   ]
  },
  {
   "cell_type": "markdown",
   "id": "e21b412e-001b-4a69-a651-43144730b3d4",
   "metadata": {},
   "source": [
    "if a == b:\n",
    "    print(\"The data is the same!\")\n",
    "else:\n",
    "    print(\"The data is different...\")"
   ]
  },
  {
   "cell_type": "code",
   "execution_count": null,
   "id": "bc3ff291-43b6-4853-9033-ed12d1eb552d",
   "metadata": {},
   "outputs": [],
   "source": []
  }
 ],
 "metadata": {
  "kernelspec": {
   "display_name": "Python 3 (ipykernel)",
   "language": "python",
   "name": "python3"
  },
  "language_info": {
   "codemirror_mode": {
    "name": "ipython",
    "version": 3
   },
   "file_extension": ".py",
   "mimetype": "text/x-python",
   "name": "python",
   "nbconvert_exporter": "python",
   "pygments_lexer": "ipython3",
   "version": "3.12.3"
  }
 },
 "nbformat": 4,
 "nbformat_minor": 5
}
