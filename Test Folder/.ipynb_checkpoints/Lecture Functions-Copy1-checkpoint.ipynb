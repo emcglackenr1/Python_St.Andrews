{
 "cells": [
  {
   "cell_type": "markdown",
   "id": "62af575d-c726-42d7-bb36-30fbd1a1b96f",
   "metadata": {},
   "source": [
    "# Functions Lecture - exercises before functions\n",
    "This can be used for the final project to determine if the code is valid!!"
   ]
  },
  {
   "cell_type": "markdown",
   "id": "2f50455a-cce7-4f87-948d-d4aa14696785",
   "metadata": {},
   "source": [
    "[Link to lecture](https://st-andrews.instructure.com/courses/265/pages/structure-percent-3a-functions?module_item_id=1933)\n",
    "converting F to C temperature"
   ]
  },
  {
   "cell_type": "code",
   "execution_count": 2,
   "id": "3dfefb73-e775-482c-a5f2-5afe82225aec",
   "metadata": {},
   "outputs": [
    {
     "name": "stdout",
     "output_type": "stream",
     "text": [
      "21.11111111111111\n"
     ]
    }
   ],
   "source": [
    "temp_f = 70\n",
    "temp_c = ((temp_f - 32) * (5/9))\n",
    "print(temp_c)"
   ]
  },
  {
   "cell_type": "markdown",
   "id": "adbad77a-79aa-43fe-9bb6-6e47e5749d6f",
   "metadata": {},
   "source": [
    "We know about different types now. Why don't we check if C is an interger.\n",
    "If its a string it will break "
   ]
  },
  {
   "cell_type": "code",
   "execution_count": 6,
   "id": "67e10cbf-5746-4ab4-844e-69ac047a4a4a",
   "metadata": {},
   "outputs": [
    {
     "name": "stdout",
     "output_type": "stream",
     "text": [
      "21.11111111111111\n"
     ]
    }
   ],
   "source": [
    "temp_f = 70\n",
    "if type(temp_f) is not int:\n",
    "    temp_c = \"Not a number\"\n",
    "else:\n",
    "    temp_c = ((temp_f - 32) * (5/9))\n",
    "print(temp_c)"
   ]
  },
  {
   "cell_type": "code",
   "execution_count": 10,
   "id": "90450cd9-d23b-4d4d-9671-88038d1b5323",
   "metadata": {},
   "outputs": [
    {
     "name": "stdout",
     "output_type": "stream",
     "text": [
      "Not a string\n"
     ]
    }
   ],
   "source": [
    "temp_f = 70\n",
    "if type(temp_f) is not str:\n",
    "    temp_c = \"Not a string\"\n",
    "else:\n",
    "    temp_c = ((temp_f - 32) * (5/9))\n",
    "print(temp_c)"
   ]
  },
  {
   "cell_type": "code",
   "execution_count": 11,
   "id": "8c4fde1a-18d9-4713-a85f-7cb5e0c60faf",
   "metadata": {},
   "outputs": [
    {
     "name": "stdout",
     "output_type": "stream",
     "text": [
      "21.11111111111111\n"
     ]
    }
   ],
   "source": [
    "temp_f = 70\n",
    "if type(temp_f) is not int:\n",
    "    temp_c = \"Not a number\"\n",
    "elif temp_f < -459.67:\n",
    "    temp_c = \"Too cold!\"\n",
    "else:\n",
    "    temp_c = ((temp_f - 32) * (5/9))\n",
    "print(temp_c)"
   ]
  },
  {
   "cell_type": "code",
   "execution_count": null,
   "id": "55450734-be57-451f-9e41-939844a8ad09",
   "metadata": {},
   "outputs": [],
   "source": []
  }
 ],
 "metadata": {
  "kernelspec": {
   "display_name": "Python 3 (ipykernel)",
   "language": "python",
   "name": "python3"
  },
  "language_info": {
   "codemirror_mode": {
    "name": "ipython",
    "version": 3
   },
   "file_extension": ".py",
   "mimetype": "text/x-python",
   "name": "python",
   "nbconvert_exporter": "python",
   "pygments_lexer": "ipython3",
   "version": "3.12.3"
  }
 },
 "nbformat": 4,
 "nbformat_minor": 5
}
